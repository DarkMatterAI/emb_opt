{
 "cells": [
  {
   "cell_type": "markdown",
   "metadata": {},
   "source": [
    "# faiss\n",
    "\n",
    "> faiss backend API"
   ]
  },
  {
   "cell_type": "code",
   "execution_count": null,
   "metadata": {},
   "outputs": [],
   "source": [
    "#| default_exp backends.faiss"
   ]
  },
  {
   "cell_type": "code",
   "execution_count": null,
   "metadata": {},
   "outputs": [],
   "source": [
    "#| hide\n",
    "from nbdev.showdoc import *\n",
    "%load_ext autoreload\n",
    "%autoreload 2"
   ]
  },
  {
   "cell_type": "code",
   "execution_count": null,
   "metadata": {},
   "outputs": [
    {
     "name": "stderr",
     "output_type": "stream",
     "text": [
      "/home/dmai/miniconda3/envs/emb_opt/lib/python3.9/site-packages/tqdm/auto.py:21: TqdmWarning: IProgress not found. Please update jupyter and ipywidgets. See https://ipywidgets.readthedocs.io/en/stable/user_install.html\n",
      "  from .autonotebook import tqdm as notebook_tqdm\n"
     ]
    }
   ],
   "source": [
    "#| export\n",
    "from emb_opt.imports import *\n",
    "from emb_opt.core import QueryResult, VectorDatabase, dataset_from_query_results\n",
    "try:\n",
    "    import faiss\n",
    "except:\n",
    "    warnings.warn('faiss import failed - check if package is installed')"
   ]
  },
  {
   "cell_type": "markdown",
   "metadata": {},
   "source": [
    "## Faiss Backend\n",
    "\n",
    "`FaissDatabase` integrates with a [faiss](https://github.com/facebookresearch/faiss) index.\n",
    "\n",
    "`search_params` can be any params object compatible with faiss `search`"
   ]
  },
  {
   "cell_type": "code",
   "execution_count": null,
   "metadata": {},
   "outputs": [],
   "source": [
    "#| export\n",
    "\n",
    "class FaissDatabase(VectorDatabase):\n",
    "    'Faiss backend'\n",
    "    def __init__(self, \n",
    "                 faiss_index: faiss.Index, # faiss index to query\n",
    "                 k: int, # query will return `k` values per query vector\n",
    "                 search_params: Optional[faiss.SearchParameters]=None # search params for `faiss_index.search`\n",
    "                ):\n",
    "        \n",
    "        self.faiss_index = faiss_index\n",
    "        self.k = k\n",
    "        self.search_params = search_params\n",
    "        \n",
    "    def query(self, query_vectors: np.ndarray) -> Dataset:\n",
    "        distances, indices = self.faiss_index.search(query_vectors, self.k, params=self.search_params)\n",
    "        \n",
    "        n_queries, n_results = indices.shape\n",
    "        \n",
    "        results = []\n",
    "        for query_idx in range(n_queries):\n",
    "            embeddings = self.faiss_index.reconstruct_batch(indices[query_idx])\n",
    "            \n",
    "            for result_idx in range(n_results):\n",
    "                db_idx = indices[query_idx, result_idx]\n",
    "                embedding = embeddings[result_idx]\n",
    "                distance = distances[query_idx, result_idx]\n",
    "                \n",
    "                if db_idx != -1:\n",
    "                    result = QueryResult(query_idx, db_idx, embedding, distance, {})\n",
    "                    results.append(result)\n",
    "                \n",
    "        return dataset_from_query_results(results)"
   ]
  },
  {
   "cell_type": "code",
   "execution_count": null,
   "metadata": {},
   "outputs": [],
   "source": [
    "vectors = np.random.randn(64, 256)\n",
    "index = faiss.IndexFlatL2(256)\n",
    "index.add(vectors)\n",
    "faiss_db = FaissDatabase(index, 5)\n",
    "\n",
    "query_vecs = np.random.randn(2, 256)\n",
    "\n",
    "query_dataset = faiss_db.query(query_vecs)"
   ]
  },
  {
   "cell_type": "code",
   "execution_count": null,
   "metadata": {},
   "outputs": [],
   "source": []
  },
  {
   "cell_type": "code",
   "execution_count": null,
   "metadata": {},
   "outputs": [],
   "source": [
    "#| hide\n",
    "import nbdev; nbdev.nbdev_export()"
   ]
  },
  {
   "cell_type": "code",
   "execution_count": null,
   "metadata": {},
   "outputs": [],
   "source": []
  }
 ],
 "metadata": {
  "kernelspec": {
   "display_name": "emb_opt",
   "language": "python",
   "name": "emb_opt"
  }
 },
 "nbformat": 4,
 "nbformat_minor": 4
}
