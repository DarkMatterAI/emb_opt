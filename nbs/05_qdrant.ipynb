{
 "cells": [
  {
   "cell_type": "markdown",
   "metadata": {},
   "source": [
    "# qdrant\n",
    "\n",
    "> qdrant backend API"
   ]
  },
  {
   "cell_type": "code",
   "execution_count": null,
   "metadata": {},
   "outputs": [],
   "source": [
    "#| default_exp backends.qdrant"
   ]
  },
  {
   "cell_type": "code",
   "execution_count": null,
   "metadata": {},
   "outputs": [],
   "source": [
    "#| hide\n",
    "from nbdev.showdoc import *\n",
    "%load_ext autoreload\n",
    "%autoreload 2"
   ]
  },
  {
   "cell_type": "code",
   "execution_count": null,
   "metadata": {},
   "outputs": [
    {
     "name": "stderr",
     "output_type": "stream",
     "text": [
      "/home/dmai/miniconda3/envs/emb_opt/lib/python3.9/site-packages/tqdm/auto.py:21: TqdmWarning: IProgress not found. Please update jupyter and ipywidgets. See https://ipywidgets.readthedocs.io/en/stable/user_install.html\n",
      "  from .autonotebook import tqdm as notebook_tqdm\n"
     ]
    }
   ],
   "source": [
    "#| export\n",
    "from emb_opt.imports import *\n",
    "from emb_opt.core import QueryResult, VectorDatabase, dataset_from_query_results\n",
    "\n",
    "try:\n",
    "    from qdrant_client import QdrantClient\n",
    "    from qdrant_client.http import models\n",
    "except:\n",
    "    warnings.warn('Failed to import Qdrant client - check package install')"
   ]
  },
  {
   "cell_type": "markdown",
   "metadata": {},
   "source": [
    "## Qdrant\n",
    "\n",
    "`QdrantDatabase` integrates with a [Qdrant](https://qdrant.tech/) database. `search_request_kwargs` can be any valid inputs to a Qdrant [SearchRequest](https://qdrant.tech/documentation/search/#batch-search-api)"
   ]
  },
  {
   "cell_type": "code",
   "execution_count": null,
   "metadata": {},
   "outputs": [],
   "source": [
    "#| export\n",
    "\n",
    "class QdrantDatabase(VectorDatabase):\n",
    "    'Qdrant backend'\n",
    "    def __init__(self,\n",
    "                 qdrant_client: QdrantClient, # qdrant client\n",
    "                 collection_name: str, # qdrant collection name\n",
    "                 k: int, # return `k` results per query\n",
    "                 search_request_kwargs: Optional[dict]=None # kwargs for `SearchRequest`\n",
    "                ):\n",
    "        self.client = qdrant_client\n",
    "        self.collection_name = collection_name\n",
    "        self.k = k\n",
    "        self.search_request_kwargs = search_request_kwargs if search_request_kwargs else {}\n",
    "    \n",
    "    def query(self, query_vectors: np.ndarray) -> Dataset:\n",
    "        \n",
    "        search_queries = [\n",
    "                models.SearchRequest(vector=list(i), \n",
    "                                     limit=self.k, \n",
    "                                     with_payload=True, \n",
    "                                     with_vector=True,\n",
    "                                     **self.search_request_kwargs\n",
    "                                    ) \n",
    "                for i in query_vectors\n",
    "                    ]\n",
    "        \n",
    "        res = self.client.search_batch(\n",
    "            collection_name=self.collection_name,\n",
    "            requests=search_queries\n",
    "        )\n",
    "        \n",
    "        results = []\n",
    "        for query_idx, result_batch in enumerate(res):\n",
    "            for point in result_batch:\n",
    "                result = QueryResult(query_idx, \n",
    "                                     point.id, \n",
    "                                     point.vector, \n",
    "                                     point.score, point.payload)\n",
    "                \n",
    "                results.append(result)\n",
    "        \n",
    "        return dataset_from_query_results(results)"
   ]
  },
  {
   "cell_type": "code",
   "execution_count": null,
   "metadata": {},
   "outputs": [],
   "source": []
  },
  {
   "cell_type": "code",
   "execution_count": null,
   "metadata": {},
   "outputs": [],
   "source": [
    "#|eval: false\n",
    "\n",
    "client = QdrantClient(host=\"localhost\", port=6444)\n",
    "\n",
    "res = client.retrieve(\n",
    "    collection_name=\"zinc\",\n",
    "    ids=[0, 100, 1000],\n",
    "    with_vectors=True\n",
    ")\n",
    "query_vecs = np.array([i.vector for i in res])\n",
    "\n",
    "qdrant_db = QdrantDatabase(client, 'zinc', 10)\n",
    "\n",
    "search_filter = models.Filter(\n",
    "    must=[\n",
    "            models.FieldCondition(\n",
    "            key=\"preds\",\n",
    "            range=models.Range(\n",
    "                gt=None,\n",
    "                gte=None,\n",
    "                lt=None,\n",
    "                lte=6.0,\n",
    "            ),\n",
    "        )\n",
    "    ]\n",
    ")\n",
    "\n",
    "qdrant_db = QdrantDatabase(client, 'zinc', 10, {'filter' : search_filter})\n",
    "\n",
    "res = qdrant_db.query(query_vecs)"
   ]
  },
  {
   "cell_type": "code",
   "execution_count": null,
   "metadata": {},
   "outputs": [],
   "source": []
  },
  {
   "cell_type": "code",
   "execution_count": null,
   "metadata": {},
   "outputs": [],
   "source": [
    "#| hide\n",
    "import nbdev; nbdev.nbdev_export()"
   ]
  },
  {
   "cell_type": "code",
   "execution_count": null,
   "metadata": {},
   "outputs": [],
   "source": []
  }
 ],
 "metadata": {
  "kernelspec": {
   "display_name": "emb_opt",
   "language": "python",
   "name": "emb_opt"
  }
 },
 "nbformat": 4,
 "nbformat_minor": 4
}
