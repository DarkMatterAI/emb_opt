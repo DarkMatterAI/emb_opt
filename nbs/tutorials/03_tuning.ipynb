{
 "cells": [
  {
   "cell_type": "markdown",
   "metadata": {},
   "source": [
    "# Tuning\n",
    "\n",
    "> Tips on tuning search runs"
   ]
  },
  {
   "cell_type": "markdown",
   "metadata": {},
   "source": [
    "## KNN Convergence\n",
    "\n",
    "Updating with a KNN method (`TopKDiscreteUpdate`, `TopKContinuousUpdate`) can result in slow convergence. This is because your effective step size is constrained by the maximum distance between your query and your query results.\n",
    "\n",
    "For example, if you are querying a dense embedding space and returning the 10 nearest embeddings, the distance between your query embedding and result embeddings will be quite small. Running a KNN-style update on close embeddings results in small update steps.\n",
    "\n",
    "This can be fixed by returning a larger number of query results. As a downsize, this requires more compute from your `Filter` and `Score` steps. If this is prohibitive, consider another update method"
   ]
  },
  {
   "cell_type": "markdown",
   "metadata": {},
   "source": [
    "## RL Update Divergence\n",
    "\n",
    "When using a gradient based update method (`RLUpdate`), you may observe a failure mode where your query embeddings overshoot your embedding space. This can be detected by monitoring distances between queries and query results. This is a sign that your RL learning rate is too high, or your RL distance penalty is too low. It may also be worth implementing an RL `Update` method using more sophisticated optimization algorithms or learning rate schedules."
   ]
  },
  {
   "cell_type": "markdown",
   "metadata": {},
   "source": [
    "## Best of Both Worlds: Grad Queries with KNN Updates\n",
    "\n",
    "The above problems with KNN updates and RL updates can be simultaneously remedied using gradient queries (see `UpdatePluginGradientWrapper` and `DataPluginGradWrapper`). With this setup, we use a score gradient to generate multiple queries, but update with a KNN method.\n",
    "\n",
    "This allows us to be very aggressive with our gradient query, sweeping a large range of learning rates and intentionally overshooting our embedding space. The KNN update then ensures that our new queries are pulled back into the embedding space."
   ]
  },
  {
   "cell_type": "code",
   "execution_count": null,
   "metadata": {},
   "outputs": [],
   "source": []
  },
  {
   "cell_type": "code",
   "execution_count": null,
   "metadata": {},
   "outputs": [],
   "source": []
  },
  {
   "cell_type": "code",
   "execution_count": null,
   "metadata": {},
   "outputs": [],
   "source": []
  },
  {
   "cell_type": "code",
   "execution_count": null,
   "metadata": {},
   "outputs": [],
   "source": []
  }
 ],
 "metadata": {
  "kernelspec": {
   "display_name": "emb_opt",
   "language": "python",
   "name": "emb_opt"
  }
 },
 "nbformat": 4,
 "nbformat_minor": 4
}
