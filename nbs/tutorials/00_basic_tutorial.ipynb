{
 "cells": [
  {
   "cell_type": "markdown",
   "metadata": {},
   "source": [
    "# Basic Tutorial\n",
    "\n",
    "> The main abstractions in `emb_opt` and how to use them"
   ]
  },
  {
   "cell_type": "markdown",
   "metadata": {},
   "source": [
    "## Overview\n",
    "\n",
    "The goal of `emb_opt` is to use hill climbing to find high scoring items (defined by some score function) in a vector database without exhaustive screening of the database itself.\n",
    "\n",
    "`emb_opt` takes advantage of the inherent structure present in embedding spaces. Starting with random points, we can use reinforcement learning to traverse the vector space to move from low scoring items to high scoring items.\n",
    "\n",
    "This notebook gives an overview of the main abstractions in `emb_opt` and how they fit together."
   ]
  },
  {
   "cell_type": "code",
   "execution_count": null,
   "metadata": {},
   "outputs": [
    {
     "name": "stderr",
     "output_type": "stream",
     "text": [
      "/home/dmai/miniconda3/envs/emb_opt/lib/python3.9/site-packages/tqdm/auto.py:21: TqdmWarning: IProgress not found. Please update jupyter and ipywidgets. See https://ipywidgets.readthedocs.io/en/stable/user_install.html\n",
      "  from .autonotebook import tqdm as notebook_tqdm\n"
     ]
    }
   ],
   "source": [
    "from emb_opt.imports import *\n",
    "from emb_opt.schemas import Query, Item, Batch\n",
    "\n",
    "import string\n",
    "from datasets import Dataset\n",
    "\n",
    "import matplotlib.pyplot as plt"
   ]
  },
  {
   "cell_type": "markdown",
   "metadata": {},
   "source": [
    "## Setup\n",
    "\n",
    "First we need a vector database to query. Since this is a simple example notebook, we will work off a set of random vectors.\n",
    "\n",
    "We will use the [Datasets](https://huggingface.co/docs/datasets/index) library to hold our vectors and build our index.\n",
    "\n",
    "Our dataset will contain the following columns:\n",
    "* `index` - the ID of each item\n",
    "* `item` - the specific thing each embedding represents (in this case a random text string)\n",
    "* `rand` - a random number we will use for filtering\n",
    "* `embedding` - the embedding itself"
   ]
  },
  {
   "cell_type": "code",
   "execution_count": null,
   "metadata": {},
   "outputs": [
    {
     "name": "stderr",
     "output_type": "stream",
     "text": [
      "100%|█████████████████████████████████████████| 10/10 [00:00<00:00, 1101.59it/s]\n"
     ]
    },
    {
     "data": {
      "text/plain": [
       "Dataset({\n",
       "    features: ['index', 'item', 'rand', 'embedding'],\n",
       "    num_rows: 10000\n",
       "})"
      ]
     },
     "execution_count": null,
     "metadata": {},
     "output_type": "execute_result"
    }
   ],
   "source": [
    "n_vectors = 10000\n",
    "size = 64\n",
    "\n",
    "np.random.seed(42)\n",
    "vectors = np.random.randn(n_vectors, size)\n",
    "\n",
    "vector_data = [{\n",
    "                'index' : i,\n",
    "                'item' : ''.join(np.random.choice([i for i in string.ascii_lowercase], size=10).tolist()),\n",
    "                'rand' : np.random.rand(),\n",
    "                'embedding' : vectors[i]\n",
    "            } for i in range(n_vectors)]\n",
    "\n",
    "vector_dataset = Dataset.from_list(vector_data)\n",
    "vector_dataset.add_faiss_index('embedding')"
   ]
  },
  {
   "cell_type": "markdown",
   "metadata": {},
   "source": [
    "## Data Models\n",
    "\n",
    "`emb_opt` uses Pydantic data models to standardize inputs and outputs of various modules. Here we introduce several relevant data models.\n",
    "\n",
    "### Item Data Model\n",
    "\n",
    "The `Item` data model is the standard format for something returned from a vector database\n",
    "\n",
    "```python\n",
    "class Item(BaseModel):\n",
    "    id: Optional[Union[str, int]] # id/index of item\n",
    "    item: Optional[Any]           # the item itself\n",
    "    embedding: List[float]        # embedding representing the item\n",
    "    score: Optional[float]        # item score\n",
    "    data: Optional[dict]          # any other associated data\n",
    "```\n",
    "\n",
    "* `Item.id` is expected to be unique\n",
    "* `Item.item` is the object associated with the embedding. This field is optional, allowing for working purely in embedding space\n",
    "* `Item.embedding` is the item's embedding\n",
    "* `Item.score` is the item's score, which will be computed at a later point\n",
    "* `Item.data` is a dictionary of any other associated data\n",
    "\n",
    "\n",
    "### Query Data Model\n",
    "\n",
    "The `Query` data model is the standard format for making a query to a vector database\n",
    "\n",
    "```python\n",
    "class Query(BaseModel, extra='allow'):\n",
    "    item: Optional[Any]                  # Optional item associated with query\n",
    "    embedding: List[float]               # Query embedding\n",
    "    data: Optional[dict]                 # data associated with the query\n",
    "    query_results: Optional[list[Item]]  # list of `Item` query results\n",
    "```\n",
    "\n",
    "* `Query.item` is the object associated with the embedding. If the `Query` is created from a specific `Item`, this field will be populated with `Item.item`. If the `Query` is a pure embedding query (ie created by averaging embeddings or a similar embedding-space process), `Query.item` will be `None`\n",
    "* `Query.embedding` is the query embedding\n",
    "* `Query.data` is a dictionary of any data related to the query\n",
    "* `Query.query_results` is a list of `Item` results returned by the query"
   ]
  },
  {
   "cell_type": "markdown",
   "metadata": {},
   "source": [
    "## Data Source\n",
    "\n",
    "Now we need to convert our vector database into a format compatible with `emb_opt`. To integrate a data source, it must be compatible with the `DataSourceFunction` data model:\n",
    "\n",
    "```python\n",
    "DataSourceFunction = Callable[List[Query], List[DataSourceResponse]]\n",
    "\n",
    "class DataSourceResponse(BaseModel):\n",
    "    valid: bool                # if input `Query` was valid (if False, associated `Query` is removed)\n",
    "    data: Optional[Dict]       # optional dict of data associated with the query\n",
    "    query_results: List[Item]  # list of `Item` results\n",
    "```\n",
    "\n",
    "For more details, see the `DataSourcePlugin` documentation.\n",
    "\n",
    "Our dataset is a Huggingface dataset, so we will use the `HugggingfaceDataPlugin` class from the plugins library. `emb_opt` currently supports data plugins for [faiss](https://github.com/facebookresearch/faiss), [Qdrant](https://qdrant.tech/), and [Huggingface Datasets](https://huggingface.co/docs/datasets/index)."
   ]
  },
  {
   "cell_type": "code",
   "execution_count": null,
   "metadata": {},
   "outputs": [],
   "source": [
    "from emb_opt.plugins.huggingface import HugggingfaceDataPlugin"
   ]
  },
  {
   "cell_type": "code",
   "execution_count": null,
   "metadata": {},
   "outputs": [],
   "source": [
    "k = 10 # return 10 items per query\n",
    "\n",
    "data_plugin = HugggingfaceDataPlugin(k=k, \n",
    "                                     dataset=vector_dataset, \n",
    "                                     index_name='embedding', \n",
    "                                     item_key='item', \n",
    "                                     id_key='index', \n",
    "                                     distance_cutoff=None\n",
    "                                    )"
   ]
  },
  {
   "cell_type": "markdown",
   "metadata": {},
   "source": [
    "## Score Function\n",
    "\n",
    "This is the score we want to maximize. To be compatible with `emb_opt`, the score function must be compatible with the `ScoreFunction` data model: \n",
    "\n",
    "```python\n",
    "ScoreFunction = Callable[List[Item], List[ScoreResponse]]\n",
    "\n",
    "class ScoreResponse(BaseModel):\n",
    "    valid: bool             # if the input `Item` is valid (if False, associated `Item` is removed)\n",
    "    score: Optional[float]  # the score of the input `Item`. Can be `None` if `valid=False`\n",
    "    data: Optional[Dict]    # optional dict of data associated with the score response\n",
    "```\n",
    "\n",
    "For more details, see the `ScorePlugin` documentation.\n",
    "\n",
    "For our score function, we will use a function that has a maxima at the point `[0.75, 0.75, ... 0.75]` and a score value that decays exponentially with respect to distance from that point.\n",
    "\n",
    "`score_embeddings` will compute the score using numpy arrays, and `score_plugin` will wrap this function to make the inputs and outputs compatible with the `ScoreFunction` data model"
   ]
  },
  {
   "cell_type": "code",
   "execution_count": null,
   "metadata": {},
   "outputs": [],
   "source": [
    "from emb_opt.schemas import ScoreResponse"
   ]
  },
  {
   "cell_type": "code",
   "execution_count": null,
   "metadata": {},
   "outputs": [],
   "source": [
    "def score_embeddings(embeddings: np.ndarray, sigma: float=5.) -> np.ndarray:\n",
    "    target_point = np.ones(embeddings.shape[1])*.75\n",
    "    \n",
    "    distances = np.linalg.norm(embeddings - target_point, axis=1) / np.sqrt(embeddings.shape[1])\n",
    "    \n",
    "    scores = np.exp(-0.5 * (distances/sigma)**2)\n",
    "        \n",
    "    return scores\n",
    "\n",
    "def score_plugin(inputs: List[Item]) -> List[ScoreResponse]:\n",
    "    embeddings = np.array([i.embedding for i in inputs])\n",
    "    scores = score_embeddings(embeddings)    \n",
    "    results = [ScoreResponse(valid=True, score=i, data=None) for i in scores]\n",
    "    return results"
   ]
  },
  {
   "cell_type": "markdown",
   "metadata": {},
   "source": [
    "## Filter Function\n",
    "\n",
    "In some cases, we may wish to filter scores prior to scoring. We can implement filtering directly in the score function using the `ScoreResponse.valid` field, but it may be more efficient to separate the steps as filtering before scoring allows us to removed items that fail the filter and rebatch only valid items for scoring.\n",
    "\n",
    "Filter functions are defined by the `FilterFunction` data model\n",
    "\n",
    "```python\n",
    "FilterFunction = Callable[List[Item], List[FilterResponse]]\n",
    "\n",
    "class FilterResponse(BaseModel):\n",
    "    valid: bool           # if the input `Item` is valid (if False, associated `Item` is removed)\n",
    "    data: Optional[Dict]  # optional dict of data associated with the filter response\n",
    "```\n",
    "\n",
    "For more details, see the `FilterPlugin` documentation.\n",
    "\n",
    "When we generated our dataset, we added a `rand` column containing a random value between 0 and 1. As an example filter function, we will reject any item where `rand >= 0.9`"
   ]
  },
  {
   "cell_type": "code",
   "execution_count": null,
   "metadata": {},
   "outputs": [],
   "source": [
    "from emb_opt.schemas import FilterResponse"
   ]
  },
  {
   "cell_type": "code",
   "execution_count": null,
   "metadata": {},
   "outputs": [],
   "source": [
    "def filter_plugin(inputs: List[Item]) -> List[FilterResponse]:\n",
    "    return [FilterResponse(valid=i.data['rand']<0.9, data={'rand':i.data['rand']}) for i in inputs]"
   ]
  },
  {
   "cell_type": "markdown",
   "metadata": {},
   "source": [
    "## Update Function\n",
    "\n",
    "After filtering and scoring, every `Query` will have a list of query result `Item` objects that have been scored. The update step uses this information to generate a new query.\n",
    "\n",
    "We can use any update method that corresponds to the `UpdateFunction` data model\n",
    "\n",
    "```python\n",
    "UpdateFunction = Callable[List[Query], List[UpdateResponse]]\n",
    "\n",
    "class UpdateResponse(BaseModel):\n",
    "    query: Query                # the new `Query`\n",
    "    parent_id: Optional[str]    # optional parent query ID, used for tracking query progression\n",
    "```\n",
    "\n",
    "For this example, we will use reinforcement learning to estimate the gradient of the query based on the scored results, and use gradient descent to update."
   ]
  },
  {
   "cell_type": "code",
   "execution_count": null,
   "metadata": {},
   "outputs": [],
   "source": [
    "from emb_opt.update import RLUpdate"
   ]
  },
  {
   "cell_type": "code",
   "execution_count": null,
   "metadata": {},
   "outputs": [],
   "source": [
    "update_plugin = RLUpdate(lrs=[.25], distance_penalty=0.)"
   ]
  },
  {
   "cell_type": "markdown",
   "metadata": {},
   "source": [
    "## Runner\n",
    "\n",
    "The `Runner` class holds all these objects together and executes the search. The search algorithm follows:\n",
    "1. Query the data source\n",
    "2. Filter results\n",
    "3. Score results\n",
    "4. Use scores to create new queries"
   ]
  },
  {
   "cell_type": "code",
   "execution_count": null,
   "metadata": {},
   "outputs": [],
   "source": [
    "from emb_opt.runner import Runner"
   ]
  },
  {
   "cell_type": "code",
   "execution_count": null,
   "metadata": {},
   "outputs": [],
   "source": [
    "# the `None` keyword corresponds to a prune plugin, which is explained in another tutorial\n",
    "runner = Runner(data_plugin, filter_plugin, score_plugin, None, update_plugin)"
   ]
  },
  {
   "cell_type": "markdown",
   "metadata": {},
   "source": [
    "## Initialize\n",
    "\n",
    "We start with 5 random query embeddings. These are converted into a `Batch` using the `build_batch_from_embeddings` function. The `Batch` data model holds a list of embeddings, with several helper functions for iterating over queries and query results"
   ]
  },
  {
   "cell_type": "code",
   "execution_count": null,
   "metadata": {},
   "outputs": [],
   "source": [
    "from emb_opt.utils import build_batch_from_embeddings"
   ]
  },
  {
   "cell_type": "code",
   "execution_count": null,
   "metadata": {},
   "outputs": [],
   "source": [
    "n_queries = 5\n",
    "np.random.seed(40)\n",
    "initial_queries = np.random.randn(n_queries, size)\n",
    "\n",
    "input_batch = build_batch_from_embeddings(initial_queries)"
   ]
  },
  {
   "cell_type": "markdown",
   "metadata": {},
   "source": [
    "## Run\n",
    "\n",
    "Running the input batch generates `output_batch`, the result of the final `update` step, and `search_log`, which contains all the found results"
   ]
  },
  {
   "cell_type": "code",
   "execution_count": null,
   "metadata": {},
   "outputs": [
    {
     "name": "stdout",
     "output_type": "stream",
     "text": [
      "0 0.97 0.97 0.97 0.97 0.98\n",
      "1 0.98 0.97 0.98 0.97 0.98\n",
      "2 0.98 0.97 0.98 0.97 0.98\n",
      "3 0.98 0.98 0.98 0.97 0.98\n",
      "4 0.98 0.98 0.98 0.97 0.98\n",
      "5 0.98 0.98 0.98 0.98 0.98\n",
      "6 0.98 0.98 0.98 0.98 0.98\n",
      "7 0.98 0.98 0.98 0.98 0.98\n",
      "8 0.98 0.98 0.98 0.98 0.98\n",
      "9 0.98 0.98 0.98 0.98 0.98\n",
      "10 0.98 0.98 0.98 0.98 0.98\n",
      "11 0.98 0.98 0.98 0.98 0.98\n",
      "12 0.98 0.98 0.98 0.98 0.98\n",
      "13 0.98 0.98 0.98 0.98 0.98\n",
      "14 0.98 0.98 0.98 0.98 0.98\n"
     ]
    }
   ],
   "source": [
    "output_batch, search_log = runner.search(input_batch, 15)"
   ]
  },
  {
   "cell_type": "markdown",
   "metadata": {},
   "source": [
    "## Eval\n",
    "\n",
    "Now we want to evaluate the outputs. First we need the ground truth from our dataset"
   ]
  },
  {
   "cell_type": "code",
   "execution_count": null,
   "metadata": {},
   "outputs": [
    {
     "name": "stderr",
     "output_type": "stream",
     "text": [
      "                                                                                \r"
     ]
    }
   ],
   "source": [
    "ground_truth = vector_dataset.map(lambda row: \n",
    "                            {'score' : float(score_embeddings(np.array(row['embedding'])[None]))})\n",
    "ground_truth = ground_truth.filter(lambda row: row['rand']<0.9)\n",
    "ground_truth = ground_truth.sort('score', reverse=True)"
   ]
  },
  {
   "cell_type": "markdown",
   "metadata": {},
   "source": [
    "Now we'll grab the results from the `search_log`"
   ]
  },
  {
   "cell_type": "code",
   "execution_count": null,
   "metadata": {},
   "outputs": [
    {
     "data": {
      "text/plain": [
       "186"
      ]
     },
     "execution_count": null,
     "metadata": {},
     "output_type": "execute_result"
    }
   ],
   "source": [
    "results = search_log.compile_results(skip_removed=False)\n",
    "len(results)"
   ]
  },
  {
   "cell_type": "markdown",
   "metadata": {},
   "source": [
    "The search log contains 186 items. This represents a 1.8% screening of the total search space.\n",
    "\n",
    "Now we'll look at the fraction of top k ground truth items recovered.\n",
    "\n",
    "We can see the queries successfully found the top scoring result, but only 40% of the top 10 results. Methods to tune performance are discussed in other tutorials."
   ]
  },
  {
   "cell_type": "code",
   "execution_count": null,
   "metadata": {},
   "outputs": [
    {
     "data": {
      "text/plain": [
       "[1.0, 0.4, 0.4, 0.2]"
      ]
     },
     "execution_count": null,
     "metadata": {},
     "output_type": "execute_result"
    }
   ],
   "source": [
    "k_vals = [1, 5, 10, 50]\n",
    "recovered_ids = set([i['id'] for i in results])\n",
    "metrics = []\n",
    "\n",
    "for k in k_vals:\n",
    "    gt_idxs = set(ground_truth[:k]['index'])\n",
    "    percent_recovered = len(gt_idxs.intersection(recovered_ids))/k\n",
    "    metrics.append(percent_recovered)\n",
    "    \n",
    "metrics"
   ]
  },
  {
   "cell_type": "markdown",
   "metadata": {},
   "source": [
    "The `search_log` also contains a `query_tree` which maps out the progression of queries through the search. We can use this to reconstruct trajectories of the average score over the search"
   ]
  },
  {
   "cell_type": "code",
   "execution_count": null,
   "metadata": {},
   "outputs": [
    {
     "data": {
      "image/png": "[encoded data removed]",
      "text/plain": [
       "<Figure size 640x480 with 1 Axes>"
      ]
     },
     "metadata": {},
     "output_type": "display_data"
    }
   ],
   "source": [
    "for final_node in search_log.query_tree.leaf_nodes():\n",
    "    max_scores = []\n",
    "    \n",
    "    current = final_node\n",
    "    while current:\n",
    "        max_scores.append(current.mean_score)\n",
    "        current = current.parent\n",
    "        \n",
    "    plt.plot(max_scores[::-1], color='b', alpha=0.5)"
   ]
  },
  {
   "cell_type": "markdown",
   "metadata": {},
   "source": [
    "## Coments on results\n",
    "\n",
    "The compiled results returned 186 items. We used 5 query vectors with 10 items returned per query over 15 iterations. This implies 750 total items should have been returned. The reduction from 750 total items to 186 is a result of the query vectors converging to the same location and returning duplicate items.\n",
    "\n",
    "The degree of duplicate results depends on:\n",
    "* size of the vector database\n",
    "* how query vectors are initialized\n",
    "* how many local optima exist for your score function\n",
    "* how many iterations are run\n",
    "* how many results are returned per query"
   ]
  },
  {
   "cell_type": "markdown",
   "metadata": {},
   "source": [
    "## Conclusions\n",
    "\n",
    "This notebook gave a brief overview of the main components of `emb_opt`. We used hill climbing to find the top scoring item in a vector dataset while only evaluating 1.8% of the total search space.\n",
    "\n",
    "The next set of tutorials will go over advanced usage of the library and methods to tune performance."
   ]
  },
  {
   "cell_type": "code",
   "execution_count": null,
   "metadata": {},
   "outputs": [],
   "source": []
  },
  {
   "cell_type": "code",
   "execution_count": null,
   "metadata": {},
   "outputs": [],
   "source": []
  },
  {
   "cell_type": "code",
   "execution_count": null,
   "metadata": {},
   "outputs": [],
   "source": []
  },
  {
   "cell_type": "code",
   "execution_count": null,
   "metadata": {},
   "outputs": [],
   "source": []
  }
 ],
 "metadata": {
  "kernelspec": {
   "display_name": "emb_opt",
   "language": "python",
   "name": "emb_opt"
  }
 },
 "nbformat": 4,
 "nbformat_minor": 4
}
