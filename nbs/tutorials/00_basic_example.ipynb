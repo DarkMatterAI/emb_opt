{
 "cells": [
  {
   "cell_type": "markdown",
   "metadata": {},
   "source": [
    "# Basic Tutorial\n",
    "\n",
    "> The main abstractions in `emb_opt` and how to use them"
   ]
  },
  {
   "cell_type": "markdown",
   "metadata": {},
   "source": [
    "## Overview\n",
    "\n",
    "The goal of `emb_opt` is to use hill climbing to find high scoring items (defined by some score function) in a vector database without exhaustive screening of the database itself.\n",
    "\n",
    "`emb_opt` takes advantage of the inherent structure present in embedding spaces. Starting with random points, we can use reinforcement learning to traverse the vector space to move from low scoring items to high scoring items.\n",
    "\n",
    "This notebook gives an overview of the main abstractions in `emb_opt` and how they fit together."
   ]
  },
  {
   "cell_type": "code",
   "execution_count": null,
   "metadata": {},
   "outputs": [],
   "source": []
  },
  {
   "cell_type": "code",
   "execution_count": null,
   "metadata": {},
   "outputs": [],
   "source": []
  },
  {
   "cell_type": "code",
   "execution_count": null,
   "metadata": {},
   "outputs": [],
   "source": []
  },
  {
   "cell_type": "code",
   "execution_count": null,
   "metadata": {},
   "outputs": [],
   "source": []
  },
  {
   "cell_type": "code",
   "execution_count": null,
   "metadata": {},
   "outputs": [],
   "source": []
  },
  {
   "cell_type": "code",
   "execution_count": null,
   "metadata": {},
   "outputs": [],
   "source": []
  },
  {
   "cell_type": "code",
   "execution_count": null,
   "metadata": {},
   "outputs": [],
   "source": []
  },
  {
   "cell_type": "code",
   "execution_count": null,
   "metadata": {},
   "outputs": [],
   "source": []
  },
  {
   "cell_type": "code",
   "execution_count": null,
   "metadata": {},
   "outputs": [
    {
     "name": "stderr",
     "output_type": "stream",
     "text": [
      "/home/dmai/miniconda3/envs/emb_opt/lib/python3.9/site-packages/tqdm/auto.py:21: TqdmWarning: IProgress not found. Please update jupyter and ipywidgets. See https://ipywidgets.readthedocs.io/en/stable/user_install.html\n",
      "  from .autonotebook import tqdm as notebook_tqdm\n"
     ]
    }
   ],
   "source": [
    "from emb_opt.imports import *\n",
    "from emb_opt.core import Filter, Score\n",
    "from emb_opt.backends.hf import HFDatabase\n",
    "from emb_opt.query_update import RLUpdate\n",
    "from emb_opt.runner import Runner\n",
    "import matplotlib.pyplot as plt"
   ]
  },
  {
   "cell_type": "markdown",
   "metadata": {},
   "source": [
    "## Setup\n",
    "\n",
    "First we need a vector database to query. Since this is just an example notebook, we will work off a set of random vectors.\n",
    "\n",
    "We will use the [Datasets](https://huggingface.co/docs/datasets/index) library to hold our vectors and build our index.\n",
    "\n",
    "In addition to the embedding vector, we will also add a `rand` column of random values. This will be used later to demonstrate the `Filter` functionality."
   ]
  },
  {
   "cell_type": "code",
   "execution_count": null,
   "metadata": {},
   "outputs": [
    {
     "name": "stderr",
     "output_type": "stream",
     "text": [
      "100%|██████████████████████████████████████████| 10/10 [00:00<00:00, 908.13it/s]\n"
     ]
    },
    {
     "data": {
      "text/plain": [
       "Dataset({\n",
       "    features: ['embedding', 'rand'],\n",
       "    num_rows: 10000\n",
       "})"
      ]
     },
     "execution_count": null,
     "metadata": {},
     "output_type": "execute_result"
    }
   ],
   "source": [
    "n_vectors = 10000\n",
    "size = 128\n",
    "\n",
    "vectors = np.random.randn(n_vectors, size)\n",
    "vector_dataset = Dataset.from_list([{'embedding':i, 'rand':np.random.rand()} for i in vectors])\n",
    "vector_dataset.add_faiss_index('embedding')"
   ]
  },
  {
   "cell_type": "markdown",
   "metadata": {},
   "source": [
    "## Database Backend\n",
    "\n",
    "`emb_opt` has a standardized way of returning results from a vector database query. Since we are using a Huggingface Dataset for our index, we will use the corresponding `HFDatabase` backend.\n",
    "\n",
    "`emb_opt` currently supports [faiss](https://github.com/facebookresearch/faiss), [Qdrant](https://qdrant.tech/), [Chroma](https://www.trychroma.com/), and [Huggingface Datasets](https://huggingface.co/docs/datasets/index) as backends.\n",
    "\n",
    "We will pass `k=10` to return 10 items per query"
   ]
  },
  {
   "cell_type": "code",
   "execution_count": null,
   "metadata": {},
   "outputs": [],
   "source": [
    "k = 10\n",
    "index_name = 'embedding'\n",
    "hf_db = HFDatabase(vector_dataset, index_name, k)"
   ]
  },
  {
   "cell_type": "markdown",
   "metadata": {},
   "source": [
    "### Query API\n",
    "\n",
    "Queries are sent as a numpy array of vectors. Query results are returned as a `Dataset` with the following columns:\n",
    "\n",
    "* `query_idx` - the index of the specific query vector that returned a particular row\n",
    "* `db_idx` - the database index of the item returned\n",
    "* `embedding` - the embedding of the item returned\n",
    "* `distance` - distance between the `embedding` and the query vector defined by `query_idx`\n",
    "* `data` - a dictionary of any other information returned with the query"
   ]
  },
  {
   "cell_type": "code",
   "execution_count": null,
   "metadata": {},
   "outputs": [
    {
     "data": {
      "text/plain": [
       "Dataset({\n",
       "    features: ['query_idx', 'db_idx', 'embedding', 'distance', 'data'],\n",
       "    num_rows: 30\n",
       "})"
      ]
     },
     "execution_count": null,
     "metadata": {},
     "output_type": "execute_result"
    }
   ],
   "source": [
    "example_query = np.random.randn(3, size)\n",
    "query_results = hf_db.query(example_query)\n",
    "query_results"
   ]
  },
  {
   "cell_type": "markdown",
   "metadata": {},
   "source": [
    "Note that the `rand` column we created earlier ends up in the `data` column of the query results"
   ]
  },
  {
   "cell_type": "code",
   "execution_count": null,
   "metadata": {},
   "outputs": [
    {
     "data": {
      "text/plain": [
       "{'rand': 0.18091041183937884}"
      ]
     },
     "execution_count": null,
     "metadata": {},
     "output_type": "execute_result"
    }
   ],
   "source": [
    "query_results['data'][0]"
   ]
  },
  {
   "cell_type": "markdown",
   "metadata": {},
   "source": [
    "## Score Function\n",
    "\n",
    "This is the score function we want to maximize. Any function that takes in a row from the `query_results` dataset and returns a single numeric value where \"larger = better\" can be used.\n",
    "\n",
    "For a simple example, we will use the sum of our embedding vector as the score"
   ]
  },
  {
   "cell_type": "code",
   "execution_count": null,
   "metadata": {},
   "outputs": [],
   "source": [
    "def simple_score(row):\n",
    "    return sum(row['embedding'])\n",
    "\n",
    "map_kwargs = {}\n",
    "score_function = Score(simple_score, map_kwargs)"
   ]
  },
  {
   "cell_type": "markdown",
   "metadata": {},
   "source": [
    "### Score Kwargs\n",
    "\n",
    "In the example above, we passed `map_kwargs = {}` to the score function. Behind the scenes, the score is actually computed using `Dataset.map`\n",
    "\n",
    "`query_dataset.map(lambda item: {'score' : score_func(item)}, **map_kwargs)`\n",
    "\n",
    "This allows us to do this like:\n",
    "\n",
    "```python\n",
    "# multiprocessing\n",
    "map_kwargs = {'num_proc' : 5}\n",
    "score_function = Score(simple_score, map_kwargs)\n",
    "```\n",
    "\n",
    "```python\n",
    "# batched compute\n",
    "map_kwargs = {'batched' : True}\n",
    "score_function = Score(simple_score, map_kwargs)\n",
    "```\n",
    "\n",
    "Check the [Huggingface Map Documentation](https://huggingface.co/docs/datasets/process#map) for a full set of applicable kwargs."
   ]
  },
  {
   "cell_type": "markdown",
   "metadata": {},
   "source": [
    "## Filter Function\n",
    "\n",
    "For some applications we may wish to filter query results before scoring. \n",
    "\n",
    "Some database backends allow for various types of filtering - see `FaissDatabase`, `QdrantDatabase` and `ChromaDatabase` for backend-specific examples.\n",
    "\n",
    "However, we may wish to filter on things that are not \"built in\" to our backend, such as the results from a classification model or a metric that is more efficient to compute on the fly rather than pre-computing for the entire database.\n",
    "\n",
    "The `Filter` class offers this functionality. We can filter query results on any function that returns a boolean value for each row in the `query_results` dataset.\n",
    "\n",
    "For a simple example, we will use the `rand` column we created earlier and filter any example where `rand>=0.9`.\n",
    "\n",
    "Note the format of the filter function. The `rand` column (and any other information returned with our query) will be in a dictionary stored in the `data` column of the `query_results` dataset."
   ]
  },
  {
   "cell_type": "code",
   "execution_count": null,
   "metadata": {},
   "outputs": [],
   "source": [
    "def simple_filter(row):\n",
    "    return row['data']['rand'] < 0.9\n",
    "\n",
    "filter_kwargs = {}\n",
    "filter_function = Filter(simple_filter, filter_kwargs)"
   ]
  },
  {
   "cell_type": "markdown",
   "metadata": {},
   "source": [
    "### Filter Kwargs\n",
    "\n",
    "Similar to the score function, filtering is implemented via `Dataset.filter`. You can pass any kwargs for `Dataset.filter` to `Filter`. \n",
    "\n",
    "`query_dataset.filter(lambda item: filter_func(item), **filter_kwargs)`\n",
    "\n",
    "See the [Huggingface Filter documentation](https://huggingface.co/docs/datasets/process#select-and-filter)"
   ]
  },
  {
   "cell_type": "markdown",
   "metadata": {},
   "source": [
    "## Query Update\n",
    "\n",
    "A `QueryUpdate` takes a set of `query_vectors`, a dataset of `query_results` and uses them to generate the next iteration of `query_vectors`\n",
    "\n",
    "We will use the `RLUpdate` class to use reinforcement learning to iteratively move `query_vectors` from low scoring locations to high scoring locations"
   ]
  },
  {
   "cell_type": "code",
   "execution_count": null,
   "metadata": {},
   "outputs": [],
   "source": [
    "query_update = RLUpdate(lr=5.)"
   ]
  },
  {
   "cell_type": "markdown",
   "metadata": {},
   "source": [
    "## Runner\n",
    "\n",
    "The `Runner` collects the pieces we have created so far and runs the actual optimization process.\n",
    "\n",
    "The core optimization loop:\n",
    "\n",
    "```python\n",
    "for i in range(iterations):\n",
    "    query_results = self.vector_db.query(query_vectors) # get results\n",
    "    query_results = self.filter(query_results) # filter results\n",
    "    query_results = self.score(query_results) # score results\n",
    "\n",
    "    log.add_entry(i, query_vectors, query_results) # log results\n",
    "\n",
    "    query_vectors = self.query_update(query_vectors, query_results) # update query vectors\n",
    "\n",
    "return log\n",
    "```"
   ]
  },
  {
   "cell_type": "code",
   "execution_count": null,
   "metadata": {},
   "outputs": [],
   "source": [
    "# note that using a Filter is optional\n",
    "runner = Runner(hf_db, score_function, query_update, filter_function)"
   ]
  },
  {
   "cell_type": "markdown",
   "metadata": {},
   "source": [
    "## Execute Search\n",
    "\n",
    "Now we run the search.\n",
    "\n",
    "To start, we need to get some initial query vectors and decide how many iterations to run. We will use 10 query vectors and run for 10 iterations"
   ]
  },
  {
   "cell_type": "code",
   "execution_count": null,
   "metadata": {},
   "outputs": [],
   "source": [
    "n_queries = 10\n",
    "n_iters = 10\n",
    "query_vectors = np.random.rand(n_queries, size)"
   ]
  },
  {
   "cell_type": "code",
   "execution_count": null,
   "metadata": {},
   "outputs": [
    {
     "name": "stderr",
     "output_type": "stream",
     "text": [
      "                                                                                \r"
     ]
    }
   ],
   "source": [
    "log = runner.search(query_vectors, n_iters)"
   ]
  },
  {
   "cell_type": "markdown",
   "metadata": {},
   "source": [
    "## Results Log\n",
    "\n",
    "`Runner.search` returns a `SearchLog` which holds the `query_vectors` and `query_results` for each iteration"
   ]
  },
  {
   "cell_type": "code",
   "execution_count": null,
   "metadata": {},
   "outputs": [],
   "source": [
    "iteration = 5\n",
    "query_vectors = log.batch_log[iteration]['queries']\n",
    "iteration_results = log.batch_log[iteration]['results']"
   ]
  },
  {
   "cell_type": "markdown",
   "metadata": {},
   "source": [
    "## Compiled Results\n",
    "\n",
    "Generally what we want is the scored items returned from the dataset. The `compile_results` function returns this as a `Dataset`"
   ]
  },
  {
   "cell_type": "code",
   "execution_count": null,
   "metadata": {},
   "outputs": [
    {
     "data": {
      "text/plain": [
       "Dataset({\n",
       "    features: ['db_idx', 'embedding', 'data', 'score'],\n",
       "    num_rows: 227\n",
       "})"
      ]
     },
     "execution_count": null,
     "metadata": {},
     "output_type": "execute_result"
    }
   ],
   "source": [
    "results = log.compile_results()\n",
    "results = results.sort('score', reverse=True)\n",
    "results"
   ]
  },
  {
   "cell_type": "markdown",
   "metadata": {},
   "source": [
    "### Notes on results\n",
    "\n",
    "As seen above, the compiled results contains 227 items. We used 10 query vectors, returned 10 items per query, and ran for 10 iterations. Which would imply 1000 total queries. The reduction from 1000 to 227 is the result of query vectors converging to the same location and returning duplicate values.\n",
    "\n",
    "The degree of duplicate results depends on:\n",
    "* size of the vector database\n",
    "* how query vectors are initialized\n",
    "* how many local optima exist for your score function\n",
    "* how many iterations are run\n",
    "* how many results are returned per query"
   ]
  },
  {
   "cell_type": "markdown",
   "metadata": {},
   "source": [
    "## Trajectories\n",
    "\n",
    "We can also grab \"trajectories\" which show the evolution of a query vector over time. `log.compile_trajectories` returns a dictionary of the form:\n",
    "\n",
    "```python\n",
    "{\n",
    "    'query_idx' : {\n",
    "        'query_vectors' : (iterations, vector_size) array,\n",
    "        'scores' : [list of scores at each iteration]\n",
    "    }\n",
    "}\n",
    "```"
   ]
  },
  {
   "cell_type": "code",
   "execution_count": null,
   "metadata": {},
   "outputs": [],
   "source": [
    "trajectories = log.compile_trajectories()"
   ]
  },
  {
   "cell_type": "code",
   "execution_count": null,
   "metadata": {},
   "outputs": [],
   "source": [
    "query_path = trajectories[0]['query_vectors']\n",
    "score_path = trajectories[0]['scores']"
   ]
  },
  {
   "cell_type": "code",
   "execution_count": null,
   "metadata": {},
   "outputs": [
    {
     "data": {
      "image/png": "[encoded data removed]",
      "text/plain": [
       "<Figure size 640x480 with 1 Axes>"
      ]
     },
     "metadata": {},
     "output_type": "display_data"
    }
   ],
   "source": [
    "for k,v in trajectories.items():\n",
    "    all_scores = v['scores']\n",
    "    \n",
    "    plt.plot([np.array(i).mean() for i in all_scores], color='b', alpha=0.5)"
   ]
  },
  {
   "cell_type": "markdown",
   "metadata": {},
   "source": [
    "## Results Evaluation\n",
    "\n",
    "Starting from random inputs, we screened 227 items in the database during our search. \n",
    "\n",
    "To evaluate the screen, we will look at what percent of the top `K` scoring items were found for various values of `K`."
   ]
  },
  {
   "cell_type": "code",
   "execution_count": null,
   "metadata": {},
   "outputs": [
    {
     "name": "stderr",
     "output_type": "stream",
     "text": [
      "                                                                                \r"
     ]
    }
   ],
   "source": [
    "# generate ground truth with filtering\n",
    "ground_truth = vector_dataset.map(lambda row, idx: {'score' : simple_score(row), 'db_idx':idx}, with_indices=True)\n",
    "ground_truth = ground_truth.filter(lambda row: row['rand']<0.9)\n",
    "ground_truth = ground_truth.sort('score', reverse=True)"
   ]
  },
  {
   "cell_type": "code",
   "execution_count": null,
   "metadata": {},
   "outputs": [],
   "source": [
    "k_vals = [1, 5, 10, 50]\n",
    "recovered_set = set(results['db_idx'])\n",
    "metrics = []\n",
    "\n",
    "for k in k_vals:\n",
    "    gt_set = set(ground_truth['db_idx'][:k])\n",
    "    metrics.append(len(gt_set.intersection(recovered_set)) / len(gt_set))"
   ]
  },
  {
   "cell_type": "code",
   "execution_count": null,
   "metadata": {},
   "outputs": [
    {
     "data": {
      "text/plain": [
       "[1.0, 0.6, 0.7, 0.5]"
      ]
     },
     "execution_count": null,
     "metadata": {},
     "output_type": "execute_result"
    }
   ],
   "source": [
    "metrics"
   ]
  },
  {
   "cell_type": "markdown",
   "metadata": {},
   "source": [
    "This tells us that we successfully recovered 50% of the top 50 scoring items in the dataset starting with random vector queries and screening 2.27% of the total dataset"
   ]
  },
  {
   "cell_type": "code",
   "execution_count": null,
   "metadata": {},
   "outputs": [],
   "source": []
  },
  {
   "cell_type": "code",
   "execution_count": null,
   "metadata": {},
   "outputs": [],
   "source": []
  }
 ],
 "metadata": {
  "kernelspec": {
   "display_name": "emb_opt",
   "language": "python",
   "name": "emb_opt"
  }
 },
 "nbformat": 4,
 "nbformat_minor": 4
}
