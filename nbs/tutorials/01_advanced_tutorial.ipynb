{
 "cells": [
  {
   "cell_type": "markdown",
   "metadata": {},
   "source": [
    "# Advanced Tutorial\n",
    "\n",
    "> Tutorial on advanced updates, pruning and gradient queries"
   ]
  },
  {
   "cell_type": "markdown",
   "metadata": {},
   "source": [
    "## Overview\n",
    "\n",
    "The previous tutorial gave an overview of the main abstractions in `emb_opt` for basic hill climbing. This notebook goes over some more advanced query updating strategies"
   ]
  },
  {
   "cell_type": "code",
   "execution_count": null,
   "metadata": {},
   "outputs": [
    {
     "name": "stderr",
     "output_type": "stream",
     "text": [
      "/home/dmai/miniconda3/envs/emb_opt/lib/python3.9/site-packages/tqdm/auto.py:21: TqdmWarning: IProgress not found. Please update jupyter and ipywidgets. See https://ipywidgets.readthedocs.io/en/stable/user_install.html\n",
      "  from .autonotebook import tqdm as notebook_tqdm\n"
     ]
    }
   ],
   "source": [
    "from emb_opt.imports import *\n",
    "from emb_opt.schemas import Query, Item, Batch, ScoreResponse, FilterResponse\n",
    "from emb_opt.plugins.huggingface import HugggingfaceDataPlugin\n",
    "from emb_opt.runner import Runner\n",
    "from emb_opt.utils import build_batch_from_embeddings\n",
    "\n",
    "import string\n",
    "from datasets import Dataset\n",
    "\n",
    "import matplotlib.pyplot as plt"
   ]
  },
  {
   "cell_type": "markdown",
   "metadata": {},
   "source": [
    "## Setup\n",
    "\n",
    "To start, we'll set up the same dataset, filter function and score function from the previous notebook"
   ]
  },
  {
   "cell_type": "code",
   "execution_count": null,
   "metadata": {},
   "outputs": [],
   "source": [
    "def get_dataset(n_vectors: int=10000, size: int=64):\n",
    "    \n",
    "    np.random.seed(42)\n",
    "    vectors = np.random.randn(n_vectors, size)\n",
    "\n",
    "    vector_data = [{\n",
    "                    'index' : i,\n",
    "                    'item' : ''.join(np.random.choice([i for i in string.ascii_lowercase], size=10).tolist()),\n",
    "                    'rand' : np.random.rand(),\n",
    "                    'embedding' : vectors[i]\n",
    "                } for i in range(n_vectors)]\n",
    "\n",
    "    vector_dataset = Dataset.from_list(vector_data)\n",
    "    vector_dataset.add_faiss_index('embedding')\n",
    "    \n",
    "    return vector_dataset\n",
    "\n",
    "def get_data_plugin(dataset: Dataset, k: int=10, distance_cutoff: Optional[float]=None):\n",
    "    data_plugin = HugggingfaceDataPlugin(k=k, \n",
    "                                         dataset=dataset, \n",
    "                                         index_name='embedding', \n",
    "                                         item_key='item', \n",
    "                                         id_key='index', \n",
    "                                         distance_cutoff=distance_cutoff\n",
    "                                        )\n",
    "    return data_plugin"
   ]
  },
  {
   "cell_type": "code",
   "execution_count": null,
   "metadata": {},
   "outputs": [],
   "source": [
    "def score_embeddings(embeddings: np.ndarray, sigma: float=5.) -> np.ndarray:\n",
    "    target_point = np.ones(embeddings.shape[1])*.75\n",
    "    \n",
    "    distances = np.linalg.norm(embeddings - target_point, axis=1) / np.sqrt(embeddings.shape[1])\n",
    "    \n",
    "    scores = np.exp(-0.5 * (distances/sigma)**2)\n",
    "        \n",
    "    return scores\n",
    "\n",
    "def score_plugin(inputs: List[Item]) -> List[ScoreResponse]:\n",
    "    embeddings = np.array([i.embedding for i in inputs])\n",
    "    scores = score_embeddings(embeddings)    \n",
    "    results = [ScoreResponse(valid=True, score=i, data=None) for i in scores]\n",
    "    return results"
   ]
  },
  {
   "cell_type": "code",
   "execution_count": null,
   "metadata": {},
   "outputs": [],
   "source": [
    "def filter_plugin(inputs: List[Item]) -> List[FilterResponse]:\n",
    "    return [FilterResponse(valid=i.data['rand']<0.9, data={'rand':i.data['rand']}) for i in inputs]"
   ]
  },
  {
   "cell_type": "code",
   "execution_count": null,
   "metadata": {},
   "outputs": [],
   "source": [
    "def get_input_batch(n_queries: int=5, size: int=64):\n",
    "    np.random.seed(40)\n",
    "    initial_queries = np.random.randn(n_queries, size)\n",
    "    input_batch = build_batch_from_embeddings(initial_queries)\n",
    "    return input_batch"
   ]
  },
  {
   "cell_type": "code",
   "execution_count": null,
   "metadata": {},
   "outputs": [
    {
     "name": "stderr",
     "output_type": "stream",
     "text": [
      "100%|█████████████████████████████████████████| 10/10 [00:00<00:00, 1162.11it/s]\n"
     ]
    }
   ],
   "source": [
    "dataset = get_dataset(n_vectors=10000)"
   ]
  },
  {
   "cell_type": "code",
   "execution_count": null,
   "metadata": {},
   "outputs": [
    {
     "name": "stderr",
     "output_type": "stream",
     "text": [
      "                                                                                \r"
     ]
    }
   ],
   "source": [
    "ground_truth = dataset.map(lambda row: \n",
    "                            {'score' : float(score_embeddings(np.array(row['embedding'])[None]))})\n",
    "ground_truth = ground_truth.filter(lambda row: row['rand']<0.9)\n",
    "ground_truth = ground_truth.sort('score', reverse=True)"
   ]
  },
  {
   "cell_type": "code",
   "execution_count": null,
   "metadata": {},
   "outputs": [],
   "source": [
    "data_plugin = get_data_plugin(dataset, k=10)"
   ]
  },
  {
   "cell_type": "markdown",
   "metadata": {},
   "source": [
    "## Batch Creation\n",
    "\n",
    "Here we create a `Batch` of starting queries"
   ]
  },
  {
   "cell_type": "code",
   "execution_count": null,
   "metadata": {},
   "outputs": [],
   "source": [
    "batch = get_input_batch()"
   ]
  },
  {
   "cell_type": "markdown",
   "metadata": {},
   "source": [
    "## Modules\n",
    "\n",
    "Now we want to take our batch and run a database query, filter function query, and score function query. The easiest way to do this is wrapping our various functions in their corresponding `Module` class. `Module` classes handle gathering the correct inputs from a `Batch` and processing the outputs.\n",
    "\n",
    "Internally, the `Runner` class is organized as:\n",
    "\n",
    "```\n",
    "Runner\n",
    "    DataSourceModule\n",
    "        DataSourceFunction\n",
    "    FilterModule\n",
    "        FilterFunction\n",
    "    ScoreModule\n",
    "        ScoreFunction\n",
    "    PruneModule\n",
    "        PruneFunction\n",
    "    UpdateModule\n",
    "        UpdateFunction\n",
    "```"
   ]
  },
  {
   "cell_type": "code",
   "execution_count": null,
   "metadata": {},
   "outputs": [],
   "source": [
    "from emb_opt.data_source import DataSourceModule\n",
    "from emb_opt.filter import FilterModule\n",
    "from emb_opt.score import ScoreModule"
   ]
  },
  {
   "cell_type": "code",
   "execution_count": null,
   "metadata": {},
   "outputs": [],
   "source": [
    "data_module = DataSourceModule(data_plugin)\n",
    "filter_module = FilterModule(filter_plugin)\n",
    "score_module = ScoreModule(score_plugin)"
   ]
  },
  {
   "cell_type": "code",
   "execution_count": null,
   "metadata": {},
   "outputs": [],
   "source": [
    "batch = data_module(batch)\n",
    "batch = filter_module(batch)\n",
    "batch = score_module(batch)"
   ]
  },
  {
   "cell_type": "markdown",
   "metadata": {},
   "source": [
    "Now we have a batch with filtered and scored items. We can verify this by iterating through query results within the batch."
   ]
  },
  {
   "cell_type": "code",
   "execution_count": null,
   "metadata": {},
   "outputs": [
    {
     "name": "stdout",
     "output_type": "stream",
     "text": [
      "removed: False, score: 0.9716392517882978\n",
      "removed: False, score: 0.9735146862660943\n",
      "removed: False, score: 0.9778528690676259\n",
      "removed: False, score: 0.9724728791637264\n",
      "removed: False, score: 0.9782676902487691\n",
      "removed: False, score: 0.9737127204592259\n",
      "removed: False, score: 0.9804037820920216\n",
      "removed: False, score: 0.9753909225654782\n",
      "removed: False, score: 0.9694685722987455\n",
      "removed: True, score: None\n",
      "removed: True, score: None\n",
      "removed: False, score: 0.9726323141284812\n",
      "removed: False, score: 0.9692556815122584\n",
      "removed: False, score: 0.9745647899839788\n",
      "removed: False, score: 0.9629961168102679\n",
      "removed: False, score: 0.9701815738190763\n",
      "removed: False, score: 0.97486965277314\n",
      "removed: False, score: 0.9711548702455153\n",
      "removed: False, score: 0.9694112397200653\n",
      "removed: True, score: None\n",
      "removed: False, score: 0.9759289815073339\n",
      "removed: False, score: 0.9773133941752246\n",
      "removed: False, score: 0.9739640115726699\n",
      "removed: False, score: 0.9623959805518694\n",
      "removed: False, score: 0.9779404070528597\n",
      "removed: False, score: 0.9741377917753992\n",
      "removed: False, score: 0.9736229367471343\n",
      "removed: False, score: 0.973143133055708\n",
      "removed: False, score: 0.9710786179918796\n",
      "removed: False, score: 0.9748908586503796\n",
      "removed: False, score: 0.9694946512313679\n",
      "removed: False, score: 0.9731516805295557\n",
      "removed: False, score: 0.9779732635661752\n",
      "removed: True, score: None\n",
      "removed: False, score: 0.9672662450927711\n",
      "removed: False, score: 0.9710809731569571\n",
      "removed: False, score: 0.9757451096566242\n",
      "removed: True, score: None\n",
      "removed: False, score: 0.9734810008615996\n",
      "removed: False, score: 0.9638052662639214\n",
      "removed: False, score: 0.970608709429522\n",
      "removed: False, score: 0.9755166555429822\n",
      "removed: False, score: 0.9744431540375411\n",
      "removed: False, score: 0.978210361238593\n",
      "removed: False, score: 0.9736627269393461\n",
      "removed: False, score: 0.9712608487343193\n",
      "removed: False, score: 0.9779411824359353\n",
      "removed: False, score: 0.9780864007137536\n",
      "removed: False, score: 0.9759495684365427\n",
      "removed: False, score: 0.9774162832279337\n"
     ]
    }
   ],
   "source": [
    "for _, query_result in batch.enumerate_query_results(skip_removed=False):\n",
    "    print(f'removed: {query_result.internal.removed}, score: {query_result.score if query_result.score else None}')"
   ]
  },
  {
   "cell_type": "markdown",
   "metadata": {},
   "source": [
    "## Update Function\n",
    "\n",
    "Previously, we used the `RLUpdate` class to update our batch like so:"
   ]
  },
  {
   "cell_type": "code",
   "execution_count": null,
   "metadata": {},
   "outputs": [],
   "source": [
    "from emb_opt.update import RLUpdate, UpdateModule"
   ]
  },
  {
   "cell_type": "code",
   "execution_count": null,
   "metadata": {},
   "outputs": [],
   "source": [
    "update_plugin = RLUpdate(lrs=[.25], distance_penalty=0.)\n",
    "update_module = UpdateModule(update_plugin)\n",
    "new_batch = update_module(batch)"
   ]
  },
  {
   "cell_type": "markdown",
   "metadata": {},
   "source": [
    "We can see the new batch contains the same number of new queries as the old batch"
   ]
  },
  {
   "cell_type": "code",
   "execution_count": null,
   "metadata": {},
   "outputs": [
    {
     "name": "stdout",
     "output_type": "stream",
     "text": [
      "5 5\n"
     ]
    }
   ],
   "source": [
    "assert len(new_batch)==len(batch)\n",
    "print(len(new_batch), len(batch))"
   ]
  },
  {
   "cell_type": "markdown",
   "metadata": {},
   "source": [
    "### Branching Updates\n",
    "\n",
    "`emb_opt` supports update methods that generate a variable number of output queries. We can pass more learning rates to `RLUpdate` to take different step sizes based on our gradient."
   ]
  },
  {
   "cell_type": "code",
   "execution_count": null,
   "metadata": {},
   "outputs": [
    {
     "name": "stdout",
     "output_type": "stream",
     "text": [
      "20 5\n"
     ]
    }
   ],
   "source": [
    "update_plugin = RLUpdate(lrs=[0.1, .25, 0.5, 1.], distance_penalty=0.)\n",
    "update_module = UpdateModule(update_plugin)\n",
    "new_batch = update_module(batch)\n",
    "print(len(new_batch), len(batch))"
   ]
  },
  {
   "cell_type": "markdown",
   "metadata": {},
   "source": [
    "We can also use the `TopKDiscreteUpdate` to select `k` new queries from each parent query based on top scoring items"
   ]
  },
  {
   "cell_type": "code",
   "execution_count": null,
   "metadata": {},
   "outputs": [],
   "source": [
    "from emb_opt.update import TopKDiscreteUpdate"
   ]
  },
  {
   "cell_type": "code",
   "execution_count": null,
   "metadata": {},
   "outputs": [
    {
     "name": "stdout",
     "output_type": "stream",
     "text": [
      "20 5\n"
     ]
    }
   ],
   "source": [
    "update_plugin = TopKDiscreteUpdate(k=4)\n",
    "update_module = UpdateModule(update_plugin)\n",
    "new_batch = update_module(batch)\n",
    "print(len(new_batch), len(batch))"
   ]
  },
  {
   "cell_type": "markdown",
   "metadata": {},
   "source": [
    "This allows for a lot of flexibility in how updates are executed, but creates a problem of managing the total number of queries. If the number of queries increases by a constant multiple, the total number of queries quickly gets out of hand and inefficient. We can manage this with the `Prune` step"
   ]
  },
  {
   "cell_type": "markdown",
   "metadata": {},
   "source": [
    "## Prune Function\n",
    "\n",
    "A `Prune` function exists to prune queries to control the total query number. Pruning happens after `Filter` and `Score` steps, but before the `Update` step. This allows us to use score information to inform which queries we prune.\n",
    "\n",
    "We can use any prune method that corresponds to the `PruneFunction` data model\n",
    "\n",
    "```python\n",
    "PruneFunction = Callable[List[Query], List[PruneResponse]]\n",
    "\n",
    "class PruneResponse(BaseModel):\n",
    "    valid: bool           # if the input `Query` item is valid (if False, the associated `Query` is removed)\n",
    "    data: Optional[Dict]  # optional dict of data associated with the prune response\n",
    "```"
   ]
  },
  {
   "cell_type": "code",
   "execution_count": null,
   "metadata": {},
   "outputs": [],
   "source": [
    "from emb_opt.prune import TopKPrune, PruneModule"
   ]
  },
  {
   "cell_type": "code",
   "execution_count": null,
   "metadata": {},
   "outputs": [],
   "source": [
    "prune_plugin = TopKPrune(k=1, score_agg='mean', group_by='collection_id')\n",
    "prune_module = PruneModule(prune_plugin)"
   ]
  },
  {
   "cell_type": "code",
   "execution_count": null,
   "metadata": {},
   "outputs": [
    {
     "name": "stdout",
     "output_type": "stream",
     "text": [
      "5\n",
      "20\n",
      "20\n",
      "5\n"
     ]
    }
   ],
   "source": [
    "# starting batch size\n",
    "print(len(list(batch.valid_queries())))\n",
    "\n",
    "# create new batch with more queries\n",
    "new_batch = update_module(batch)\n",
    "print(len(list(new_batch.valid_queries())))\n",
    "\n",
    "# query, filter, score\n",
    "new_batch = data_module(new_batch)\n",
    "new_batch = filter_module(new_batch)\n",
    "new_batch = score_module(new_batch)\n",
    "print(len(list(new_batch.valid_queries())))\n",
    "\n",
    "# prune\n",
    "new_batch = prune_module(new_batch)\n",
    "print(len(list(new_batch.valid_queries())))"
   ]
  },
  {
   "cell_type": "markdown",
   "metadata": {},
   "source": [
    "## Running with branching and pruning\n",
    "\n",
    "Here we show running with branching and pruning. We use an RL update with several learning rates, and prune back to a single update by mean score. This allows us to converge to the top 1 result with fewer iterations"
   ]
  },
  {
   "cell_type": "code",
   "execution_count": null,
   "metadata": {},
   "outputs": [],
   "source": [
    "update_plugin = RLUpdate(lrs=[0.25, 1., 5.], distance_penalty=0.)\n",
    "prune_func = TopKPrune(k=1, score_agg='mean', group_by='collection_id')"
   ]
  },
  {
   "cell_type": "code",
   "execution_count": null,
   "metadata": {},
   "outputs": [],
   "source": [
    "runner = Runner(data_plugin, filter_plugin, score_plugin, prune_plugin, update_plugin)"
   ]
  },
  {
   "cell_type": "code",
   "execution_count": null,
   "metadata": {},
   "outputs": [],
   "source": [
    "input_batch = get_input_batch(n_queries=3)"
   ]
  },
  {
   "cell_type": "code",
   "execution_count": null,
   "metadata": {},
   "outputs": [
    {
     "name": "stdout",
     "output_type": "stream",
     "text": [
      "0 0.97 0.97 0.97\n",
      "1 0.98 0.97 0.98\n",
      "2 0.98 0.98 0.98\n"
     ]
    }
   ],
   "source": [
    "output_batch, search_log = runner.search(input_batch, 3)"
   ]
  },
  {
   "cell_type": "markdown",
   "metadata": {},
   "source": [
    "We found the same top 1 result with reduced coverage of the full dataset"
   ]
  },
  {
   "cell_type": "code",
   "execution_count": null,
   "metadata": {},
   "outputs": [
    {
     "data": {
      "text/plain": [
       "112"
      ]
     },
     "execution_count": null,
     "metadata": {},
     "output_type": "execute_result"
    }
   ],
   "source": [
    "results = search_log.compile_results(skip_removed=False)\n",
    "len(results)"
   ]
  },
  {
   "cell_type": "code",
   "execution_count": null,
   "metadata": {},
   "outputs": [
    {
     "data": {
      "text/plain": [
       "[1.0, 0.4, 0.3, 0.12]"
      ]
     },
     "execution_count": null,
     "metadata": {},
     "output_type": "execute_result"
    }
   ],
   "source": [
    "k_vals = [1, 5, 10, 50]\n",
    "recovered_ids = set([i['id'] for i in results])\n",
    "metrics = []\n",
    "\n",
    "for k in k_vals:\n",
    "    gt_idxs = set(ground_truth[:k]['index'])\n",
    "    percent_recovered = len(gt_idxs.intersection(recovered_ids))/k\n",
    "    metrics.append(percent_recovered)\n",
    "    \n",
    "metrics"
   ]
  },
  {
   "cell_type": "markdown",
   "metadata": {},
   "source": [
    "By plotting trajectories, we can see the branching and pruning"
   ]
  },
  {
   "cell_type": "code",
   "execution_count": null,
   "metadata": {},
   "outputs": [
    {
     "data": {
      "image/png": "[encoded data removed]",
      "text/plain": [
       "<Figure size 640x480 with 1 Axes>"
      ]
     },
     "metadata": {},
     "output_type": "display_data"
    }
   ],
   "source": [
    "for final_node in search_log.query_tree.leaf_nodes(include_removed=True):\n",
    "    mean_scores = []\n",
    "    \n",
    "    current = final_node\n",
    "    while current:\n",
    "        mean_scores.append(current.mean_score)\n",
    "        current = current.parent\n",
    "        \n",
    "    plt.plot(mean_scores[::-1], color='b', alpha=0.5)"
   ]
  },
  {
   "cell_type": "markdown",
   "metadata": {},
   "source": [
    "## Gradient Based Queries\n",
    "\n",
    "So far, we have used gradients to `Update` our queries. We can also use gradients in the query itself. We take a query embedding and project it along the score gradient, creating multiple queries.\n",
    "\n",
    "For this to work, we need to know the gradient of the query embedding at query time. This is managed by the classes `UpdatePluginGradientWrapper` and `DataPluginGradWrapper`.\n",
    "\n",
    "`UpdatePluginGradientWrapper` takes a new query and estimates its gradient using scored items from the new query's parent query. The gradient values are stored in the new query's `data['_score_grad']` attribute.\n",
    "\n",
    "`DataPluginGradWrapper` then uses this gradient to execute the gradient based query.\n",
    "\n",
    "`UpdatePluginGradientWrapper` can be replaced by any custom method that assigns the gradient to the `data['_score_grad']` attribute of queries. Note that the gradient is expected to point in the direction of _increasing_ score"
   ]
  },
  {
   "cell_type": "code",
   "execution_count": null,
   "metadata": {},
   "outputs": [],
   "source": [
    "from emb_opt.data_source import DataPluginGradWrapper\n",
    "from emb_opt.update import UpdatePluginGradientWrapper, TopKContinuousUpdate"
   ]
  },
  {
   "cell_type": "markdown",
   "metadata": {},
   "source": [
    "Here we set up a run with the gradient based query. Since we are using gradients in the query step, we will swap out the RL update (also gradient based) with top k selection"
   ]
  },
  {
   "cell_type": "code",
   "execution_count": null,
   "metadata": {},
   "outputs": [],
   "source": [
    "update_plugin = TopKContinuousUpdate(3) # update averages top 3 embeddings\n",
    "update_plugin_grad = UpdatePluginGradientWrapper(update_plugin, distance_penalty=0., max_norm=None)"
   ]
  },
  {
   "cell_type": "code",
   "execution_count": null,
   "metadata": {},
   "outputs": [],
   "source": [
    "lrs = np.array([0.1, 0.5, 1, 5])\n",
    "data_plugin_grad = DataPluginGradWrapper(data_plugin, lrs)"
   ]
  },
  {
   "cell_type": "code",
   "execution_count": null,
   "metadata": {},
   "outputs": [],
   "source": [
    "runner = Runner(data_plugin_grad, filter_plugin, score_plugin, None, update_plugin_grad)"
   ]
  },
  {
   "cell_type": "code",
   "execution_count": null,
   "metadata": {},
   "outputs": [],
   "source": [
    "input_batch = get_input_batch(n_queries=5)"
   ]
  },
  {
   "cell_type": "code",
   "execution_count": null,
   "metadata": {},
   "outputs": [
    {
     "name": "stdout",
     "output_type": "stream",
     "text": [
      "0 0.97 0.97 0.97 0.97 0.98\n",
      "1 0.97 0.97 0.98 0.97 0.98\n",
      "2 0.98 0.97 0.97 0.98 0.98\n",
      "3 0.97 0.98 0.98 0.98 0.98\n",
      "4 0.97 0.98 0.97 0.98 0.97\n"
     ]
    }
   ],
   "source": [
    "output_batch, search_log = runner.search(input_batch, 5)"
   ]
  },
  {
   "cell_type": "code",
   "execution_count": null,
   "metadata": {},
   "outputs": [
    {
     "data": {
      "text/plain": [
       "349"
      ]
     },
     "execution_count": null,
     "metadata": {},
     "output_type": "execute_result"
    }
   ],
   "source": [
    "results = search_log.compile_results(skip_removed=False)\n",
    "len(results)"
   ]
  },
  {
   "cell_type": "code",
   "execution_count": null,
   "metadata": {},
   "outputs": [
    {
     "data": {
      "text/plain": [
       "[1.0, 0.4, 0.4, 0.34]"
      ]
     },
     "execution_count": null,
     "metadata": {},
     "output_type": "execute_result"
    }
   ],
   "source": [
    "k_vals = [1, 5, 10, 50]\n",
    "recovered_ids = set([i['id'] for i in results])\n",
    "metrics = []\n",
    "\n",
    "for k in k_vals:\n",
    "    gt_idxs = set(ground_truth[:k]['index'])\n",
    "    percent_recovered = len(gt_idxs.intersection(recovered_ids))/k\n",
    "    metrics.append(percent_recovered)\n",
    "    \n",
    "metrics"
   ]
  },
  {
   "cell_type": "code",
   "execution_count": null,
   "metadata": {},
   "outputs": [],
   "source": []
  },
  {
   "cell_type": "code",
   "execution_count": null,
   "metadata": {},
   "outputs": [],
   "source": []
  },
  {
   "cell_type": "code",
   "execution_count": null,
   "metadata": {},
   "outputs": [],
   "source": []
  },
  {
   "cell_type": "code",
   "execution_count": null,
   "metadata": {},
   "outputs": [],
   "source": []
  },
  {
   "cell_type": "code",
   "execution_count": null,
   "metadata": {},
   "outputs": [],
   "source": []
  }
 ],
 "metadata": {
  "kernelspec": {
   "display_name": "emb_opt",
   "language": "python",
   "name": "emb_opt"
  }
 },
 "nbformat": 4,
 "nbformat_minor": 4
}
