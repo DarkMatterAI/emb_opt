{
 "cells": [
  {
   "cell_type": "markdown",
   "metadata": {},
   "source": [
    "# Schemas\n",
    "\n",
    "> Data Schemas"
   ]
  },
  {
   "cell_type": "code",
   "execution_count": null,
   "metadata": {},
   "outputs": [],
   "source": [
    "#| default_exp schemas"
   ]
  },
  {
   "cell_type": "code",
   "execution_count": null,
   "metadata": {},
   "outputs": [],
   "source": [
    "#| hide\n",
    "from nbdev.showdoc import *\n",
    "%load_ext autoreload\n",
    "%autoreload 2"
   ]
  },
  {
   "cell_type": "code",
   "execution_count": null,
   "metadata": {},
   "outputs": [
    {
     "name": "stderr",
     "output_type": "stream",
     "text": [
      "/home/dmai/miniconda3/envs/emb_opt/lib/python3.9/site-packages/tqdm/auto.py:21: TqdmWarning: IProgress not found. Please update jupyter and ipywidgets. See https://ipywidgets.readthedocs.io/en/stable/user_install.html\n",
      "  from .autonotebook import tqdm as notebook_tqdm\n"
     ]
    }
   ],
   "source": [
    "#| export\n",
    "from emb_opt.imports import *\n",
    "# from pydantic import Extra"
   ]
  },
  {
   "cell_type": "markdown",
   "metadata": {},
   "source": [
    "### Data Objects"
   ]
  },
  {
   "cell_type": "code",
   "execution_count": null,
   "metadata": {},
   "outputs": [],
   "source": [
    "#| export\n",
    "\n",
    "class InteralData(BaseModel):\n",
    "    id: str\n",
    "    removed: bool\n",
    "    removal_reason: Optional[str]\n",
    "    parent_id: Optional[str]\n",
    "    collection_id: Optional[int]"
   ]
  },
  {
   "cell_type": "code",
   "execution_count": null,
   "metadata": {},
   "outputs": [],
   "source": [
    "#| export\n",
    "\n",
    "class Item(BaseModel, extra='allow'):\n",
    "    item: Optional[Any]\n",
    "    embedding: List[float]\n",
    "    score: Optional[float]\n",
    "    data: Optional[dict]\n",
    "    \n",
    "    @model_validator(mode='after')\n",
    "    def _fill_internal(self):\n",
    "        if not hasattr(self, 'internal'):\n",
    "            self.internal = InteralData(\n",
    "                                    id=str(uuid.uuid1()), \n",
    "                                    removed=False, \n",
    "                                    removal_reason=None,\n",
    "                                    parent_id=None, \n",
    "                                    collection_id=None)\n",
    "        \n",
    "        if self.data is None:\n",
    "            self.data = {}\n",
    "            \n",
    "        return self\n",
    "    \n",
    "    def update_internal(self, **kwargs):\n",
    "        self.internal.__dict__.update(kwargs)\n",
    "        \n",
    "    @classmethod\n",
    "    def from_minimal(cls, item=None, embedding=None, score=None, data=None):\n",
    "        return cls(item=item, embedding=embedding, score=score, data=data)"
   ]
  },
  {
   "cell_type": "code",
   "execution_count": null,
   "metadata": {},
   "outputs": [],
   "source": [
    "item = Item(embedding=[0.1], item=None, score=None, data=None)\n",
    "assert item.internal.id\n",
    "old_id = item.internal.id\n",
    "item = Item.model_validate(item)\n",
    "assert item.internal.id == old_id"
   ]
  },
  {
   "cell_type": "code",
   "execution_count": null,
   "metadata": {},
   "outputs": [],
   "source": [
    "#| export\n",
    "\n",
    "class Query(BaseModel, extra='allow'):\n",
    "    item: Optional[Any]\n",
    "    embedding: List[float]\n",
    "    data: Optional[dict]\n",
    "    query_results: Optional[list[Item]]\n",
    "        \n",
    "    def __iter__(self):\n",
    "        return iter(self.query_results)\n",
    "\n",
    "    def __getitem__(self, idx: int):\n",
    "        return self.query_results[idx]\n",
    "    \n",
    "    def __len__(self):\n",
    "        return len(self.query_results)\n",
    "    \n",
    "    def valid_results(self):\n",
    "        for result in self.query_results:\n",
    "            if not result.internal.removed:\n",
    "                yield result\n",
    "    \n",
    "    def enumerate_query_results(self, skip_removed=True):\n",
    "        for i, result in enumerate(self.query_results):\n",
    "            if skip_removed:\n",
    "                if not result.internal.removed:\n",
    "                    yield (i, result)\n",
    "            else:\n",
    "                yield (i, result)\n",
    "    \n",
    "    @model_validator(mode='after')\n",
    "    def _fill_internal(self):\n",
    "        if not hasattr(self, 'internal'):\n",
    "            self.internal = InteralData(id=str(uuid.uuid1()), removed=False, removal_reason=None,\n",
    "                                    parent_id=None, collection_id=None)\n",
    "        \n",
    "        if self.query_results is None:\n",
    "            self.query_results = []\n",
    "            \n",
    "        if self.data is None:\n",
    "            self.data = {}\n",
    "            \n",
    "        return self\n",
    "                \n",
    "    @classmethod\n",
    "    def from_item(cls, item: Item):\n",
    "        query = cls(item=item.item, embedding=item.embedding, data=item.data, query_results=None)\n",
    "        query.internal.parent_id = item.internal.id\n",
    "        query.internal.collection_id = item.internal.collection_id\n",
    "        return query\n",
    "    \n",
    "    @classmethod\n",
    "    def from_parent_query(cls, embedding: List[float], parent_query):\n",
    "        query = cls(item=None, embedding=embedding, data=None, query_results=None)\n",
    "        query.internal.parent_id = parent_query.internal.id\n",
    "        query.internal.collection_id = parent_query.internal.collection_id\n",
    "        return query\n",
    "    \n",
    "    def add_query_results(self, query_results: List[Item]):\n",
    "        parent_id = self.internal.id\n",
    "        collection_id = self.internal.collection_id\n",
    "        for result in query_results:\n",
    "            result.update_internal(parent_id=parent_id, collection_id=collection_id)\n",
    "            self.query_results.append(result)\n",
    "    \n",
    "    def update_internal(self, **kwargs):\n",
    "        self.internal.__dict__.update(kwargs)\n",
    "        if (len(self.query_results)>0) and (len(list(self.valid_results()))==0):\n",
    "            self.internal.__dict__.update({'removed':True, 'removal_reason':'all query results removed'})\n",
    "            \n",
    "    @classmethod\n",
    "    def from_minimal(cls, item=None, embedding=None, data=None, query_results=None):\n",
    "        return cls(item=item, embedding=embedding, data=data, query_results=query_results)"
   ]
  },
  {
   "cell_type": "code",
   "execution_count": null,
   "metadata": {},
   "outputs": [],
   "source": [
    "item = Item.from_minimal(embedding=[0.1])\n",
    "query = Query.from_item(item)\n",
    "query.update_internal(collection_id=0)\n",
    "\n",
    "assert query.internal.parent_id == item.internal.id\n",
    "\n",
    "query2 = Query.from_parent_query([.2], parent_query=query)\n",
    "assert query2.internal.parent_id == query.internal.id\n",
    "assert query2.internal.collection_id == query.internal.collection_id\n",
    "\n",
    "query = Query.from_minimal(embedding=[0.1])\n",
    "query.update_internal(collection_id=0)\n",
    "result = Item.from_minimal(embedding=[0.1])\n",
    "query.add_query_results([result])\n",
    "assert query[0].internal.parent_id == query.internal.id\n",
    "assert query[0].internal.collection_id == query.internal.collection_id\n",
    "\n",
    "query = Query.from_minimal(embedding=[0.1])\n",
    "results = [Item.from_minimal(embedding=[0.1]), \n",
    "           Item.from_minimal(embedding=[0.2])]\n",
    "results[0].update_internal(removed=True)\n",
    "query.add_query_results(results)\n",
    "assert len(list(query.valid_results())) == 1\n",
    "\n",
    "query = Query.from_parent_query([.2], parent_query=query)\n",
    "results = [Item.from_minimal(embedding=[0.1])]\n",
    "results[0].update_internal(removed=True)\n",
    "query.add_query_results(results)\n",
    "query.update_internal()\n",
    "assert query.internal.removed"
   ]
  },
  {
   "cell_type": "code",
   "execution_count": null,
   "metadata": {},
   "outputs": [],
   "source": [
    "#| export\n",
    "\n",
    "class Batch(BaseModel):\n",
    "    queries: List[Query]\n",
    "        \n",
    "    def __iter__(self):\n",
    "        return iter(self.queries)\n",
    "\n",
    "    def __getitem__(self, idx: int):\n",
    "        return self.queries[idx]\n",
    "    \n",
    "    def __len__(self):\n",
    "        return len(self.queries)\n",
    "    \n",
    "    def get_item(self, query_index, result_index=None):\n",
    "        if result_index is not None:\n",
    "            return self.queries[query_index][result_index]\n",
    "        else:\n",
    "            return self.queries[query_index]\n",
    "        \n",
    "    def enumerate_queries(self, skip_removed=True):\n",
    "        for i, query in enumerate(self.queries):\n",
    "            if skip_removed:\n",
    "                if not query.internal.removed:\n",
    "                    yield ((i,None), query)\n",
    "            else:\n",
    "                yield ((i,None), query)\n",
    "                \n",
    "    def enumerate_query_results(self, skip_removed=True):\n",
    "        for (i,_), query in self.enumerate_queries(skip_removed):\n",
    "            for j, result in query.enumerate_query_results(skip_removed):\n",
    "                yield ((i,j), result)\n",
    "\n",
    "                \n",
    "    def flatten_queries(self, skip_removed=True):\n",
    "        idxs = []\n",
    "        outputs = []\n",
    "        for i, q in self.enumerate_queries(skip_removed):\n",
    "            idxs.append(i)\n",
    "            outputs.append(q)\n",
    "        return idxs, outputs\n",
    "                \n",
    "    def flatten_query_results(self, skip_removed=True):\n",
    "        idxs = []\n",
    "        outputs = []\n",
    "        for i, r in self.enumerate_query_results(skip_removed):\n",
    "            idxs.append(i)\n",
    "            outputs.append(r)\n",
    "        return idxs, outputs"
   ]
  },
  {
   "cell_type": "code",
   "execution_count": null,
   "metadata": {},
   "outputs": [],
   "source": [
    "queries = []\n",
    "for i in range(1,3):\n",
    "    items = [Item.from_minimal(item=str(j), embedding=[0.1*j]) for j in range(2)]\n",
    "    items[0].update_internal(removed=True)\n",
    "    query = Query.from_minimal(embedding=[0.1])\n",
    "    query.update_internal(collection_id=i)\n",
    "    query.add_query_results(items)\n",
    "    queries.append(query)\n",
    "    \n",
    "batch = Batch(queries=queries)\n",
    "assert len(batch.flatten_query_results()[1])==2"
   ]
  },
  {
   "cell_type": "markdown",
   "metadata": {},
   "source": [
    "### Data Source"
   ]
  },
  {
   "cell_type": "code",
   "execution_count": null,
   "metadata": {},
   "outputs": [],
   "source": [
    "#| export\n",
    "\n",
    "class DataSourceResponse(BaseModel):\n",
    "    valid: bool\n",
    "    data: Optional[Dict]\n",
    "    query_results: List[Item]"
   ]
  },
  {
   "cell_type": "code",
   "execution_count": null,
   "metadata": {},
   "outputs": [],
   "source": [
    "#| export\n",
    "\n",
    "DataSourceFunction = Callable[List[Query], List[DataSourceResponse]]"
   ]
  },
  {
   "cell_type": "markdown",
   "metadata": {},
   "source": [
    "### Filter"
   ]
  },
  {
   "cell_type": "code",
   "execution_count": null,
   "metadata": {},
   "outputs": [],
   "source": [
    "#| export\n",
    "\n",
    "class FilterResponse(BaseModel):\n",
    "    valid: bool\n",
    "    data: Optional[dict]\n",
    "        \n",
    "    @model_validator(mode='before')\n",
    "    @classmethod\n",
    "    def _fill_data(cls, data: Any) -> Any:\n",
    "        if \"data\" not in data:\n",
    "            data[\"data\"] = None\n",
    "        return data"
   ]
  },
  {
   "cell_type": "code",
   "execution_count": null,
   "metadata": {},
   "outputs": [],
   "source": [
    "#| export\n",
    "\n",
    "FilterFunction = Callable[List[Item], List[FilterResponse]]"
   ]
  },
  {
   "cell_type": "markdown",
   "metadata": {},
   "source": [
    "### Score"
   ]
  },
  {
   "cell_type": "code",
   "execution_count": null,
   "metadata": {},
   "outputs": [],
   "source": [
    "#| export\n",
    "\n",
    "class ScoreResponse(BaseModel):\n",
    "    valid: bool\n",
    "    score: Optional[float]\n",
    "    data: Optional[dict]\n",
    "        \n",
    "    @model_validator(mode='before')\n",
    "    @classmethod\n",
    "    def _fill_data(cls, data: Any) -> Any:\n",
    "        if \"data\" not in data:\n",
    "            data[\"data\"] = None\n",
    "        return data"
   ]
  },
  {
   "cell_type": "code",
   "execution_count": null,
   "metadata": {},
   "outputs": [],
   "source": [
    "#| export\n",
    "\n",
    "ScoreFunction = Callable[List[Item], List[ScoreResponse]]"
   ]
  },
  {
   "cell_type": "markdown",
   "metadata": {},
   "source": [
    "### Prune"
   ]
  },
  {
   "cell_type": "code",
   "execution_count": null,
   "metadata": {},
   "outputs": [],
   "source": [
    "#| export\n",
    "\n",
    "class PruneResponse(BaseModel):\n",
    "    valid: bool\n",
    "    data: Optional[dict]\n",
    "        \n",
    "    @model_validator(mode='before')\n",
    "    @classmethod\n",
    "    def _fill_data(cls, data: Any) -> Any:\n",
    "        if \"data\" not in data:\n",
    "            data[\"data\"] = None\n",
    "        return data"
   ]
  },
  {
   "cell_type": "code",
   "execution_count": null,
   "metadata": {},
   "outputs": [],
   "source": [
    "#| export\n",
    "\n",
    "PruneFunction = Callable[List[Query], List[PruneResponse]]"
   ]
  },
  {
   "cell_type": "markdown",
   "metadata": {},
   "source": [
    "### Update"
   ]
  },
  {
   "cell_type": "code",
   "execution_count": null,
   "metadata": {},
   "outputs": [],
   "source": [
    "#| export\n",
    "\n",
    "UpdateFunction = Callable[List[Query], List[Query]]"
   ]
  },
  {
   "cell_type": "code",
   "execution_count": null,
   "metadata": {},
   "outputs": [],
   "source": []
  },
  {
   "cell_type": "code",
   "execution_count": null,
   "metadata": {},
   "outputs": [],
   "source": []
  },
  {
   "cell_type": "code",
   "execution_count": null,
   "metadata": {},
   "outputs": [],
   "source": []
  },
  {
   "cell_type": "code",
   "execution_count": null,
   "metadata": {},
   "outputs": [],
   "source": []
  },
  {
   "cell_type": "code",
   "execution_count": null,
   "metadata": {},
   "outputs": [],
   "source": []
  },
  {
   "cell_type": "code",
   "execution_count": null,
   "metadata": {},
   "outputs": [],
   "source": []
  }
 ],
 "metadata": {
  "kernelspec": {
   "display_name": "emb_opt",
   "language": "python",
   "name": "emb_opt"
  }
 },
 "nbformat": 4,
 "nbformat_minor": 4
}
