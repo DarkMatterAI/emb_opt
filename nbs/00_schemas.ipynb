{
 "cells": [
  {
   "cell_type": "markdown",
   "metadata": {},
   "source": [
    "# Schemas\n",
    "\n",
    "> Data Schemas"
   ]
  },
  {
   "cell_type": "code",
   "execution_count": null,
   "metadata": {},
   "outputs": [],
   "source": [
    "#| default_exp schemas"
   ]
  },
  {
   "cell_type": "code",
   "execution_count": null,
   "metadata": {},
   "outputs": [],
   "source": [
    "#| hide\n",
    "from nbdev.showdoc import *\n",
    "%load_ext autoreload\n",
    "%autoreload 2"
   ]
  },
  {
   "cell_type": "code",
   "execution_count": null,
   "metadata": {},
   "outputs": [
    {
     "name": "stderr",
     "output_type": "stream",
     "text": [
      "/home/dmai/miniconda3/envs/emb_opt/lib/python3.9/site-packages/tqdm/auto.py:21: TqdmWarning: IProgress not found. Please update jupyter and ipywidgets. See https://ipywidgets.readthedocs.io/en/stable/user_install.html\n",
      "  from .autonotebook import tqdm as notebook_tqdm\n"
     ]
    }
   ],
   "source": [
    "#| export\n",
    "from emb_opt.imports import *"
   ]
  },
  {
   "cell_type": "markdown",
   "metadata": {},
   "source": [
    "### Data Objects"
   ]
  },
  {
   "cell_type": "code",
   "execution_count": null,
   "metadata": {},
   "outputs": [],
   "source": [
    "#| export\n",
    "\n",
    "class InteralData(BaseModel):\n",
    "    id: str\n",
    "    removed: bool\n",
    "    removal_reason: Optional[str]\n",
    "    parent_id: Optional[str]\n",
    "    collection_id: Optional[int]\n",
    "        \n",
    "    @model_validator(mode='before')\n",
    "    @classmethod\n",
    "    def _fill_data(cls, inputs: Any) -> Any:\n",
    "        if isinstance(inputs, BaseModel):\n",
    "            inputs = inputs.model_dump()\n",
    "            \n",
    "        if inputs.get('id', None) is None:\n",
    "            inputs['id'] = str(uuid.uuid1())\n",
    "            \n",
    "        if inputs.get('removal_reason', None) is None:\n",
    "            inputs['removal_reason'] = ''\n",
    "            \n",
    "        return inputs"
   ]
  },
  {
   "cell_type": "code",
   "execution_count": null,
   "metadata": {},
   "outputs": [],
   "source": [
    "#| export\n",
    "\n",
    "class Item(BaseModel):\n",
    "    item: Optional[str]\n",
    "    embedding: List[float]\n",
    "    score: Optional[float]\n",
    "    data: Optional[dict]\n",
    "    internal: Optional[InteralData]\n",
    "        \n",
    "    @model_validator(mode='before')\n",
    "    @classmethod\n",
    "    def _fill_data(cls, inputs: Any) -> Any:\n",
    "        if isinstance(inputs, BaseModel):\n",
    "            inputs = inputs.model_dump()\n",
    "\n",
    "        if inputs.get('data', None) is None:\n",
    "            inputs['data'] = {}\n",
    "            \n",
    "        if inputs.get('internal', None) is None:\n",
    "            inputs['internal'] = InteralData(id=None, removed=False, \n",
    "                                           parent_id=None, collection_id=None)\n",
    "\n",
    "        if inputs.get('score', None) is None:\n",
    "            inputs['score'] = None\n",
    "\n",
    "        if inputs.get('item', None) is None:\n",
    "            inputs['item'] = None\n",
    "\n",
    "        return inputs\n",
    "    \n",
    "    def update_internal(self, **kwargs):\n",
    "        self.internal.__dict__.update(kwargs)"
   ]
  },
  {
   "cell_type": "code",
   "execution_count": null,
   "metadata": {},
   "outputs": [],
   "source": [
    "#| export\n",
    "\n",
    "class Query(BaseModel):\n",
    "    item: Optional[str]\n",
    "    embedding: Optional[List[float]]\n",
    "    data: Optional[dict]\n",
    "    query_results: Optional[list[Item]]\n",
    "    internal: Optional[InteralData]\n",
    "        \n",
    "    def __iter__(self):\n",
    "        return iter(self.query_results)\n",
    "\n",
    "    def __getitem__(self, idx: int):\n",
    "        return self.query_results[idx]\n",
    "    \n",
    "    def __len__(self):\n",
    "        return len(self.query_results)\n",
    "    \n",
    "    def valid_results(self):\n",
    "        for result in self.query_results:\n",
    "            if not result.internal.removed:\n",
    "                yield result\n",
    "    \n",
    "    def enumerate_query_results(self, skip_removed=True):\n",
    "        for i, result in enumerate(self.query_results):\n",
    "            if skip_removed:\n",
    "                if not result.internal.removed:\n",
    "                    yield (i, result)\n",
    "            else:\n",
    "                yield (i, result)\n",
    "        \n",
    "    @model_validator(mode='before')\n",
    "    @classmethod\n",
    "    def _fill_data(cls, inputs: Any) -> Any:\n",
    "        if isinstance(inputs, BaseModel):\n",
    "            inputs = inputs.model_dump()\n",
    "                        \n",
    "        if inputs.get('data', None) is None:\n",
    "            inputs['data'] = {}\n",
    "            \n",
    "        if inputs.get('internal', None) is None:\n",
    "            inputs['internal'] = InteralData(id=str(uuid.uuid1()), removed=False, \n",
    "                                           parent_id=None, collection_id=None)\n",
    "        \n",
    "        if inputs.get('query_results', None) is None:\n",
    "            inputs['query_results'] = []\n",
    "            \n",
    "        if inputs.get('item', None) is None:\n",
    "            inputs['item'] = None\n",
    "\n",
    "        return inputs\n",
    "                \n",
    "    @classmethod\n",
    "    def from_item(cls, item: Item):\n",
    "        inputs = {\n",
    "            'item' : item.item,\n",
    "            'embedding' : item.embedding,\n",
    "            'data' : item.data,\n",
    "            'query_results' : [],\n",
    "            'internal' : {\n",
    "                'id' : None,\n",
    "                'removed' : False,\n",
    "                'parent_id' : item.internal.id,\n",
    "                'collection_id' : item.internal.collection_id\n",
    "            }\n",
    "        }\n",
    "        return cls(**inputs)\n",
    "    \n",
    "    @classmethod\n",
    "    def from_parent_query(cls, embedding: List[float], parent_query):\n",
    "        inputs = {\n",
    "            'embedding' : embedding,\n",
    "            'internal' : {\n",
    "                'id' : None,\n",
    "                'removed' : False,\n",
    "                'parent_id' : parent_query.internal.id,\n",
    "                'collection_id' : parent_query.internal.collection_id\n",
    "            }\n",
    "        }\n",
    "        \n",
    "        return cls(**inputs)\n",
    "    \n",
    "    def add_query_results(self, query_results: List[Item]):\n",
    "        \n",
    "        parent_id = self.internal.id\n",
    "        collection_id = self.internal.collection_id\n",
    "        for result in query_results:\n",
    "            result.update_internal(parent_id=parent_id, collection_id=collection_id)\n",
    "            self.query_results.append(result)\n",
    "    \n",
    "    def update_internal(self, **kwargs):\n",
    "        self.internal.__dict__.update(kwargs)\n",
    "        if (len(self.query_results)>0) and (len(list(self.valid_results()))==0):\n",
    "            self.internal.__dict__.update({'removed':True, 'removal_reason':'all query results removed'})"
   ]
  },
  {
   "cell_type": "code",
   "execution_count": null,
   "metadata": {},
   "outputs": [],
   "source": [
    "item = Item(embedding=[0.1])\n",
    "query = Query.from_item(item)\n",
    "query.update_internal(collection_id=0)\n",
    "\n",
    "assert query.internal.parent_id == item.internal.id\n",
    "\n",
    "query2 = Query.from_parent_query([.2], parent_query=query)\n",
    "assert query2.internal.parent_id == query.internal.id\n",
    "assert query2.internal.collection_id == query.internal.collection_id\n",
    "\n",
    "query = Query(embedding=[0.1])\n",
    "query.update_internal(collection_id=0)\n",
    "result = Item(embedding=[0.1])\n",
    "query.add_query_results([result])\n",
    "assert query[0].internal.parent_id == query.internal.id\n",
    "assert query[0].internal.collection_id == query.internal.collection_id\n",
    "\n",
    "\n",
    "query = Query(embedding=[0.1])\n",
    "results = [Item(embedding=[0.1]), Item(embedding=[0.2])]\n",
    "results[0].update_internal(removed=True)\n",
    "query.add_query_results(results)\n",
    "assert len(list(query.valid_results())) == 1\n",
    "\n",
    "query = Query(embedding=[0.1])\n",
    "results = [Item(embedding=[0.1])]\n",
    "results[0].update_internal(removed=True)\n",
    "query.add_query_results(results)\n",
    "query.update_internal()\n",
    "assert query.internal.removed"
   ]
  },
  {
   "cell_type": "code",
   "execution_count": null,
   "metadata": {},
   "outputs": [],
   "source": [
    "#| export\n",
    "\n",
    "class Batch(BaseModel):\n",
    "    queries: List[Query]\n",
    "        \n",
    "    def __iter__(self):\n",
    "        return iter(self.queries)\n",
    "\n",
    "    def __getitem__(self, idx: int):\n",
    "        return self.queries[idx]\n",
    "    \n",
    "    def __len__(self):\n",
    "        return len(self.queries)\n",
    "    \n",
    "    def get_item(self, query_index, result_index=None):\n",
    "        if result_index is not None:\n",
    "            return self.queries[query_index][result_index]\n",
    "        else:\n",
    "            return self.queries[query_index]\n",
    "        \n",
    "    def enumerate_queries(self, skip_removed=True):\n",
    "        for i, query in enumerate(self.queries):\n",
    "            if skip_removed:\n",
    "                if not query.internal.removed:\n",
    "                    yield ((i,None), query)\n",
    "            else:\n",
    "                yield ((i,None), query)\n",
    "                \n",
    "    def enumerate_query_results(self, skip_removed=True):\n",
    "        for (i,_), query in self.enumerate_queries(skip_removed):\n",
    "            for j, result in query.enumerate_query_results(skip_removed):\n",
    "                yield ((i,j), result)\n",
    "\n",
    "                \n",
    "    def flatten_queries(self, skip_removed=True):\n",
    "        idxs = []\n",
    "        outputs = []\n",
    "        for i, q in self.enumerate_queries(skip_removed):\n",
    "            idxs.append(i)\n",
    "            outputs.append(q)\n",
    "        return idxs, outputs\n",
    "                \n",
    "    def flatten_query_results(self, skip_removed=True):\n",
    "        idxs = []\n",
    "        outputs = []\n",
    "        for i, r in self.enumerate_query_results(skip_removed):\n",
    "            idxs.append(i)\n",
    "            outputs.append(r)\n",
    "        return idxs, outputs"
   ]
  },
  {
   "cell_type": "code",
   "execution_count": null,
   "metadata": {},
   "outputs": [],
   "source": [
    "queries = []\n",
    "for i in range(1,3):\n",
    "    items = [Item(item=str(j), embedding=[0.1*j]) for j in range(2)]\n",
    "    items[0].update_internal(removed=True)\n",
    "    query = Query(embedding=[0.1])\n",
    "    query.update_internal(collection_id=i)\n",
    "    query.add_query_results(items)\n",
    "    queries.append(query)\n",
    "    \n",
    "batch = Batch(queries=queries)\n",
    "\n",
    "assert len(batch.flatten_query_results()[1])==2"
   ]
  },
  {
   "cell_type": "markdown",
   "metadata": {},
   "source": [
    "### Data Source"
   ]
  },
  {
   "cell_type": "code",
   "execution_count": null,
   "metadata": {},
   "outputs": [],
   "source": [
    "#| export\n",
    "\n",
    "class DataSourceResponse(BaseModel):\n",
    "    valid: bool\n",
    "    data: Optional[Dict]\n",
    "    query_results: List[Item]"
   ]
  },
  {
   "cell_type": "code",
   "execution_count": null,
   "metadata": {},
   "outputs": [],
   "source": [
    "#| export\n",
    "\n",
    "DataSourceFunction = Callable[List[Query], List[DataSourceResponse]]"
   ]
  },
  {
   "cell_type": "markdown",
   "metadata": {},
   "source": [
    "### Filter"
   ]
  },
  {
   "cell_type": "code",
   "execution_count": null,
   "metadata": {},
   "outputs": [],
   "source": [
    "#| export\n",
    "\n",
    "class FilterResponse(BaseModel):\n",
    "    valid: bool\n",
    "    data: Optional[dict]\n",
    "        \n",
    "    @model_validator(mode='before')\n",
    "    @classmethod\n",
    "    def _fill_data(cls, data: Any) -> Any:\n",
    "        if \"data\" not in data:\n",
    "            data[\"data\"] = None\n",
    "        return data"
   ]
  },
  {
   "cell_type": "code",
   "execution_count": null,
   "metadata": {},
   "outputs": [],
   "source": [
    "#| export\n",
    "\n",
    "FilterFunction = Callable[List[Item], List[FilterResponse]]"
   ]
  },
  {
   "cell_type": "markdown",
   "metadata": {},
   "source": [
    "### Score"
   ]
  },
  {
   "cell_type": "code",
   "execution_count": null,
   "metadata": {},
   "outputs": [],
   "source": [
    "#| export\n",
    "\n",
    "class ScoreResponse(BaseModel):\n",
    "    valid: bool\n",
    "    score: Optional[float]\n",
    "    data: Optional[dict]\n",
    "        \n",
    "    @model_validator(mode='before')\n",
    "    @classmethod\n",
    "    def _fill_data(cls, data: Any) -> Any:\n",
    "        if \"data\" not in data:\n",
    "            data[\"data\"] = None\n",
    "        return data"
   ]
  },
  {
   "cell_type": "code",
   "execution_count": null,
   "metadata": {},
   "outputs": [],
   "source": [
    "#| export\n",
    "\n",
    "ScoreFunction = Callable[List[Item], List[ScoreResponse]]"
   ]
  },
  {
   "cell_type": "markdown",
   "metadata": {},
   "source": [
    "### Prune"
   ]
  },
  {
   "cell_type": "code",
   "execution_count": null,
   "metadata": {},
   "outputs": [],
   "source": [
    "#| export\n",
    "\n",
    "class PruneResponse(BaseModel):\n",
    "    valid: bool\n",
    "    data: Optional[dict]\n",
    "        \n",
    "    @model_validator(mode='before')\n",
    "    @classmethod\n",
    "    def _fill_data(cls, data: Any) -> Any:\n",
    "        if \"data\" not in data:\n",
    "            data[\"data\"] = None\n",
    "        return data"
   ]
  },
  {
   "cell_type": "code",
   "execution_count": null,
   "metadata": {},
   "outputs": [],
   "source": [
    "#| export\n",
    "\n",
    "PruneFunction = Callable[List[Query], List[PruneResponse]]"
   ]
  },
  {
   "cell_type": "markdown",
   "metadata": {},
   "source": [
    "### Update"
   ]
  },
  {
   "cell_type": "code",
   "execution_count": null,
   "metadata": {},
   "outputs": [],
   "source": [
    "#| export\n",
    "\n",
    "UpdateFunction = Callable[List[Query], List[Query]]"
   ]
  },
  {
   "cell_type": "code",
   "execution_count": null,
   "metadata": {},
   "outputs": [],
   "source": []
  },
  {
   "cell_type": "code",
   "execution_count": null,
   "metadata": {},
   "outputs": [],
   "source": []
  },
  {
   "cell_type": "code",
   "execution_count": null,
   "metadata": {},
   "outputs": [],
   "source": []
  },
  {
   "cell_type": "code",
   "execution_count": null,
   "metadata": {},
   "outputs": [],
   "source": []
  },
  {
   "cell_type": "code",
   "execution_count": null,
   "metadata": {},
   "outputs": [],
   "source": []
  },
  {
   "cell_type": "code",
   "execution_count": null,
   "metadata": {},
   "outputs": [],
   "source": []
  }
 ],
 "metadata": {
  "kernelspec": {
   "display_name": "emb_opt",
   "language": "python",
   "name": "emb_opt"
  }
 },
 "nbformat": 4,
 "nbformat_minor": 4
}
