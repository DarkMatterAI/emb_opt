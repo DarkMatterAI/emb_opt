{
 "cells": [
  {
   "cell_type": "markdown",
   "metadata": {},
   "source": [
    "# Schemas\n",
    "\n",
    "> Data Schemas"
   ]
  },
  {
   "cell_type": "code",
   "execution_count": null,
   "metadata": {},
   "outputs": [],
   "source": [
    "#| default_exp schemas"
   ]
  },
  {
   "cell_type": "code",
   "execution_count": null,
   "metadata": {},
   "outputs": [],
   "source": [
    "#| hide\n",
    "from nbdev.showdoc import *\n",
    "%load_ext autoreload\n",
    "%autoreload 2"
   ]
  },
  {
   "cell_type": "code",
   "execution_count": null,
   "metadata": {},
   "outputs": [
    {
     "name": "stderr",
     "output_type": "stream",
     "text": [
      "/home/dmai/miniconda3/envs/emb_opt/lib/python3.9/site-packages/tqdm/auto.py:21: TqdmWarning: IProgress not found. Please update jupyter and ipywidgets. See https://ipywidgets.readthedocs.io/en/stable/user_install.html\n",
      "  from .autonotebook import tqdm as notebook_tqdm\n"
     ]
    }
   ],
   "source": [
    "#| export\n",
    "from emb_opt.imports import *"
   ]
  },
  {
   "cell_type": "markdown",
   "metadata": {},
   "source": [
    "### Data Objects"
   ]
  },
  {
   "cell_type": "code",
   "execution_count": null,
   "metadata": {},
   "outputs": [],
   "source": [
    "#| export\n",
    "\n",
    "class InteralData(BaseModel):\n",
    "    removed: bool\n",
    "    removal_reason: Optional[str]\n",
    "    parent_id: Optional[str]\n",
    "    collection_id: Optional[int]\n",
    "    iteration: Optional[int]"
   ]
  },
  {
   "cell_type": "code",
   "execution_count": null,
   "metadata": {},
   "outputs": [],
   "source": [
    "#| export\n",
    "\n",
    "class Item(BaseModel, extra='allow'):\n",
    "    id: Optional[Union[str, int]]\n",
    "    item: Optional[Any]\n",
    "    embedding: List[float]\n",
    "    score: Optional[float]\n",
    "    data: Optional[dict]\n",
    "    \n",
    "    @model_validator(mode='after')\n",
    "    def _fill_internal(self):\n",
    "        if not hasattr(self, 'internal'):\n",
    "            self.internal = InteralData(\n",
    "                                    removed=False, \n",
    "                                    removal_reason=None,\n",
    "                                    parent_id=None, \n",
    "                                    collection_id=None,\n",
    "                                    iteration=None\n",
    "                                    )\n",
    "        \n",
    "        if self.data is None:\n",
    "            self.data = {}\n",
    "            \n",
    "        if self.id is None:\n",
    "            self.id = f'item_{str(uuid.uuid1())}'\n",
    "            \n",
    "        return self\n",
    "    \n",
    "    def update_internal(self, **kwargs):\n",
    "        self.internal.__dict__.update(kwargs)\n",
    "        \n",
    "    @classmethod\n",
    "    def from_minimal(cls, id=None, item=None, embedding=None, score=None, data=None):\n",
    "        return cls(id=id, item=item, embedding=embedding, score=score, data=data)"
   ]
  },
  {
   "cell_type": "code",
   "execution_count": null,
   "metadata": {},
   "outputs": [],
   "source": [
    "item = Item(id=None, embedding=[0.1], item=None, score=None, data=None)\n",
    "assert item.id\n",
    "old_id = item.id\n",
    "item = Item.model_validate(item)\n",
    "assert item.id == old_id"
   ]
  },
  {
   "cell_type": "code",
   "execution_count": null,
   "metadata": {},
   "outputs": [],
   "source": [
    "#| export\n",
    "\n",
    "class Query(BaseModel, extra='allow'):\n",
    "    item: Optional[Any]\n",
    "    embedding: List[float]\n",
    "    data: Optional[dict]\n",
    "    query_results: Optional[list[Item]]\n",
    "        \n",
    "    def __iter__(self):\n",
    "        return iter(self.query_results)\n",
    "\n",
    "    def __getitem__(self, idx: int):\n",
    "        return self.query_results[idx]\n",
    "    \n",
    "    def __len__(self):\n",
    "        return len(self.query_results)\n",
    "    \n",
    "    def valid_results(self):\n",
    "        for result in self.query_results:\n",
    "            if not result.internal.removed:\n",
    "                yield result\n",
    "    \n",
    "    def enumerate_query_results(self, skip_removed=True):\n",
    "        for i, result in enumerate(self.query_results):\n",
    "            if skip_removed:\n",
    "                if not result.internal.removed:\n",
    "                    yield (i, result)\n",
    "            else:\n",
    "                yield (i, result)\n",
    "    \n",
    "    @model_validator(mode='after')\n",
    "    def _fill_internal(self):\n",
    "        if not hasattr(self, 'internal'):\n",
    "            self.internal = InteralData(\n",
    "                                        removed=False, \n",
    "                                        removal_reason=None,      \n",
    "                                        parent_id=None, \n",
    "                                        collection_id=None,\n",
    "                                        iteration=None\n",
    "                                    )\n",
    "            \n",
    "        if not hasattr(self, 'id'):\n",
    "            self.id = f'query_{str(uuid.uuid1())}'\n",
    "        \n",
    "        if self.query_results is None:\n",
    "            self.query_results = []\n",
    "            \n",
    "        if self.data is None:\n",
    "            self.data = {}\n",
    "            \n",
    "        return self\n",
    "                \n",
    "    @classmethod\n",
    "    def from_item(cls, item: Item):\n",
    "        query = cls(item=item.item, embedding=item.embedding, data=item.data, query_results=None)\n",
    "        query.data['_source_item_id'] = item.id\n",
    "        query.update_internal(parent_id=item.internal.parent_id, collection_id=item.internal.collection_id)\n",
    "        return query\n",
    "    \n",
    "    @classmethod\n",
    "    def from_parent_query(cls, embedding: List[float], parent_query):\n",
    "        query = cls(item=None, embedding=embedding, data=None, query_results=None)\n",
    "        query.update_internal(parent_id=parent_query.id, collection_id=parent_query.internal.collection_id)\n",
    "        return query\n",
    "    \n",
    "    def add_query_results(self, query_results: List[Item]):\n",
    "        parent_id = self.id\n",
    "        collection_id = self.internal.collection_id\n",
    "        iteration = self.internal.iteration\n",
    "        for result in query_results:\n",
    "            result.update_internal(parent_id=parent_id, collection_id=collection_id, iteration=iteration)\n",
    "            self.query_results.append(result)\n",
    "    \n",
    "    def update_internal(self, **kwargs):\n",
    "        self.internal.__dict__.update(kwargs)\n",
    "        if (len(self.query_results)>0) and (len(list(self.valid_results()))==0):\n",
    "            self.internal.__dict__.update({'removed':True, 'removal_reason':'all query results removed'})\n",
    "            \n",
    "    @classmethod\n",
    "    def from_minimal(cls, item=None, embedding=None, data=None, query_results=None):\n",
    "        return cls(item=item, embedding=embedding, data=data, query_results=query_results)"
   ]
  },
  {
   "cell_type": "code",
   "execution_count": null,
   "metadata": {},
   "outputs": [],
   "source": [
    "# test query to item\n",
    "q1 = Query.from_minimal(embedding=[0.1])\n",
    "q1.update_internal(collection_id=0)\n",
    "i1 = Item.from_minimal(embedding=[0.1])\n",
    "q1.add_query_results([i1])\n",
    "\n",
    "assert i1.internal.collection_id == q1.internal.collection_id\n",
    "\n",
    "# test item to query\n",
    "q2 = Query.from_item(i1)\n",
    "\n",
    "assert q1.id == i1.internal.parent_id\n",
    "assert q2.internal.parent_id == q1.id\n",
    "assert q1.internal.collection_id == q2.internal.collection_id\n",
    "\n",
    "# test query to query\n",
    "q1 = Query.from_minimal(embedding=[0.1])\n",
    "q1.update_internal(collection_id=0)\n",
    "q2 = Query.from_parent_query(embedding=[0.1], parent_query=q1)\n",
    "\n",
    "assert q2.internal.parent_id == q1.id\n",
    "assert q1.internal.collection_id == q2.internal.collection_id\n",
    "\n",
    "# test removals\n",
    "\n",
    "q1 = Query.from_minimal(embedding=[0.1])\n",
    "results = [Item.from_minimal(embedding=[0.1]), \n",
    "           Item.from_minimal(embedding=[0.2])]\n",
    "q1.add_query_results(results)\n",
    "\n",
    "assert len(list(q1.valid_results())) == 2\n",
    "\n",
    "q1[0].update_internal(removed=True)\n",
    "q1.update_internal()\n",
    "\n",
    "assert len(list(q1.valid_results())) == 1\n",
    "assert not q1.internal.removed\n",
    "\n",
    "q1[1].update_internal(removed=True)\n",
    "q1.update_internal()\n",
    "\n",
    "assert len(list(q1.valid_results())) == 0\n",
    "assert q1.internal.removed"
   ]
  },
  {
   "cell_type": "code",
   "execution_count": null,
   "metadata": {},
   "outputs": [],
   "source": [
    "#| export\n",
    "\n",
    "class Batch(BaseModel):\n",
    "    queries: List[Query]\n",
    "        \n",
    "    def __iter__(self):\n",
    "        return iter(self.queries)\n",
    "\n",
    "    def __getitem__(self, idx: int):\n",
    "        return self.queries[idx]\n",
    "    \n",
    "    def __len__(self):\n",
    "        return len(self.queries)\n",
    "    \n",
    "    def get_item(self, query_index, result_index=None):\n",
    "        if result_index is not None:\n",
    "            return self.queries[query_index][result_index]\n",
    "        else:\n",
    "            return self.queries[query_index]\n",
    "        \n",
    "    def valid_queries(self):\n",
    "        for query in self.queries:\n",
    "            if not query.internal.removed:\n",
    "                yield query\n",
    "        \n",
    "    def enumerate_queries(self, skip_removed=True):\n",
    "        for i, query in enumerate(self.queries):\n",
    "            if skip_removed:\n",
    "                if not query.internal.removed:\n",
    "                    yield ((i,None), query)\n",
    "            else:\n",
    "                yield ((i,None), query)\n",
    "                \n",
    "    def enumerate_query_results(self, skip_removed=True):\n",
    "        for (i,_), query in self.enumerate_queries(skip_removed):\n",
    "            for j, result in query.enumerate_query_results(skip_removed):\n",
    "                yield ((i,j), result)\n",
    "\n",
    "                \n",
    "    def flatten_queries(self, skip_removed=True):\n",
    "        idxs = []\n",
    "        outputs = []\n",
    "        for i, q in self.enumerate_queries(skip_removed):\n",
    "            idxs.append(i)\n",
    "            outputs.append(q)\n",
    "        return idxs, outputs\n",
    "                \n",
    "    def flatten_query_results(self, skip_removed=True):\n",
    "        idxs = []\n",
    "        outputs = []\n",
    "        for i, r in self.enumerate_query_results(skip_removed):\n",
    "            idxs.append(i)\n",
    "            outputs.append(r)\n",
    "        return idxs, outputs"
   ]
  },
  {
   "cell_type": "code",
   "execution_count": null,
   "metadata": {},
   "outputs": [],
   "source": [
    "queries = []\n",
    "for i in range(1,3):\n",
    "    items = [Item.from_minimal(item=str(j), embedding=[0.1*j]) for j in range(2)]\n",
    "    items[0].update_internal(removed=True)\n",
    "    query = Query.from_minimal(embedding=[0.1])\n",
    "    query.update_internal(collection_id=i)\n",
    "    query.add_query_results(items)\n",
    "    queries.append(query)\n",
    "    \n",
    "batch = Batch(queries=queries)\n",
    "assert len(batch.flatten_query_results()[1])==2"
   ]
  },
  {
   "cell_type": "markdown",
   "metadata": {},
   "source": [
    "### Data Source"
   ]
  },
  {
   "cell_type": "code",
   "execution_count": null,
   "metadata": {},
   "outputs": [],
   "source": [
    "#| export\n",
    "\n",
    "class DataSourceResponse(BaseModel):\n",
    "    valid: bool\n",
    "    data: Optional[Dict]\n",
    "    query_results: List[Item]"
   ]
  },
  {
   "cell_type": "code",
   "execution_count": null,
   "metadata": {},
   "outputs": [],
   "source": [
    "#| export\n",
    "\n",
    "DataSourceFunction = Callable[List[Query], List[DataSourceResponse]]"
   ]
  },
  {
   "cell_type": "markdown",
   "metadata": {},
   "source": [
    "### Filter"
   ]
  },
  {
   "cell_type": "code",
   "execution_count": null,
   "metadata": {},
   "outputs": [],
   "source": [
    "#| export\n",
    "\n",
    "class FilterResponse(BaseModel):\n",
    "    valid: bool\n",
    "    data: Optional[dict]\n",
    "        \n",
    "    @model_validator(mode='before')\n",
    "    @classmethod\n",
    "    def _fill_data(cls, data: Any) -> Any:\n",
    "        if \"data\" not in data:\n",
    "            data[\"data\"] = None\n",
    "        return data"
   ]
  },
  {
   "cell_type": "code",
   "execution_count": null,
   "metadata": {},
   "outputs": [],
   "source": [
    "#| export\n",
    "\n",
    "FilterFunction = Callable[List[Item], List[FilterResponse]]"
   ]
  },
  {
   "cell_type": "markdown",
   "metadata": {},
   "source": [
    "### Score"
   ]
  },
  {
   "cell_type": "code",
   "execution_count": null,
   "metadata": {},
   "outputs": [],
   "source": [
    "#| export\n",
    "\n",
    "class ScoreResponse(BaseModel):\n",
    "    valid: bool\n",
    "    score: Optional[float]\n",
    "    data: Optional[dict]\n",
    "        \n",
    "    @model_validator(mode='before')\n",
    "    @classmethod\n",
    "    def _fill_data(cls, data: Any) -> Any:\n",
    "        if \"data\" not in data:\n",
    "            data[\"data\"] = None\n",
    "        return data"
   ]
  },
  {
   "cell_type": "code",
   "execution_count": null,
   "metadata": {},
   "outputs": [],
   "source": [
    "#| export\n",
    "\n",
    "ScoreFunction = Callable[List[Item], List[ScoreResponse]]"
   ]
  },
  {
   "cell_type": "markdown",
   "metadata": {},
   "source": [
    "### Prune"
   ]
  },
  {
   "cell_type": "code",
   "execution_count": null,
   "metadata": {},
   "outputs": [],
   "source": [
    "#| export\n",
    "\n",
    "class PruneResponse(BaseModel):\n",
    "    valid: bool\n",
    "    data: Optional[dict]\n",
    "        \n",
    "    @model_validator(mode='before')\n",
    "    @classmethod\n",
    "    def _fill_data(cls, data: Any) -> Any:\n",
    "        if \"data\" not in data:\n",
    "            data[\"data\"] = None\n",
    "        return data"
   ]
  },
  {
   "cell_type": "code",
   "execution_count": null,
   "metadata": {},
   "outputs": [],
   "source": [
    "#| export\n",
    "\n",
    "PruneFunction = Callable[List[Query], List[PruneResponse]]"
   ]
  },
  {
   "cell_type": "markdown",
   "metadata": {},
   "source": [
    "### Update"
   ]
  },
  {
   "cell_type": "code",
   "execution_count": null,
   "metadata": {},
   "outputs": [],
   "source": [
    "#| export\n",
    "\n",
    "UpdateFunction = Callable[List[Query], List[Query]]"
   ]
  },
  {
   "cell_type": "code",
   "execution_count": null,
   "metadata": {},
   "outputs": [],
   "source": []
  },
  {
   "cell_type": "code",
   "execution_count": null,
   "metadata": {},
   "outputs": [],
   "source": []
  },
  {
   "cell_type": "code",
   "execution_count": null,
   "metadata": {},
   "outputs": [],
   "source": []
  },
  {
   "cell_type": "code",
   "execution_count": null,
   "metadata": {},
   "outputs": [],
   "source": []
  },
  {
   "cell_type": "code",
   "execution_count": null,
   "metadata": {},
   "outputs": [],
   "source": []
  },
  {
   "cell_type": "code",
   "execution_count": null,
   "metadata": {},
   "outputs": [],
   "source": []
  }
 ],
 "metadata": {
  "kernelspec": {
   "display_name": "emb_opt",
   "language": "python",
   "name": "emb_opt"
  }
 },
 "nbformat": 4,
 "nbformat_minor": 4
}
