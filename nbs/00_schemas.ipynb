{
 "cells": [
  {
   "cell_type": "markdown",
   "metadata": {},
   "source": [
    "# Schemas\n",
    "\n",
    "> Data Schemas\n",
    "\n",
    "Standardized data schemas to standardize plugins"
   ]
  },
  {
   "cell_type": "code",
   "execution_count": null,
   "metadata": {},
   "outputs": [],
   "source": [
    "#| default_exp schemas"
   ]
  },
  {
   "cell_type": "code",
   "execution_count": null,
   "metadata": {},
   "outputs": [],
   "source": [
    "#| hide\n",
    "from nbdev.showdoc import *\n",
    "%load_ext autoreload\n",
    "%autoreload 2"
   ]
  },
  {
   "cell_type": "code",
   "execution_count": null,
   "metadata": {},
   "outputs": [],
   "source": [
    "#| export\n",
    "from emb_opt.imports import *"
   ]
  },
  {
   "cell_type": "markdown",
   "metadata": {},
   "source": [
    "## High Level Overview\n",
    "\n",
    "`emb_opt` is designed to run hill climbing algorithms in embedding spaces. In practice, this means we are searching through some explicit vector database or the implicit embedding space of some generative model, which we refer to as a `DataSource`. We denote the `continuous` space as referring to embeddings, and the `discrete` space as referring to discrete things represented by embeddings.\n",
    "\n",
    "The `DataSource` is queried with a `Query`. The `Query` contains a query embedding and optionally an `item` (some discrete thing represented by the embedding). The `DataSource` uses the `Query` to return a list of `Item` objects. An `Item` represents a discrete thing returned by the `DataSource`\n",
    "\n",
    "The `Item` results are optionally sent to a `Filter`, which removes results based on some True/False criteria.\n",
    "\n",
    "The `Item` results are then sent to a `Score` which assigns some numeric score value to each `Item`.\n",
    "\n",
    "The `Query` and scored `Item` results are sent to a `Update` which uses the scored items to generate a new `Query`. `Update` methods are denoted as `discrete` or `continuous`. `continuous` updates generate new queries purely in embedding space (ie by averaging `Item` embeddings). `discrete` updates create new queries specifically from `Item` results, such that each query can have a specific `item` associated with it (not possible with continuous updates). `continuous` updates generally converge faster, but certain types of `DataSource` may require a discrete item query and therefore be incompatible with `continuous` updates.\n",
    "\n",
    "Some `Update` methods generate multiple new queries. To control the total number of queries, a `Prune` step is optionally added before the `Update` step.\n",
    "\n",
    "The general flow is:\n",
    "1. Start with a `Batch` of `Query` objects\n",
    "* Query the `DataSource` \n",
    "* (optional) Send results to the `Filter`\n",
    "* Send results to the `Score`\n",
    "* (optional) `Prune` queries\n",
    "* Use scored results to `Update` to a new set of queries\n",
    "\n",
    "The schemas present here define the required input/output structure for each step to allow for fully flexible plugins to the process"
   ]
  },
  {
   "cell_type": "markdown",
   "metadata": {},
   "source": [
    "### Data Objects"
   ]
  },
  {
   "cell_type": "markdown",
   "metadata": {},
   "source": [
    "#### Internal Data\n",
    "\n",
    "`InternalData` tracks internal information as part of the embedding search. This data is managed internally, but may be useful for certain `Prune` or `Update` configurations.\n",
    "\n",
    "`InternalData.removed` denotes if the related `Item` or `Query` has been removed or invalidated by some step (see `DataSourceResponse`, `FilterResponse`, `ScoreResponse`, `PruneResponse`)\n",
    "\n",
    "`InternalData.removal_reason` details the removal reason\n",
    "\n",
    "`InternalData.parent_id` is the ID string of the parent `Query` to the related `Item` or `Query` object. `InternalData.parent_id` always points to a `Query`, never an `Item`\n",
    "\n",
    "`InternalData.collection_id` groups `Item` and `Query` objects that come from the same initial `Query`. This is useful when an `Update` step generates multiple new queries from a single input\n",
    "\n",
    "`InternalData.iteration` denotes which iteration of the search created the related `Item` or `Query`"
   ]
  },
  {
   "cell_type": "code",
   "execution_count": null,
   "metadata": {},
   "outputs": [],
   "source": [
    "#| export\n",
    "\n",
    "class InteralData(BaseModel):\n",
    "    'Internal Data Tracking'\n",
    "    removed: bool                 # if item/query has been removed by some step\n",
    "    removal_reason: Optional[str] # reason for removal\n",
    "    parent_id: Optional[str]      # parent query of item/query\n",
    "    collection_id: Optional[int]  # collection id of item/query\n",
    "    iteration: Optional[int]      # current iteration"
   ]
  },
  {
   "cell_type": "markdown",
   "metadata": {},
   "source": [
    "#### Item \n",
    "\n",
    "The `Item` schema is the basic \"object\" or \"thing\" we are looking for. The goal of `emb_opt` is to discover an `Item` with a high `score`\n",
    "\n",
    "`Item.id` is the index/ID of the item (for example the database index). If no ID is provided, one will be created as a UUID. `emb_opt` assumes `Item.id` is unique to the item.\n",
    "\n",
    "`Item.item` is the discrete thing itself\n",
    "\n",
    "`Item.score` is the score of the item. `emb_opt` assumes a hill climbing scenario where higher scores are better than lower scores.\n",
    "\n",
    "`Item.data` is a dictionary container for any other information associated with the item (ie other fields returned from a database query)"
   ]
  },
  {
   "cell_type": "code",
   "execution_count": null,
   "metadata": {},
   "outputs": [],
   "source": [
    "#| export\n",
    "\n",
    "class Item(BaseModel, extra='allow'):\n",
    "    id: Optional[Union[str, int]] # id/index of item\n",
    "    item: Optional[Any]           # the item itself\n",
    "    embedding: List[float]        # embedding representing the item\n",
    "    score: Optional[float]        # item score\n",
    "    data: Optional[dict]          # any other associated data\n",
    "    \n",
    "    @model_validator(mode='after')\n",
    "    def _fill_internal(self):\n",
    "        if not hasattr(self, 'internal'):\n",
    "            self.internal = InteralData(\n",
    "                                    removed=False, \n",
    "                                    removal_reason=None,\n",
    "                                    parent_id=None, \n",
    "                                    collection_id=None,\n",
    "                                    iteration=None\n",
    "                                    )\n",
    "        \n",
    "        if self.data is None:\n",
    "            self.data = {}\n",
    "            \n",
    "        if self.id is None:\n",
    "            self.id = f'item_{str(uuid.uuid1())}'\n",
    "            \n",
    "        return self\n",
    "    \n",
    "    def update_internal(self, **kwargs):\n",
    "        self.internal.__dict__.update(kwargs)\n",
    "        \n",
    "    @classmethod\n",
    "    def from_minimal(cls, \n",
    "                     id: Optional[Union[str, int]]=None, \n",
    "                     item: Optional[Any]=None, \n",
    "                     embedding: List[float]=None, \n",
    "                     score: Optional[float]=None, \n",
    "                     data: Optional[dict]=None):\n",
    "        'convenience function for creating an `Item` with default `None` values'\n",
    "        return cls(id=id, item=item, embedding=embedding, score=score, data=data)"
   ]
  },
  {
   "cell_type": "code",
   "execution_count": null,
   "metadata": {},
   "outputs": [],
   "source": [
    "item = Item(id=None, embedding=[0.1], item=None, score=None, data=None)\n",
    "assert item.id\n",
    "old_id = item.id\n",
    "item = Item.model_validate(item)\n",
    "assert item.id == old_id"
   ]
  },
  {
   "cell_type": "markdown",
   "metadata": {},
   "source": [
    "#### Query\n",
    "\n",
    "A `Query` is the basic object for searching a `DataSource` and holding `Item` results returned by the search.\n",
    "\n",
    "`Query.item` is an (optional) discrete item associated with the Query. This is populated automatically when they query is created from an `Item` via `Query.from_item`\n",
    "\n",
    "`Query.embedding` is the embedding associated with the `Query`\n",
    "\n",
    "`Query.data` is a dictionary container for any other information associated with the query\n",
    "\n",
    "`Query.query_results` is a list of `Item` objects returned from a query"
   ]
  },
  {
   "cell_type": "code",
   "execution_count": null,
   "metadata": {},
   "outputs": [],
   "source": [
    "#| export\n",
    "\n",
    "class Query(BaseModel, extra='allow'):\n",
    "    item: Optional[Any]\n",
    "    embedding: List[float]\n",
    "    data: Optional[dict]\n",
    "    query_results: Optional[list[Item]]\n",
    "        \n",
    "    def __iter__(self):\n",
    "        return iter(self.query_results)\n",
    "\n",
    "    def __getitem__(self, idx: int):\n",
    "        return self.query_results[idx]\n",
    "    \n",
    "    def __len__(self):\n",
    "        return len(self.query_results)\n",
    "    \n",
    "    def valid_results(self) -> Item:\n",
    "        '''\n",
    "        iterates over `self.query_results`, skipping results \n",
    "        with `internal.removed=True`\n",
    "        '''\n",
    "        for result in self.query_results:\n",
    "            if not result.internal.removed:\n",
    "                yield result\n",
    "    \n",
    "    def enumerate_query_results(self, skip_removed: bool=True) -> (int, Item):\n",
    "        '''\n",
    "        enumerates over `self.query_results`. if `skip_removed=True`,\n",
    "        results with `internal.removed=True` are ignored\n",
    "        '''\n",
    "        for i, result in enumerate(self.query_results):\n",
    "            if skip_removed:\n",
    "                if not result.internal.removed:\n",
    "                    yield (i, result)\n",
    "            else:\n",
    "                yield (i, result)\n",
    "    \n",
    "    @model_validator(mode='after')\n",
    "    def _fill_internal(self):\n",
    "        if not hasattr(self, 'internal'):\n",
    "            self.internal = InteralData(\n",
    "                                        removed=False, \n",
    "                                        removal_reason=None,      \n",
    "                                        parent_id=None, \n",
    "                                        collection_id=None,\n",
    "                                        iteration=None\n",
    "                                    )\n",
    "            \n",
    "        if not hasattr(self, 'id'):\n",
    "            self.id = f'query_{str(uuid.uuid1())}'\n",
    "        \n",
    "        if self.query_results is None:\n",
    "            self.query_results = []\n",
    "            \n",
    "        if self.data is None:\n",
    "            self.data = {}\n",
    "            \n",
    "        return self\n",
    "                \n",
    "    @classmethod\n",
    "    def from_item(cls, item: Item):\n",
    "        '''\n",
    "        creates a `Query` from an input `Item`. The `item`, `embedding`, and `data` \n",
    "        attributes from the `Item` are propagated to the `Query`, as well as the \n",
    "        item's parent query ID\n",
    "        '''\n",
    "        query = cls(item=item.item, embedding=item.embedding, data=item.data, query_results=None)\n",
    "        query.data['_source_item_id'] = item.id\n",
    "        query.update_internal(parent_id=item.internal.parent_id, \n",
    "                              collection_id=item.internal.collection_id)\n",
    "        return query\n",
    "    \n",
    "    @classmethod\n",
    "    def from_parent_query(cls, embedding: List[float], parent_query):\n",
    "        '''\n",
    "        creates a `Query` from an input `embedding` and a parent `Query`. The new\n",
    "        `Query` is created from the `embedding` and assigned the `parent_query` ID as \n",
    "        the parent ID\n",
    "        '''\n",
    "        query = cls(item=None, embedding=embedding, data={}, query_results=None)\n",
    "        query.update_internal(parent_id=parent_query.id, \n",
    "                              collection_id=parent_query.internal.collection_id)\n",
    "        return query\n",
    "    \n",
    "    def add_query_results(self, query_results: List[Item]) -> None:\n",
    "        '''\n",
    "        Adds query results and propagates query parent information to them\n",
    "        '''\n",
    "        for result in query_results:\n",
    "            result.update_internal(parent_id=self.id, \n",
    "                                   collection_id=self.internal.collection_id, \n",
    "                                   iteration=self.internal.iteration)\n",
    "            self.query_results.append(result)\n",
    "    \n",
    "    def update_internal(self, **kwargs):\n",
    "        self.internal.__dict__.update(kwargs)\n",
    "        if (len(self.query_results)>0) and (len(list(self.valid_results()))==0):\n",
    "            self.internal.__dict__.update({'removed':True, 'removal_reason':'all query results removed'})\n",
    "            \n",
    "    @classmethod\n",
    "    def from_minimal(cls, \n",
    "                     item: Optional[Any]=None, \n",
    "                     embedding: List[float]=None, \n",
    "                     data: Optional[dict]=None,\n",
    "                     query_results: Optional[List[Item]]=None\n",
    "                    ):\n",
    "        'convenience function for creating an `Query` with default `None` values'\n",
    "        return cls(item=item, embedding=embedding, data=data, query_results=query_results)"
   ]
  },
  {
   "cell_type": "markdown",
   "metadata": {},
   "source": [
    "A `Query` holds `Items`, tracks parent/child relationships, and allows for convenient iteration"
   ]
  },
  {
   "cell_type": "code",
   "execution_count": null,
   "metadata": {},
   "outputs": [],
   "source": [
    "query = Query.from_minimal(embedding=[0.1])\n",
    "query.update_internal(collection_id=0) # add collection ID\n",
    "\n",
    "query_results = [\n",
    "    Item.from_minimal(item='item1', embedding=[0.1]),\n",
    "    Item.from_minimal(item='item2', embedding=[0.1]),\n",
    "]\n",
    "\n",
    "query.add_query_results(query_results)\n",
    "\n",
    "# iteration over query results\n",
    "assert len([i for i in query]) == 2\n",
    "\n",
    "# propagation of query parent data\n",
    "\n",
    "for query_result in query:\n",
    "    assert query_result.internal.parent_id == query.id\n",
    "    assert query_result.internal.collection_id == query.internal.collection_id"
   ]
  },
  {
   "cell_type": "markdown",
   "metadata": {},
   "source": [
    "Items may be removed by various steps. Removed items are kept within the `Query` for logging purposes. `Query.valid_results` and `Query.enumerate_query_results` allow us to automatically skip removed items during iteration"
   ]
  },
  {
   "cell_type": "code",
   "execution_count": null,
   "metadata": {},
   "outputs": [],
   "source": [
    "assert len(list(query.valid_results())) == 2\n",
    "\n",
    "query.query_results[0].update_internal(removed=True) # set first result to removed\n",
    "\n",
    "assert len(list(query.valid_results())) == 1\n",
    "\n",
    "assert len(list(query.enumerate_query_results())) == 1\n",
    "assert len(list(query.enumerate_query_results(skip_removed=False))) == 2\n",
    "\n",
    "query.query_results[1].update_internal(removed=True) # set second result to removed\n",
    "query.update_internal() # update query internal\n",
    "assert query.internal.removed # query sets itself to removed when all query results are removed"
   ]
  },
  {
   "cell_type": "markdown",
   "metadata": {},
   "source": [
    "Queries can be created from another `Query` or another `Item`, with automatic data propagation between them"
   ]
  },
  {
   "cell_type": "code",
   "execution_count": null,
   "metadata": {},
   "outputs": [],
   "source": [
    "# create query from item\n",
    "item = Item.from_minimal(item='test_item', embedding=[0.1])\n",
    "query = Query.from_item(item)\n",
    "assert query.item == item.item\n",
    "\n",
    "# create query from query\n",
    "query = Query.from_minimal(embedding=[0.1])\n",
    "new_query = Query.from_parent_query(embedding=[0.2], parent_query=query)\n",
    "assert new_query.internal.parent_id == query.id"
   ]
  },
  {
   "cell_type": "markdown",
   "metadata": {},
   "source": [
    "#### Batch\n",
    "\n",
    "The `Batch` object holds a list of `Query` objects and provides convenience functions for iterating over queries and query results"
   ]
  },
  {
   "cell_type": "code",
   "execution_count": null,
   "metadata": {},
   "outputs": [],
   "source": [
    "#| export\n",
    "\n",
    "class Batch(BaseModel):\n",
    "    queries: List[Query]\n",
    "        \n",
    "    def __iter__(self):\n",
    "        return iter(self.queries)\n",
    "\n",
    "    def __getitem__(self, idx: int):\n",
    "        return self.queries[idx]\n",
    "    \n",
    "    def __len__(self):\n",
    "        return len(self.queries)\n",
    "    \n",
    "    def get_item(self, \n",
    "                 query_index: int, \n",
    "                 result_index: Optional[int]=None) -> Union[Query, Item]:\n",
    "        '''\n",
    "        Selects an item from the batch.\n",
    "        \n",
    "        If `result_index=None`, returns the `Query` found at `self.queries[query_index]`\n",
    "        \n",
    "        Otherwise, returns the `Item` found at `self.queries[query_index][result_index]`\n",
    "        '''\n",
    "        if result_index is not None:\n",
    "            return self.queries[query_index][result_index]\n",
    "        else:\n",
    "            return self.queries[query_index]\n",
    "        \n",
    "    def valid_queries(self) -> Query:\n",
    "        'Iterates over valid queries'\n",
    "        for query in self.queries:\n",
    "            if not query.internal.removed:\n",
    "                yield query\n",
    "        \n",
    "    def enumerate_queries(self, skip_removed=True) -> (Tuple[int, None], Query):\n",
    "        '''\n",
    "        enumerates over `self.queries`. if `skip_removed=True`,\n",
    "        queries with `internal.removed=True` are ignored\n",
    "        '''\n",
    "        for i, query in enumerate(self.queries):\n",
    "            if skip_removed:\n",
    "                if not query.internal.removed:\n",
    "                    yield ((i,None), query)\n",
    "            else:\n",
    "                yield ((i,None), query)\n",
    "                \n",
    "    def enumerate_query_results(self, skip_removed=True) -> (Tuple[int, int], Item):\n",
    "        '''\n",
    "        enumerates over results contained in `self.queries`. \n",
    "        if `skip_removed=True`, results with `internal.removed=True` \n",
    "        are ignored\n",
    "        '''\n",
    "        for (i,_), query in self.enumerate_queries(skip_removed):\n",
    "            for j, result in query.enumerate_query_results(skip_removed):\n",
    "                yield ((i,j), result)\n",
    "\n",
    "                \n",
    "    def flatten_queries(self, skip_removed=True) -> (List[Tuple[int, None]], List[Query]):\n",
    "        '''\n",
    "        flattens `self.queries`, returing a list of index values and \n",
    "        a list of queries.\n",
    "        \n",
    "        if `skip_removed=True`, queries with `internal.removed=True` \n",
    "        are ignored\n",
    "        '''\n",
    "        idxs = []\n",
    "        outputs = []\n",
    "        for i, q in self.enumerate_queries(skip_removed):\n",
    "            idxs.append(i)\n",
    "            outputs.append(q)\n",
    "        return idxs, outputs\n",
    "                \n",
    "    def flatten_query_results(self, skip_removed=True) -> (List[Tuple[int, int]], List[Item]):\n",
    "        '''\n",
    "        flattens results contained in `self.queries`, \n",
    "        returing a list of index values and a list of items.\n",
    "        \n",
    "        if `skip_removed=True`, results with `internal.removed=True` \n",
    "        are ignored\n",
    "        '''\n",
    "        idxs = []\n",
    "        outputs = []\n",
    "        for i, r in self.enumerate_query_results(skip_removed):\n",
    "            idxs.append(i)\n",
    "            outputs.append(r)\n",
    "        return idxs, outputs"
   ]
  },
  {
   "cell_type": "markdown",
   "metadata": {},
   "source": [
    "A `Batch` allows us to iterate over the queries and items in the batch in several ways"
   ]
  },
  {
   "cell_type": "code",
   "execution_count": null,
   "metadata": {},
   "outputs": [],
   "source": [
    "def build_test_batch(n_queries, n_items):\n",
    "    queries = []\n",
    "    \n",
    "    for i in range(n_queries):\n",
    "        query = Query.from_minimal(item=f'query_{i}', embedding=[0.1])\n",
    "        for j in range(n_items):\n",
    "            item = Item.from_minimal(item=f'item_{j}', embedding=[0.1])\n",
    "            query.add_query_results([item])\n",
    "        queries.append(query)\n",
    "    return Batch(queries=queries)\n",
    "\n",
    "n_queries = 3\n",
    "n_items = 4\n",
    "batch = build_test_batch(n_queries, n_items)\n",
    "\n",
    "assert len(list(batch.valid_queries())) == n_queries\n",
    "\n",
    "idxs, results = batch.flatten_query_results()\n",
    "assert len(results) == n_queries*n_items\n",
    "assert batch.get_item(*idxs[0]) == batch[idxs[0][0]][idxs[0][1]]"
   ]
  },
  {
   "cell_type": "markdown",
   "metadata": {},
   "source": [
    "When items or queries are removed, this is accounted for "
   ]
  },
  {
   "cell_type": "code",
   "execution_count": null,
   "metadata": {},
   "outputs": [],
   "source": [
    "batch = build_test_batch(n_queries, n_items)\n",
    "\n",
    "batch[1].update_internal(removed=True) # invalidate query\n",
    "batch[0][0].update_internal(removed=True) # invalidate item\n",
    "batch[0][1].update_internal(removed=True) # invalidate item\n",
    "\n",
    "assert len(list(batch.valid_queries())) == n_queries-1 # 1 batch removed\n",
    "\n",
    "idxs, results = batch.flatten_query_results(skip_removed=False) # return all queries\n",
    "assert len(results) == n_queries*n_items\n",
    "\n",
    "# skips results where `removed=True`, and all results under a query with `removed=True`\n",
    "idxs, results = batch.flatten_query_results(skip_removed=True)\n",
    "\n",
    "# n_items removed from invalid query 1, 2 items invalidated\n",
    "assert len(results) == n_queries*n_items - n_items - 2"
   ]
  },
  {
   "cell_type": "markdown",
   "metadata": {},
   "source": [
    "### Data Source\n",
    "\n",
    "The `DataSourceFunction` schema defines the interface for data source queries. The function takes a list of `Query` objects and returns a list of `DataSourceResponse` objects."
   ]
  },
  {
   "cell_type": "code",
   "execution_count": null,
   "metadata": {},
   "outputs": [],
   "source": [
    "#| export\n",
    "\n",
    "class DataSourceResponse(BaseModel):\n",
    "    valid: bool                # if input `Query` was valid (if False, associated `Query` is removed)\n",
    "    data: Optional[Dict]       # optional dict of data associated with the query\n",
    "    query_results: List[Item]  # list of `Item` results"
   ]
  },
  {
   "cell_type": "code",
   "execution_count": null,
   "metadata": {},
   "outputs": [],
   "source": [
    "#| export\n",
    "\n",
    "DataSourceFunction = Callable[List[Query], List[DataSourceResponse]]"
   ]
  },
  {
   "cell_type": "markdown",
   "metadata": {},
   "source": [
    "### Filter\n",
    "\n",
    "The `FilterFunction` schema defines the interface for filtering result items. The function takes a list of `Item` objects and returns a list of `FilterResponse` objects."
   ]
  },
  {
   "cell_type": "code",
   "execution_count": null,
   "metadata": {},
   "outputs": [],
   "source": [
    "#| export\n",
    "\n",
    "class FilterResponse(BaseModel):\n",
    "    valid: bool           # if the input `Item` is valid (if False, associated `Item` is removed)\n",
    "    data: Optional[Dict]  # optional dict of data associated with the filter response"
   ]
  },
  {
   "cell_type": "code",
   "execution_count": null,
   "metadata": {},
   "outputs": [],
   "source": [
    "#| export\n",
    "\n",
    "FilterFunction = Callable[List[Item], List[FilterResponse]]"
   ]
  },
  {
   "cell_type": "markdown",
   "metadata": {},
   "source": [
    "### Score\n",
    "\n",
    "The `ScoreFunction` schema defines the interface for scoring result items. The function takes a list of `Item` objects and returns a list of `ScoreResponse` objects."
   ]
  },
  {
   "cell_type": "code",
   "execution_count": null,
   "metadata": {},
   "outputs": [],
   "source": [
    "#| export\n",
    "\n",
    "class ScoreResponse(BaseModel):\n",
    "    valid: bool             # if the input `Item` is valid (if False, associated `Item` is removed)\n",
    "    score: Optional[float]  # the score of the input `Item`. Can be `None` if `valid=False`\n",
    "    data: Optional[Dict]    # optional dict of data associated with the score response"
   ]
  },
  {
   "cell_type": "code",
   "execution_count": null,
   "metadata": {},
   "outputs": [],
   "source": [
    "#| export\n",
    "\n",
    "ScoreFunction = Callable[List[Item], List[ScoreResponse]]"
   ]
  },
  {
   "cell_type": "markdown",
   "metadata": {},
   "source": [
    "### Prune\n",
    "\n",
    "The `PruneFunction` schema defines the interface for pruning queries. The function takes a list of `Query` objects and returns a list of `PruneResponse` objects."
   ]
  },
  {
   "cell_type": "code",
   "execution_count": null,
   "metadata": {},
   "outputs": [],
   "source": [
    "#| export\n",
    "\n",
    "class PruneResponse(BaseModel):\n",
    "    valid: bool           # if the input `Query` item is valid (if False, the associated `Query` is removed)\n",
    "    data: Optional[Dict]  # optional dict of data associated with the prune response"
   ]
  },
  {
   "cell_type": "code",
   "execution_count": null,
   "metadata": {},
   "outputs": [],
   "source": [
    "#| export\n",
    "\n",
    "PruneFunction = Callable[List[Query], List[PruneResponse]]"
   ]
  },
  {
   "cell_type": "markdown",
   "metadata": {},
   "source": [
    "### Update\n",
    "\n",
    "The `UpdateFunction` schema defines the interface for pruning queries. The function takes a list of `Query` objects and returns a list of new `Query` objects."
   ]
  },
  {
   "cell_type": "code",
   "execution_count": null,
   "metadata": {},
   "outputs": [],
   "source": [
    "#| export\n",
    "\n",
    "UpdateFunction = Callable[List[Query], List[Query]]"
   ]
  },
  {
   "cell_type": "code",
   "execution_count": null,
   "metadata": {},
   "outputs": [],
   "source": []
  },
  {
   "cell_type": "code",
   "execution_count": null,
   "metadata": {},
   "outputs": [],
   "source": []
  },
  {
   "cell_type": "code",
   "execution_count": null,
   "metadata": {},
   "outputs": [],
   "source": []
  },
  {
   "cell_type": "code",
   "execution_count": null,
   "metadata": {},
   "outputs": [],
   "source": []
  },
  {
   "cell_type": "code",
   "execution_count": null,
   "metadata": {},
   "outputs": [],
   "source": []
  },
  {
   "cell_type": "code",
   "execution_count": null,
   "metadata": {},
   "outputs": [],
   "source": []
  }
 ],
 "metadata": {
  "kernelspec": {
   "display_name": "emb_opt",
   "language": "python",
   "name": "emb_opt"
  }
 },
 "nbformat": 4,
 "nbformat_minor": 4
}
