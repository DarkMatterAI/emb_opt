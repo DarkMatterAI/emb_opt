{
 "cells": [
  {
   "cell_type": "markdown",
   "metadata": {},
   "source": [
    "# faiss\n",
    "\n",
    "> faiss backend API"
   ]
  },
  {
   "cell_type": "code",
   "execution_count": null,
   "metadata": {},
   "outputs": [],
   "source": [
    "#| default_exp backends.faiss"
   ]
  },
  {
   "cell_type": "code",
   "execution_count": null,
   "metadata": {},
   "outputs": [],
   "source": [
    "#| hide\n",
    "from nbdev.showdoc import *\n",
    "%load_ext autoreload\n",
    "%autoreload 2"
   ]
  },
  {
   "cell_type": "code",
   "execution_count": null,
   "metadata": {},
   "outputs": [],
   "source": [
    "#| export\n",
    "from emb_opt.imports import *\n",
    "from emb_opt.core import QueryDataset, QueryResult, VectorDatabase\n",
    "import faiss"
   ]
  },
  {
   "cell_type": "code",
   "execution_count": null,
   "metadata": {},
   "outputs": [],
   "source": [
    "query_vecs = np.random.randn(2, 256)\n",
    "\n",
    "vector_database = np.random.randn(64, 256)\n",
    "\n",
    "topk = 24\n",
    "\n",
    "dists = ((query_vecs[:,None] - vector_database[None])**2).sum(-1)**0.5\n",
    "nearest = dists.argsort(-1)[:, -topk:]\n",
    "\n",
    "query_results = []\n",
    "\n",
    "for query_idx in range(query_vecs.shape[0]):\n",
    "    for db_idx in nearest[query_idx]:\n",
    "        result = QueryResult(query_idx, db_idx, vector_database[db_idx], \n",
    "                             dists[query_idx, db_idx], {'randint': np.random.randint(0,100)})\n",
    "        query_results.append(result)\n",
    "        \n",
    "query_dataset = QueryDataset.from_query_results(query_results)"
   ]
  },
  {
   "cell_type": "code",
   "execution_count": null,
   "metadata": {},
   "outputs": [],
   "source": []
  },
  {
   "cell_type": "code",
   "execution_count": null,
   "metadata": {},
   "outputs": [],
   "source": []
  }
 ],
 "metadata": {
  "kernelspec": {
   "display_name": "emb_opt",
   "language": "python",
   "name": "emb_opt"
  }
 },
 "nbformat": 4,
 "nbformat_minor": 4
}
