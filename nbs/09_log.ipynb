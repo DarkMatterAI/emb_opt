{
 "cells": [
  {
   "cell_type": "markdown",
   "metadata": {},
   "source": [
    "# Log\n",
    "\n",
    "> Log functions and classes"
   ]
  },
  {
   "cell_type": "code",
   "execution_count": null,
   "metadata": {},
   "outputs": [],
   "source": [
    "#| default_exp log"
   ]
  },
  {
   "cell_type": "code",
   "execution_count": null,
   "metadata": {},
   "outputs": [],
   "source": [
    "#| hide\n",
    "from nbdev.showdoc import *\n",
    "%load_ext autoreload\n",
    "%autoreload 2"
   ]
  },
  {
   "cell_type": "code",
   "execution_count": null,
   "metadata": {},
   "outputs": [],
   "source": [
    "#| export\n",
    "from emb_opt.imports import *\n",
    "from emb_opt.schemas import Query, Batch"
   ]
  },
  {
   "cell_type": "markdown",
   "metadata": {},
   "source": [
    "With branching updates, it can be hard to track the movement of an initial query to a final query. The `QueryTree` class constructs a tree of `Node` objects to map parent/child relationships between search iterations"
   ]
  },
  {
   "cell_type": "code",
   "execution_count": null,
   "metadata": {},
   "outputs": [],
   "source": [
    "#| export\n",
    "\n",
    "class Node():\n",
    "    def __init__(self, query: Query, iteration: int):\n",
    "        self.query = query\n",
    "        self.iteration = iteration\n",
    "        self.id = self.query.id\n",
    "        self.parent = None\n",
    "        self.children = {}\n",
    "        self.prepare()\n",
    "        \n",
    "    def prepare(self):\n",
    "        self.mean_score = None\n",
    "        self.max_score = None\n",
    "        self.removed = self.query.internal.removed\n",
    "        \n",
    "        result_scores = [i.score for i in self.query.valid_results() if (i.score is not None)]\n",
    "        if result_scores:\n",
    "            result_scores = np.array(result_scores)\n",
    "            self.mean_score = result_scores.mean()\n",
    "            self.max_score = result_scores.max()\n",
    "            \n",
    "    def add_child(self, child):\n",
    "        child.parent = self\n",
    "        self.children[child.id] = child\n",
    "        \n",
    "    def add_parent(self, parent):\n",
    "        self.parent = parent\n",
    "        parent.children[self.id] = self"
   ]
  },
  {
   "cell_type": "code",
   "execution_count": null,
   "metadata": {},
   "outputs": [],
   "source": [
    "#| export\n",
    "\n",
    "class QueryTree():\n",
    "    def __init__(self):\n",
    "        self.id_dict = {}\n",
    "        self.nodes = []\n",
    "        self.root_nodes = []\n",
    "        \n",
    "    def add_node(self, query: Query, iteration: int):\n",
    "        node = Node(query, iteration)\n",
    "        parent_id = query.internal.parent_id\n",
    "        parent = self.id_dict.get(parent_id, None)\n",
    "        \n",
    "        if parent is None:\n",
    "            self.root_nodes.append(node)\n",
    "        else:\n",
    "            node.add_parent(parent)\n",
    "            \n",
    "        self.id_dict[node.id] = node\n",
    "        self.nodes.append(node)\n",
    "        \n",
    "    def leaf_nodes(self, include_removed=False):\n",
    "        for node in self.nodes:\n",
    "            parent_check = node.parent is not None\n",
    "            child_check = not node.children\n",
    "            removed_check = True if include_removed else (not node.removed)\n",
    "            if parent_check and child_check and removed_check:\n",
    "                yield node\n",
    "                \n",
    "    def backtrack_node(self, node=None, node_id=None):\n",
    "        if node_id is not None:\n",
    "            node = self.id_dict.get(node_id)\n",
    "            \n",
    "        outputs = []\n",
    "        current = node\n",
    "        while current:\n",
    "            outputs.append(current)\n",
    "            current = current.parent\n",
    "            \n",
    "        return outputs "
   ]
  },
  {
   "cell_type": "markdown",
   "metadata": {},
   "source": [
    "Search iteration batches are logged in the `Log` class"
   ]
  },
  {
   "cell_type": "code",
   "execution_count": null,
   "metadata": {},
   "outputs": [],
   "source": [
    "#| export\n",
    "\n",
    "class Log():\n",
    "    def __init__(self):\n",
    "        self.batch_log = []\n",
    "        self.query_tree = QueryTree()\n",
    "        \n",
    "    def get_item(self, \n",
    "                 iteration: int, \n",
    "                 query_index: Optional[int]=None, \n",
    "                 result_index: Optional[int]=None):\n",
    "        \n",
    "        result = self.batch_log[iteration]\n",
    "        \n",
    "        if query_index is not None:\n",
    "            result = result.queries[query_index]\n",
    "            \n",
    "        if result_index is not None:\n",
    "            result = result.query_results[result_index]\n",
    "        \n",
    "        return result\n",
    "    \n",
    "    def add_batch(self, batch: Batch):\n",
    "        iteration = len(self.batch_log)\n",
    "        self.batch_log.append(batch)\n",
    "        for query in batch:\n",
    "            self.query_tree.add_node(query, iteration)\n",
    "\n",
    "    def compile_results(self, skip_removed: bool=True):\n",
    "        output_dict = {}\n",
    "        for batch in self.batch_log:\n",
    "            for _, result in batch.enumerate_query_results(skip_removed):\n",
    "                result_dict = result.model_dump()\n",
    "                if result_dict.get('internal', None) is not None:\n",
    "                    result_dict.pop('internal')\n",
    "                    \n",
    "                output_dict[result.id] = result_dict\n",
    "                \n",
    "        results = sorted([i for i in output_dict.values()], \n",
    "                         key=lambda x: x['score'] if x['score'] else float('-inf'), reverse=True)\n",
    "        return results\n",
    "    \n",
    "    def dump_batch_log(self):\n",
    "        output = {'batch_log' : [i.model_dump() for i in self.batch_log]}\n",
    "        return output"
   ]
  },
  {
   "cell_type": "code",
   "execution_count": null,
   "metadata": {},
   "outputs": [],
   "source": []
  },
  {
   "cell_type": "code",
   "execution_count": null,
   "metadata": {},
   "outputs": [],
   "source": []
  }
 ],
 "metadata": {
  "kernelspec": {
   "display_name": "emb_opt",
   "language": "python",
   "name": "emb_opt"
  }
 },
 "nbformat": 4,
 "nbformat_minor": 4
}
