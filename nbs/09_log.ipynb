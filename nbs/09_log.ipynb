{
 "cells": [
  {
   "cell_type": "markdown",
   "metadata": {},
   "source": [
    "# Log\n",
    "\n",
    "> Log functions and classes"
   ]
  },
  {
   "cell_type": "code",
   "execution_count": null,
   "metadata": {},
   "outputs": [],
   "source": [
    "#| default_exp log"
   ]
  },
  {
   "cell_type": "code",
   "execution_count": null,
   "metadata": {},
   "outputs": [],
   "source": [
    "#| hide\n",
    "from nbdev.showdoc import *\n",
    "%load_ext autoreload\n",
    "%autoreload 2"
   ]
  },
  {
   "cell_type": "code",
   "execution_count": null,
   "metadata": {},
   "outputs": [
    {
     "name": "stderr",
     "output_type": "stream",
     "text": [
      "/home/dmai/miniconda3/envs/emb_opt/lib/python3.9/site-packages/tqdm/auto.py:21: TqdmWarning: IProgress not found. Please update jupyter and ipywidgets. See https://ipywidgets.readthedocs.io/en/stable/user_install.html\n",
      "  from .autonotebook import tqdm as notebook_tqdm\n"
     ]
    }
   ],
   "source": [
    "#| export\n",
    "from emb_opt.imports import *\n",
    "from emb_opt.schemas import Query, Batch"
   ]
  },
  {
   "cell_type": "code",
   "execution_count": null,
   "metadata": {},
   "outputs": [],
   "source": [
    "#| export\n",
    "\n",
    "class Log():\n",
    "    def __init__(self):\n",
    "        self.batch_log = []\n",
    "        \n",
    "    def get_item(self, \n",
    "                 iteration: int, \n",
    "                 query_index: Optional[int]=None, \n",
    "                 result_index: Optional[int]=None):\n",
    "        \n",
    "        result = self.batch_log[iteration]\n",
    "        \n",
    "        if query_index is not None:\n",
    "            result = result.queries[query_index]\n",
    "            \n",
    "        if result_index is not None:\n",
    "            result = result.query_results[result_index]\n",
    "        \n",
    "        return result\n",
    "    \n",
    "    def add_batch(self, batch: Batch):\n",
    "        iteration = len(self.batch_log)\n",
    "        self.batch_log.append(batch)\n",
    "\n",
    "    def compile_results(self, skip_removed: bool=True):\n",
    "        output_dict = {}\n",
    "        for batch in self.batch_log:\n",
    "            for _, result in batch.enumerate_query_results(skip_removed):\n",
    "                result_dict = result.model_dump()\n",
    "                if result_dict.get('internal', None) is not None:\n",
    "                    result_dict.pop('internal')\n",
    "                    \n",
    "                output_dict[result.id] = result_dict\n",
    "                \n",
    "        results = sorted([i for i in output_dict.values()], \n",
    "                         key=lambda x: x['score'] if x['score'] else float('-inf'), reverse=True)\n",
    "        return results"
   ]
  },
  {
   "cell_type": "code",
   "execution_count": null,
   "metadata": {},
   "outputs": [],
   "source": [
    "#| export\n",
    "\n",
    "class Node():\n",
    "    def __init__(self, query: Query, iteration: int):\n",
    "        self.query = query\n",
    "        self.iteration = iteration\n",
    "        self.id = self.query.id\n",
    "        self.parent = None\n",
    "        self.children = {}\n",
    "        self.prepare()\n",
    "        \n",
    "    def prepare(self):\n",
    "        self.mean_score = None\n",
    "        self.max_score = None\n",
    "        self.removed = self.query.internal.removed\n",
    "        \n",
    "        result_scores = [i.score for i in self.query.valid_results() if (i.score is not None)]\n",
    "        if result_scores:\n",
    "            result_scores = np.array(result_scores)\n",
    "            self.mean_score = result_scores.mean()\n",
    "            self.max_score = result_scores.max()\n",
    "            \n",
    "    def add_child(self, child):\n",
    "        child.parent = self\n",
    "        self.children[child.id] = child\n",
    "        \n",
    "    def add_parent(self, parent):\n",
    "        self.parent = parent\n",
    "        parent.children[self.id] = self"
   ]
  },
  {
   "cell_type": "code",
   "execution_count": null,
   "metadata": {},
   "outputs": [],
   "source": [
    "#| export\n",
    "\n",
    "class QueryTree():\n",
    "    def __init__(self):\n",
    "        self.id_dict = {}\n",
    "        self.nodes = []\n",
    "        self.leaf_nodes = []\n",
    "        self.final_nodes = []\n",
    "        \n",
    "    def build_tree(self, log):\n",
    "        for iteration, batch in enumerate(log.batch_log):\n",
    "            for query in batch:\n",
    "                node = Node(query, iteration)\n",
    "                self.nodes.append(node)\n",
    "                self.id_dict[node.id] = node\n",
    "                parent_node = self.id_dict.get(node.query.internal.parent_id, None)\n",
    "                if parent_node is not None:\n",
    "                    parent_node.add_child(node)\n",
    "                    \n",
    "        for node in self.nodes:\n",
    "            if not node.children:\n",
    "                self.leaf_nodes.append(node)\n",
    "                \n",
    "                if node.iteration == iteration:\n",
    "                    self.final_nodes.append(node)"
   ]
  },
  {
   "cell_type": "code",
   "execution_count": null,
   "metadata": {},
   "outputs": [],
   "source": []
  },
  {
   "cell_type": "code",
   "execution_count": null,
   "metadata": {},
   "outputs": [],
   "source": []
  }
 ],
 "metadata": {
  "kernelspec": {
   "display_name": "emb_opt",
   "language": "python",
   "name": "emb_opt"
  }
 },
 "nbformat": 4,
 "nbformat_minor": 4
}
