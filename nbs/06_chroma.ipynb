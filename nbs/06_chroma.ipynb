{
 "cells": [
  {
   "cell_type": "markdown",
   "metadata": {},
   "source": [
    "# chroma\n",
    "\n",
    "> chroma backend API"
   ]
  },
  {
   "cell_type": "code",
   "execution_count": null,
   "metadata": {},
   "outputs": [],
   "source": [
    "#| default_exp backends.chroma"
   ]
  },
  {
   "cell_type": "code",
   "execution_count": null,
   "metadata": {},
   "outputs": [],
   "source": [
    "#| hide\n",
    "from nbdev.showdoc import *\n",
    "%load_ext autoreload\n",
    "%autoreload 2"
   ]
  },
  {
   "cell_type": "code",
   "execution_count": null,
   "metadata": {},
   "outputs": [
    {
     "name": "stderr",
     "output_type": "stream",
     "text": [
      "/home/dmai/miniconda3/envs/emb_opt/lib/python3.9/site-packages/tqdm/auto.py:21: TqdmWarning: IProgress not found. Please update jupyter and ipywidgets. See https://ipywidgets.readthedocs.io/en/stable/user_install.html\n",
      "  from .autonotebook import tqdm as notebook_tqdm\n"
     ]
    }
   ],
   "source": [
    "#| export\n",
    "from emb_opt.imports import *\n",
    "from emb_opt.core import QueryDataset, QueryResult, VectorDatabase\n",
    "\n",
    "try:\n",
    "    import chromadb\n",
    "    from chromadb.api import Collection\n",
    "except:\n",
    "    warnings.warn('Failed to import Chroma - check package install')"
   ]
  },
  {
   "cell_type": "code",
   "execution_count": null,
   "metadata": {},
   "outputs": [],
   "source": [
    "#| export\n",
    "\n",
    "class ChromaDatabase(VectorDatabase):\n",
    "    def __init__(self, \n",
    "                 chroma_collection: Collection,\n",
    "                 k: int,\n",
    "                 query_kwargs: Optional[dict]=None\n",
    "                ):\n",
    "        self.collection = collection\n",
    "        self.k = k\n",
    "        self.query_kwargs = query_kwargs if query_kwargs else {}\n",
    "    \n",
    "    def query(self, query_vectors: np.ndarray) -> QueryDataset:\n",
    "        \n",
    "        res = self.collection.query(query_embeddings=[list(i) for i in query_vectors],\n",
    "                                    include=['documents', 'embeddings', 'metadatas', 'distances'],\n",
    "                                    n_results = self.k,\n",
    "                                    **self.query_kwargs\n",
    "                                   )\n",
    "        \n",
    "        results = []\n",
    "        n_queries = query_vectors.shape[0]\n",
    "        n_results = self.k\n",
    "        for query_idx in range(n_queries):\n",
    "            for result_idx in range(n_results):\n",
    "                result = QueryResult(query_idx,\n",
    "                                     res['ids'][query_idx][result_idx],\n",
    "                                     np.array(res['embeddings'][query_idx][result_idx]),\n",
    "                                     res['distances'][query_idx][result_idx],\n",
    "                                     {'document' : res['documents'][query_idx][result_idx],\n",
    "                                      'metadata' : res['metadatas'][query_idx][result_idx]}\n",
    "                                    )\n",
    "                results.append(result)\n",
    "        \n",
    "        \n",
    "        return QueryDataset.from_query_results(results)"
   ]
  },
  {
   "cell_type": "code",
   "execution_count": null,
   "metadata": {},
   "outputs": [],
   "source": []
  },
  {
   "cell_type": "code",
   "execution_count": null,
   "metadata": {},
   "outputs": [
    {
     "name": "stderr",
     "output_type": "stream",
     "text": [
      "Using embedded DuckDB without persistence: data will be transient\n"
     ]
    }
   ],
   "source": [
    "chroma_client = chromadb.Client()\n",
    "\n",
    "def dummy_embedding(texts):\n",
    "    n_docs = len(texts)\n",
    "    return np.random.randn(n_docs, 256)\n",
    "\n",
    "collection = chroma_client.create_collection(name=\"test\", embedding_function=dummy_embedding)\n",
    "\n",
    "embs = [list(np.random.randn(256)) for i in range(64)]\n",
    "docs = [f'doc_{i}' for i in range(64)]\n",
    "ids = [str(i) for i in range(64)]\n",
    "\n",
    "collection.add(\n",
    "    embeddings=embs,\n",
    "    documents=docs,\n",
    "    ids=ids\n",
    ")\n",
    "\n",
    "query_embs = np.random.randn(3, 256)\n",
    "\n",
    "chroma_db = ChromaDatabase(collection, 5)\n",
    "\n",
    "query_dataset = chroma_db.query(query_embs)"
   ]
  },
  {
   "cell_type": "code",
   "execution_count": null,
   "metadata": {},
   "outputs": [],
   "source": []
  },
  {
   "cell_type": "code",
   "execution_count": null,
   "metadata": {},
   "outputs": [],
   "source": [
    "#| hide\n",
    "import nbdev; nbdev.nbdev_export()"
   ]
  },
  {
   "cell_type": "code",
   "execution_count": null,
   "metadata": {},
   "outputs": [],
   "source": []
  },
  {
   "cell_type": "code",
   "execution_count": null,
   "metadata": {},
   "outputs": [],
   "source": []
  }
 ],
 "metadata": {
  "kernelspec": {
   "display_name": "emb_opt",
   "language": "python",
   "name": "emb_opt"
  }
 },
 "nbformat": 4,
 "nbformat_minor": 4
}
