{
 "cells": [
  {
   "cell_type": "markdown",
   "metadata": {},
   "source": [
    "# Update\n",
    "\n",
    "> Update functions and classes"
   ]
  },
  {
   "cell_type": "code",
   "execution_count": null,
   "metadata": {},
   "outputs": [],
   "source": [
    "#| default_exp update"
   ]
  },
  {
   "cell_type": "code",
   "execution_count": null,
   "metadata": {},
   "outputs": [],
   "source": [
    "#| hide\n",
    "from nbdev.showdoc import *\n",
    "%load_ext autoreload\n",
    "%autoreload 2"
   ]
  },
  {
   "cell_type": "code",
   "execution_count": null,
   "metadata": {},
   "outputs": [
    {
     "name": "stderr",
     "output_type": "stream",
     "text": [
      "/home/dmai/miniconda3/envs/emb_opt/lib/python3.9/site-packages/tqdm/auto.py:21: TqdmWarning: IProgress not found. Please update jupyter and ipywidgets. See https://ipywidgets.readthedocs.io/en/stable/user_install.html\n",
      "  from .autonotebook import tqdm as notebook_tqdm\n"
     ]
    }
   ],
   "source": [
    "#| export\n",
    "from emb_opt.imports import *\n",
    "from emb_opt.utils import whiten\n",
    "from emb_opt.module import Module\n",
    "from emb_opt.schemas import Item, Query, Batch, UpdateFunction"
   ]
  },
  {
   "cell_type": "code",
   "execution_count": null,
   "metadata": {},
   "outputs": [],
   "source": [
    "#| export\n",
    "\n",
    "class UpdateModule(Module):\n",
    "    def __init__(self, function: UpdateFunction):\n",
    "        super().__init__(Query, function)\n",
    "        \n",
    "    def gather_inputs(self, batch: Batch) -> (List[Tuple], List[Query]):\n",
    "        idxs, inputs = batch.flatten_queries()\n",
    "        return (idxs, inputs)\n",
    "    \n",
    "    def __call__(self, batch: Batch) -> Batch:\n",
    "        \n",
    "        idxs, inputs = self.gather_inputs(batch)\n",
    "        new_queries = self.function(inputs)\n",
    "        new_queries = self.validate_schema(new_queries)\n",
    "        return Batch(queries=new_queries)"
   ]
  },
  {
   "cell_type": "code",
   "execution_count": null,
   "metadata": {},
   "outputs": [],
   "source": [
    "def passthrough_update_test(queries):\n",
    "    return queries\n",
    "\n",
    "batch = Batch(queries=[\n",
    "                        Query.from_minimal(embedding=[0.1]),\n",
    "                        Query.from_minimal(embedding=[0.2]),\n",
    "                        Query.from_minimal(embedding=[0.3]),\n",
    "                    ])\n",
    "\n",
    "update_module = UpdateModule(passthrough_update_test)\n",
    "\n",
    "batch = update_module(batch)\n",
    "\n",
    "assert isinstance(batch, Batch)\n",
    "assert isinstance(batch[0], Query)"
   ]
  },
  {
   "cell_type": "code",
   "execution_count": null,
   "metadata": {},
   "outputs": [],
   "source": [
    "def continuous_update_test(queries):\n",
    "    outputs = []\n",
    "    for query in queries:\n",
    "        new_query = Query.from_parent_query(embedding=[i*2 for i in query.embedding], parent_query=query)\n",
    "        outputs.append(new_query)\n",
    "    return outputs\n",
    "\n",
    "batch = Batch(queries=[\n",
    "                        Query.from_minimal(embedding=[0.1]),\n",
    "                        Query.from_minimal(embedding=[0.2]),\n",
    "                        Query.from_minimal(embedding=[0.3]),\n",
    "                    ])\n",
    "\n",
    "[batch.queries[i].update_internal(collection_id=i) for i in range(len(batch))]\n",
    "\n",
    "update_module = UpdateModule(continuous_update_test)\n",
    "\n",
    "batch2 = update_module(batch)\n",
    "\n",
    "assert all([batch2[i].internal.collection_id==batch[i].internal.collection_id for i in range(len(batch2))])\n",
    "\n",
    "assert isinstance(batch2, Batch)\n",
    "assert isinstance(batch2[0], Query)"
   ]
  },
  {
   "cell_type": "code",
   "execution_count": null,
   "metadata": {},
   "outputs": [],
   "source": [
    "def discrete_update_test(queries):\n",
    "    return [Query.from_item(i[0]) for i in queries]\n",
    "\n",
    "queries = []\n",
    "for i in range(3):\n",
    "    q = Query.from_minimal(embedding=[i*0.1])\n",
    "    q.update_internal(collection_id=i)\n",
    "    r = Item.from_minimal(embedding=[i*2*0.1])\n",
    "    q.add_query_results([r])\n",
    "    queries.append(q)\n",
    "    \n",
    "batch = Batch(queries=queries)\n",
    "\n",
    "update_module = UpdateModule(discrete_update_test)\n",
    "\n",
    "batch2 = update_module(batch)\n",
    "\n",
    "assert isinstance(batch2, Batch)\n",
    "assert isinstance(batch2[0], Query)\n",
    "\n",
    "for i in range(len(batch2)):\n",
    "    assert batch2[i].internal.parent_id == batch[i][0].internal.parent_id\n",
    "    assert batch2[i].data['_source_item_id'] == batch[i][0].id\n",
    "    assert batch2[i].internal.collection_id == batch[i].internal.collection_id"
   ]
  },
  {
   "cell_type": "code",
   "execution_count": null,
   "metadata": {},
   "outputs": [],
   "source": [
    "#| export\n",
    "\n",
    "class UpdatePlugin():\n",
    "    def __call__(self, inputs: List[Query]) -> List[Query]:\n",
    "        pass"
   ]
  },
  {
   "cell_type": "code",
   "execution_count": null,
   "metadata": {},
   "outputs": [],
   "source": [
    "#| export\n",
    "\n",
    "class TopKDiscreteUpdate(UpdatePlugin):\n",
    "    def __init__(self, k: int):\n",
    "        self.k = k\n",
    "        \n",
    "    def __call__(self, inputs: List[Query]) -> List[Query]:\n",
    "        outputs = []\n",
    "        \n",
    "        for query in inputs:\n",
    "            result_scores = np.array([i.score for i in query.valid_results()])\n",
    "            topk_idxs = result_scores.argsort()[::-1][:self.k]\n",
    "            top_items = [query[i] for i in topk_idxs]\n",
    "            outputs += top_items\n",
    "            \n",
    "        outputs = [Query.from_item(i) for i in outputs]\n",
    "        return outputs"
   ]
  },
  {
   "cell_type": "code",
   "execution_count": null,
   "metadata": {},
   "outputs": [],
   "source": [
    "q1 = Query.from_minimal(embedding=[0.1])\n",
    "q1.add_query_results([\n",
    "    Item(id=None, item='1', embedding=[0.11], score=-10, data=None),\n",
    "    Item(id=None, item='2', embedding=[0.12], score=6, data=None),\n",
    "    Item(id=None, item='3', embedding=[0.12], score=1, data=None),\n",
    "])\n",
    "\n",
    "q2 = Query.from_minimal(embedding=[0.2])\n",
    "q2.add_query_results([\n",
    "    Item(id=None, item='4', embedding=[0.21], score=4, data=None),\n",
    "    Item(id=None, item='5', embedding=[0.22], score=5, data=None),\n",
    "    Item(id=None, item='6', embedding=[0.12], score=2, data=None),\n",
    "])\n",
    "\n",
    "batch = Batch(queries=[q1, q2])\n",
    "\n",
    "update_func = TopKDiscreteUpdate(k=2)\n",
    "update_module = UpdateModule(update_func)\n",
    "batch2 = update_module(batch)\n",
    "\n",
    "assert [i.item for i in batch2] == ['2', '3', '5', '4']"
   ]
  },
  {
   "cell_type": "code",
   "execution_count": null,
   "metadata": {},
   "outputs": [],
   "source": [
    "#| export\n",
    "\n",
    "class TopKContinuousUpdate():\n",
    "    def __init__(self, k: int):\n",
    "        self.k = k\n",
    "        \n",
    "    def __call__(self, inputs: List[Query]) -> List[Query]:\n",
    "        outputs = []\n",
    "        \n",
    "        for query in inputs:\n",
    "            result_scores = np.array([i.score for i in query.valid_results()])\n",
    "            topk_idxs = result_scores.argsort()[::-1][:self.k]\n",
    "            topk_embs = np.array([query[i].embedding for i in topk_idxs])\n",
    "            \n",
    "            new_embedding = np.average(topk_embs, 0)\n",
    "            output = Query.from_parent_query(embedding=new_embedding, parent_query=query)\n",
    "            outputs.append(output)\n",
    "        return outputs"
   ]
  },
  {
   "cell_type": "code",
   "execution_count": null,
   "metadata": {},
   "outputs": [],
   "source": [
    "q1 = Query.from_minimal(embedding=[0.1])\n",
    "q1.add_query_results([\n",
    "    Item(id=None, item='1', embedding=[0.1], score=-10, data=None),\n",
    "    Item(id=None, item='2', embedding=[0.2], score=6, data=None),\n",
    "])\n",
    "\n",
    "q2 = Query.from_minimal(embedding=[0.2])\n",
    "q2.add_query_results([\n",
    "    Item(id=None, item='4', embedding=[0.2], score=4, data=None),\n",
    "    Item(id=None, item='5', embedding=[0.3], score=5, data=None),\n",
    "])\n",
    "\n",
    "batch = Batch(queries=[q1, q2])\n",
    "\n",
    "update_func = TopKContinuousUpdate(k=2)\n",
    "update_module = UpdateModule(update_func)\n",
    "batch2 = update_module(batch)\n",
    "\n",
    "assert np.allclose([i.embedding for i in batch2], [[0.15], [0.25]])\n",
    "\n",
    "update_func = TopKContinuousUpdate(k=1)\n",
    "update_module = UpdateModule(update_func)\n",
    "batch2 = update_module(batch)\n",
    "\n",
    "assert np.allclose([i.embedding for i in batch2], [[0.2], [0.3]])"
   ]
  },
  {
   "cell_type": "code",
   "execution_count": null,
   "metadata": {},
   "outputs": [],
   "source": [
    "#| export\n",
    "\n",
    "class RLUpdate():\n",
    "    def __init__(self,\n",
    "                 lrs: Union[List[float], np.ndarray],\n",
    "                 distance_penalty: float\n",
    "                ):\n",
    "        self.lrs = np.array(lrs)\n",
    "        self.distance_penalty = distance_penalty\n",
    "        \n",
    "    def __call__(self, queries: List[Query]) -> List[Query]:\n",
    "        query_embeddings = np.array([i.embedding for i in queries])\n",
    "        \n",
    "        result_embeddings = [np.array([i.embedding for i in query.valid_results()]) \n",
    "                             for query in queries]\n",
    "        \n",
    "        advantages = [whiten(np.array([i.score for i in query.valid_results()])) \n",
    "                      for query in queries]\n",
    "\n",
    "        advantage_grad = np.array(\n",
    "                        [(advantages[i][:,None] * (2*(query_embeddings[i,None] - result_embeddings[i]))).mean(0)\n",
    "                        for i in range(len(queries))])\n",
    "\n",
    "        distance_grad = 2*(query_embeddings - np.array([i.mean(0) for i in result_embeddings]))\n",
    "\n",
    "        grads = advantage_grad + (self.distance_penalty * distance_grad)\n",
    "\n",
    "        new_embeddings = query_embeddings[:,None] - (grads[:,None,:] * self.lrs[None,:,None])\n",
    "        # (n,m,-1) = (n,1,-1) - ((n,1,-1) * (1,m,1))\n",
    "        \n",
    "        results = []\n",
    "        \n",
    "        for i in range(new_embeddings.shape[0]): # number of embeddings\n",
    "            for j in range(new_embeddings.shape[1]): # learning rates\n",
    "                \n",
    "                new_query = Query.from_parent_query(embedding=new_embeddings[i][j].tolist(), \n",
    "                                                    parent_query=queries[i])\n",
    "                new_query.data['rl_update_details'] = {\n",
    "                                                        'parent_embedding' : query_embeddings[i].tolist(),\n",
    "                                                        'lr' : self.lrs[j],\n",
    "                                                        'grad' : grads[i].tolist(),\n",
    "                                                    }\n",
    "                \n",
    "                results.append(new_query)\n",
    "\n",
    "        return results"
   ]
  },
  {
   "cell_type": "code",
   "execution_count": null,
   "metadata": {},
   "outputs": [],
   "source": [
    "lrs = np.array([1e-2, 1e-1, 1e0, 1e1])\n",
    "dp = 0.1\n",
    "\n",
    "update_function = RLUpdate(lrs, dp)\n",
    "\n",
    "update_module = UpdateModule(update_function)\n",
    "\n",
    "queries = []\n",
    "for i in range(1,4):\n",
    "    q = Query.from_minimal(embedding=[i*0.1])\n",
    "    q.update_internal(collection_id=i)\n",
    "    r = Item.from_minimal(embedding=[i*2*0.1], score=i*1.5)\n",
    "    q.add_query_results([r])\n",
    "    queries.append(q)\n",
    "    \n",
    "batch = Batch(queries=queries)\n",
    "\n",
    "batch2 = update_module(batch)\n",
    "\n",
    "assert len(batch2)/len(batch) == len(lrs)"
   ]
  },
  {
   "cell_type": "code",
   "execution_count": null,
   "metadata": {},
   "outputs": [],
   "source": []
  },
  {
   "cell_type": "code",
   "execution_count": null,
   "metadata": {},
   "outputs": [],
   "source": []
  }
 ],
 "metadata": {
  "kernelspec": {
   "display_name": "emb_opt",
   "language": "python",
   "name": "emb_opt"
  }
 },
 "nbformat": 4,
 "nbformat_minor": 4
}
