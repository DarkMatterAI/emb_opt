{
 "cells": [
  {
   "cell_type": "markdown",
   "metadata": {},
   "source": [
    "# utils\n",
    "\n",
    "> util functions"
   ]
  },
  {
   "cell_type": "code",
   "execution_count": null,
   "metadata": {},
   "outputs": [],
   "source": [
    "#| default_exp utils"
   ]
  },
  {
   "cell_type": "code",
   "execution_count": null,
   "metadata": {},
   "outputs": [],
   "source": [
    "#| hide\n",
    "from nbdev.showdoc import *\n",
    "%load_ext autoreload\n",
    "%autoreload 2"
   ]
  },
  {
   "cell_type": "code",
   "execution_count": null,
   "metadata": {},
   "outputs": [
    {
     "name": "stderr",
     "output_type": "stream",
     "text": [
      "/home/dmai/miniconda3/envs/emb_opt/lib/python3.9/site-packages/tqdm/auto.py:21: TqdmWarning: IProgress not found. Please update jupyter and ipywidgets. See https://ipywidgets.readthedocs.io/en/stable/user_install.html\n",
      "  from .autonotebook import tqdm as notebook_tqdm\n"
     ]
    }
   ],
   "source": [
    "#| export\n",
    "from emb_opt.imports import *"
   ]
  },
  {
   "cell_type": "code",
   "execution_count": null,
   "metadata": {},
   "outputs": [],
   "source": [
    "#| export\n",
    "def whiten(scores: np.ndarray # vector shape (n,) of scores to whiten\n",
    "          ) -> np.ndarray: # vector shape (n,) whitened scores\n",
    "    'Whitens vector of scores'\n",
    "    mean = scores.mean()\n",
    "    var = scores.var()\n",
    "    \n",
    "    return (scores - mean) / np.sqrt(var + 1e-8)"
   ]
  },
  {
   "cell_type": "code",
   "execution_count": null,
   "metadata": {},
   "outputs": [],
   "source": [
    "#| export\n",
    "\n",
    "def pack_dataset(dataset: Dataset, # input dataset\n",
    "                 index_column: str, # name of column to group by\n",
    "                 pack_columns: list[str] # columns to include in packing\n",
    "                ) -> dict: \n",
    "    '''\n",
    "    \"packs\" values in `pack_columns` by grouping them by the \n",
    "    distinct values in `index_column`\n",
    "    \n",
    "    returns a dictionary where the keys are the distinct values \n",
    "    in `index_column` and the values are a dictionary mapping \n",
    "    column names in `pack_columns` to the grouped values\n",
    "    '''\n",
    "    output = defaultdict(lambda: defaultdict(list))\n",
    "    \n",
    "    for row in dataset:\n",
    "        for col_name in pack_columns:\n",
    "            output[row[index_column]][col_name].append(row[col_name])\n",
    "            \n",
    "    return output"
   ]
  },
  {
   "cell_type": "code",
   "execution_count": null,
   "metadata": {},
   "outputs": [],
   "source": [
    "#| hide\n",
    "import nbdev; nbdev.nbdev_export()"
   ]
  },
  {
   "cell_type": "code",
   "execution_count": null,
   "metadata": {},
   "outputs": [],
   "source": []
  },
  {
   "cell_type": "code",
   "execution_count": null,
   "metadata": {},
   "outputs": [],
   "source": []
  }
 ],
 "metadata": {
  "kernelspec": {
   "display_name": "emb_opt",
   "language": "python",
   "name": "emb_opt"
  }
 },
 "nbformat": 4,
 "nbformat_minor": 4
}
