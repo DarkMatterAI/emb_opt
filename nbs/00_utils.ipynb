{
 "cells": [
  {
   "cell_type": "markdown",
   "metadata": {},
   "source": [
    "# utils\n",
    "\n",
    "> util functions"
   ]
  },
  {
   "cell_type": "code",
   "execution_count": null,
   "metadata": {},
   "outputs": [],
   "source": [
    "#| default_exp utils"
   ]
  },
  {
   "cell_type": "code",
   "execution_count": null,
   "metadata": {},
   "outputs": [],
   "source": [
    "#| hide\n",
    "from nbdev.showdoc import *\n",
    "%load_ext autoreload\n",
    "%autoreload 2"
   ]
  },
  {
   "cell_type": "code",
   "execution_count": null,
   "metadata": {},
   "outputs": [],
   "source": [
    "#| export\n",
    "from emb_opt.imports import *"
   ]
  },
  {
   "cell_type": "code",
   "execution_count": null,
   "metadata": {},
   "outputs": [],
   "source": [
    "class QueryResult():\n",
    "    def __init__(self, \n",
    "                 query_idx: int, \n",
    "                 db_idx: int, \n",
    "                 embedding: np.ndarray, \n",
    "                 distance: float, \n",
    "                 data: dict\n",
    "                ):\n",
    "        self.query_idx = query_idx\n",
    "        self.db_idx = db_idx\n",
    "        self.embedding = embedding\n",
    "        self.distance = distance\n",
    "        self.data = data\n",
    "        \n",
    "    def to_dict(self) -> dict:\n",
    "        return {\n",
    "            'query_idx' : self.query_idx,\n",
    "            'db_idx' : self.db_idx,\n",
    "            'embedding' : self.embedding,\n",
    "            'distance' : self.distance,\n",
    "            'data' : self.data\n",
    "        }"
   ]
  },
  {
   "cell_type": "code",
   "execution_count": null,
   "metadata": {},
   "outputs": [],
   "source": [
    "#| hide\n",
    "import nbdev; nbdev.nbdev_export()"
   ]
  },
  {
   "cell_type": "code",
   "execution_count": null,
   "metadata": {},
   "outputs": [],
   "source": []
  },
  {
   "cell_type": "code",
   "execution_count": null,
   "metadata": {},
   "outputs": [],
   "source": []
  }
 ],
 "metadata": {
  "kernelspec": {
   "display_name": "python3",
   "language": "python",
   "name": "python3"
  }
 },
 "nbformat": 4,
 "nbformat_minor": 4
}
