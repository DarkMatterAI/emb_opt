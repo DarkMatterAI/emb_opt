{
 "cells": [
  {
   "cell_type": "markdown",
   "metadata": {},
   "source": [
    "# Data Source\n",
    "\n",
    "> Data Source functions and classes"
   ]
  },
  {
   "cell_type": "code",
   "execution_count": null,
   "metadata": {},
   "outputs": [],
   "source": [
    "#| default_exp data_source"
   ]
  },
  {
   "cell_type": "code",
   "execution_count": null,
   "metadata": {},
   "outputs": [],
   "source": [
    "#| hide\n",
    "from nbdev.showdoc import *\n",
    "%load_ext autoreload\n",
    "%autoreload 2"
   ]
  },
  {
   "cell_type": "code",
   "execution_count": null,
   "metadata": {},
   "outputs": [
    {
     "name": "stderr",
     "output_type": "stream",
     "text": [
      "/home/dmai/miniconda3/envs/emb_opt/lib/python3.9/site-packages/tqdm/auto.py:21: TqdmWarning: IProgress not found. Please update jupyter and ipywidgets. See https://ipywidgets.readthedocs.io/en/stable/user_install.html\n",
      "  from .autonotebook import tqdm as notebook_tqdm\n"
     ]
    }
   ],
   "source": [
    "#| export\n",
    "from emb_opt.imports import *\n",
    "from emb_opt.core import Module, build_batch_from_embeddings\n",
    "from emb_opt.schemas import Item, Query, Batch, DataSourceFunction, DataSourceResponse"
   ]
  },
  {
   "cell_type": "code",
   "execution_count": null,
   "metadata": {},
   "outputs": [],
   "source": [
    "#| export\n",
    "\n",
    "class DataSourceModule(Module):\n",
    "    def __init__(self,\n",
    "                 function: DataSourceFunction,\n",
    "                ):\n",
    "        super().__init__(DataSourceResponse, function)\n",
    "        \n",
    "    def gather_inputs(self, batch: Batch) -> (List[Tuple], List[Query]):\n",
    "        idxs, inputs = batch.flatten_queries()\n",
    "        return (idxs, inputs)\n",
    "    \n",
    "    def scatter_results(self, batch: Batch, idxs: List[Tuple], results: List[DataSourceResponse]):\n",
    "        for (q_idx, r_idx), result in zip(idxs, results):\n",
    "            batch_item = batch.get_item(q_idx, r_idx)\n",
    "            if result.data:\n",
    "                batch_item.data.update(result.data)\n",
    "\n",
    "            if result.valid:\n",
    "                if result.query_results:\n",
    "                    batch_item.add_query_results(result.query_results)\n",
    "\n",
    "                else:\n",
    "                    batch_item.data['_internal']['remove'] = True\n",
    "                    batch_item.data['_internal']['remove_details'] = 'query returned no results'\n",
    "\n",
    "            else:\n",
    "                batch_item.data['_internal']['remove'] = True\n",
    "                batch_item.data['_internal']['remove_details'] = 'query response invalid'"
   ]
  },
  {
   "cell_type": "code",
   "execution_count": null,
   "metadata": {},
   "outputs": [],
   "source": []
  },
  {
   "cell_type": "code",
   "execution_count": null,
   "metadata": {},
   "outputs": [],
   "source": [
    "#| export\n",
    "\n",
    "class NumpyPlugin():\n",
    "    def __init__(self, embeddings, k, embedding_data=None, distance_metric='euclidean'):\n",
    "        self.embeddings = embeddings\n",
    "        self.distance_metric = distance_metric\n",
    "        self.k = k\n",
    "        self.embedding_data = embedding_data\n",
    "\n",
    "    def __call__(self, inputs: List[Query]) -> List[DataSourceResponse]:\n",
    "        queries = np.array([i.embedding for i in inputs])\n",
    "        \n",
    "        distances = cdist(queries, self.embeddings, metric=self.distance_metric)\n",
    "        topk = distances.argsort(-1)[:, :self.k]\n",
    "        \n",
    "        outputs = []\n",
    "        for i in range(len(inputs)):\n",
    "            items = []\n",
    "            for j in topk[i]:\n",
    "                item_data = dict(self.embedding_data[j]) if self.embedding_data else None\n",
    "                item = Item(embedding=self.embeddings[j], data=item_data)\n",
    "                item.data['_internal']['query_distance'] = distances[i,j]\n",
    "                items.append(item)\n",
    "            result = DataSourceResponse(valid=True, data=None, query_results=items)\n",
    "            outputs.append(result)\n",
    "            \n",
    "        return outputs"
   ]
  },
  {
   "cell_type": "code",
   "execution_count": null,
   "metadata": {},
   "outputs": [],
   "source": [
    "vectors = np.random.randn(128, 256)\n",
    "vector_data = [{'index':np.random.randint(0,1e6)} for i in range(vectors.shape[0])]\n",
    "data_source = NumpyPlugin(vectors, 5, embedding_data=vector_data, distance_metric='cosine')\n",
    "data_plugin = DataSourceModule(data_source)"
   ]
  },
  {
   "cell_type": "code",
   "execution_count": null,
   "metadata": {},
   "outputs": [],
   "source": [
    "query_vecs = np.random.randn(5, 256)\n",
    "batch = build_batch_from_embeddings(query_vecs)"
   ]
  },
  {
   "cell_type": "code",
   "execution_count": null,
   "metadata": {},
   "outputs": [
    {
     "data": {
      "text/plain": [
       "[0, 0, 0, 0, 0]"
      ]
     },
     "execution_count": null,
     "metadata": {},
     "output_type": "execute_result"
    }
   ],
   "source": [
    "[len(i) for i in batch]"
   ]
  },
  {
   "cell_type": "code",
   "execution_count": null,
   "metadata": {},
   "outputs": [],
   "source": [
    "batch = data_plugin(batch)"
   ]
  },
  {
   "cell_type": "code",
   "execution_count": null,
   "metadata": {},
   "outputs": [
    {
     "data": {
      "text/plain": [
       "[5, 5, 5, 5, 5]"
      ]
     },
     "execution_count": null,
     "metadata": {},
     "output_type": "execute_result"
    }
   ],
   "source": [
    "[len(i) for i in batch]"
   ]
  },
  {
   "cell_type": "code",
   "execution_count": null,
   "metadata": {},
   "outputs": [
    {
     "data": {
      "text/plain": [
       "{'index': 946302,\n",
       " '_internal': {'id': '332f5a6f-4c5b-11ee-b64b-7b1d5a84b1d4',\n",
       "  'query_distance': 0.865745217252099,\n",
       "  'parent': '332f5a6a-4c5b-11ee-b64b-7b1d5a84b1d4',\n",
       "  'collection_index': 0}}"
      ]
     },
     "execution_count": null,
     "metadata": {},
     "output_type": "execute_result"
    }
   ],
   "source": [
    "batch[0][0].data"
   ]
  },
  {
   "cell_type": "code",
   "execution_count": null,
   "metadata": {},
   "outputs": [],
   "source": []
  },
  {
   "cell_type": "code",
   "execution_count": null,
   "metadata": {},
   "outputs": [],
   "source": [
    "#| export\n",
    "\n",
    "class HugggingfaceDataPlugin():\n",
    "    def __init__(self, dataset, index_name, k):\n",
    "        self.dataset = dataset\n",
    "        self.index_name = index_name\n",
    "        self.k = k\n",
    "        self.index = self.dataset.get_index(index_name)\n",
    "        \n",
    "    def __call__(self, inputs: List[Query]) -> List[DataSourceResponse]:\n",
    "        queries = np.array([i.embedding for i in inputs])\n",
    "        \n",
    "        res = self.index.search_batch(queries, k=self.k)\n",
    "\n",
    "        distances = res.total_scores\n",
    "        indices = res.total_indices\n",
    "        \n",
    "        outputs = []\n",
    "        for i in range(indices.shape[0]):\n",
    "            items = []\n",
    "            for j in range(indices.shape[1]):\n",
    "                db_idx = indices[i, j]\n",
    "\n",
    "                data_dict = dict(self.dataset[int(db_idx)])\n",
    "                embedding = data_dict.pop(self.index_name)\n",
    "\n",
    "                item = Item(embedding=embedding, data=data_dict)\n",
    "                item.data['_internal']['query_distance'] = distances[i, j]\n",
    "                items.append(item)\n",
    "\n",
    "            result = DataSourceResponse(valid=True, data=None, query_results=items)\n",
    "            outputs.append(result)\n",
    "            \n",
    "        return outputs"
   ]
  },
  {
   "cell_type": "code",
   "execution_count": null,
   "metadata": {},
   "outputs": [],
   "source": []
  },
  {
   "cell_type": "code",
   "execution_count": null,
   "metadata": {},
   "outputs": [
    {
     "name": "stderr",
     "output_type": "stream",
     "text": [
      "100%|███████████████████████████████████████████| 1/1 [00:00<00:00, 1659.14it/s]\n"
     ]
    },
    {
     "data": {
      "text/plain": [
       "Dataset({\n",
       "    features: ['embedding', 'index'],\n",
       "    num_rows: 128\n",
       "})"
      ]
     },
     "execution_count": null,
     "metadata": {},
     "output_type": "execute_result"
    }
   ],
   "source": [
    "dataset = Dataset.from_list([{'embedding':vectors[i], 'index':vector_data[i]['index']} \n",
    "                             for i in range(vectors.shape[0])])\n",
    "dataset.add_faiss_index('embedding')"
   ]
  },
  {
   "cell_type": "code",
   "execution_count": null,
   "metadata": {},
   "outputs": [],
   "source": [
    "data_source = HugggingfaceDataPlugin(dataset, 'embedding', 5)"
   ]
  },
  {
   "cell_type": "code",
   "execution_count": null,
   "metadata": {},
   "outputs": [],
   "source": [
    "data_plugin = DataSourceModule(data_source)"
   ]
  },
  {
   "cell_type": "code",
   "execution_count": null,
   "metadata": {},
   "outputs": [],
   "source": [
    "batch2 = build_batch_from_embeddings(query_vecs)"
   ]
  },
  {
   "cell_type": "code",
   "execution_count": null,
   "metadata": {},
   "outputs": [
    {
     "data": {
      "text/plain": [
       "[0, 0, 0, 0, 0]"
      ]
     },
     "execution_count": null,
     "metadata": {},
     "output_type": "execute_result"
    }
   ],
   "source": [
    "[len(i) for i in batch2]"
   ]
  },
  {
   "cell_type": "code",
   "execution_count": null,
   "metadata": {},
   "outputs": [],
   "source": [
    "batch2 = data_plugin(batch2)"
   ]
  },
  {
   "cell_type": "code",
   "execution_count": null,
   "metadata": {},
   "outputs": [
    {
     "data": {
      "text/plain": [
       "[5, 5, 5, 5, 5]"
      ]
     },
     "execution_count": null,
     "metadata": {},
     "output_type": "execute_result"
    }
   ],
   "source": [
    "[len(i) for i in batch2]"
   ]
  },
  {
   "cell_type": "code",
   "execution_count": null,
   "metadata": {},
   "outputs": [
    {
     "data": {
      "text/plain": [
       "{'index': 222512,\n",
       " '_internal': {'id': '3829e9a9-4c5b-11ee-b64b-7b1d5a84b1d4',\n",
       "  'query_distance': 428.08813,\n",
       "  'parent': '3829e9a4-4c5b-11ee-b64b-7b1d5a84b1d4',\n",
       "  'collection_index': 0}}"
      ]
     },
     "execution_count": null,
     "metadata": {},
     "output_type": "execute_result"
    }
   ],
   "source": [
    "batch2[0][0].data"
   ]
  },
  {
   "cell_type": "code",
   "execution_count": null,
   "metadata": {},
   "outputs": [],
   "source": []
  },
  {
   "cell_type": "code",
   "execution_count": null,
   "metadata": {},
   "outputs": [
    {
     "data": {
      "text/plain": [
       "{'index': 576779,\n",
       " '_internal': {'id': '300b4b89-4c2c-11ee-b64b-7b1d5a84b1d4',\n",
       "  'query_distance': 0.8676547269554138,\n",
       "  'parent': '300b4b84-4c2c-11ee-b64b-7b1d5a84b1d4',\n",
       "  'collection_index': 0}}"
      ]
     },
     "execution_count": null,
     "metadata": {},
     "output_type": "execute_result"
    }
   ],
   "source": [
    "batch[0][0].data"
   ]
  },
  {
   "cell_type": "code",
   "execution_count": null,
   "metadata": {},
   "outputs": [],
   "source": []
  },
  {
   "cell_type": "code",
   "execution_count": null,
   "metadata": {},
   "outputs": [],
   "source": []
  },
  {
   "cell_type": "code",
   "execution_count": null,
   "metadata": {},
   "outputs": [],
   "source": []
  },
  {
   "cell_type": "code",
   "execution_count": null,
   "metadata": {},
   "outputs": [],
   "source": []
  },
  {
   "cell_type": "code",
   "execution_count": null,
   "metadata": {},
   "outputs": [],
   "source": []
  }
 ],
 "metadata": {
  "kernelspec": {
   "display_name": "emb_opt",
   "language": "python",
   "name": "emb_opt"
  }
 },
 "nbformat": 4,
 "nbformat_minor": 4
}
