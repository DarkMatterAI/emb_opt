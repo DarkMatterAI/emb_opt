{
 "cells": [
  {
   "cell_type": "markdown",
   "metadata": {},
   "source": [
    "# Update\n",
    "\n",
    "> Update functions and classes"
   ]
  },
  {
   "cell_type": "code",
   "execution_count": null,
   "metadata": {},
   "outputs": [],
   "source": [
    "#| default_exp update"
   ]
  },
  {
   "cell_type": "code",
   "execution_count": null,
   "metadata": {},
   "outputs": [],
   "source": [
    "#| hide\n",
    "from nbdev.showdoc import *\n",
    "%load_ext autoreload\n",
    "%autoreload 2"
   ]
  },
  {
   "cell_type": "code",
   "execution_count": null,
   "metadata": {},
   "outputs": [
    {
     "name": "stderr",
     "output_type": "stream",
     "text": [
      "/home/dmai/miniconda3/envs/emb_opt/lib/python3.9/site-packages/tqdm/auto.py:21: TqdmWarning: IProgress not found. Please update jupyter and ipywidgets. See https://ipywidgets.readthedocs.io/en/stable/user_install.html\n",
      "  from .autonotebook import tqdm as notebook_tqdm\n"
     ]
    }
   ],
   "source": [
    "#| export\n",
    "from emb_opt.imports import *\n",
    "from emb_opt.core import Module\n",
    "from emb_opt.schemas import (\n",
    "                            Item, \n",
    "                            Query, \n",
    "                            Batch, \n",
    "                            UpdateFunction,\n",
    "                            DiscreteUpdateFunction,\n",
    "                            ContinuousUpdateFunction,\n",
    "                            ContinuousUpdateResponse\n",
    "                            )"
   ]
  },
  {
   "cell_type": "code",
   "execution_count": null,
   "metadata": {},
   "outputs": [],
   "source": [
    "#| export\n",
    "\n",
    "class UpdateModule(Module):\n",
    "    def __init__(self,\n",
    "                 function: UpdateFunction,\n",
    "                ):\n",
    "        super().__init__(Query, function)\n",
    "        \n",
    "    def gather_inputs(self, batch: Batch) -> (List[Tuple], List[Query]):\n",
    "        idxs, inputs = batch.flatten_queries()\n",
    "        return (idxs, inputs)\n",
    "    \n",
    "    def build_batch(self, results: List[Query]) -> Batch:\n",
    "        return Batch(queries=results)\n",
    "        \n",
    "    def __call__(self, batch: Batch) -> Batch:\n",
    "        \n",
    "        idxs, inputs = self.gather_inputs(batch)\n",
    "        results = self.function(inputs)\n",
    "        results = self.validate_schema(results)\n",
    "        batch = self.build_batch(results)\n",
    "        return batch"
   ]
  },
  {
   "cell_type": "code",
   "execution_count": null,
   "metadata": {},
   "outputs": [],
   "source": [
    "batch = Batch(queries=[\n",
    "                        Query(embedding=[0.1]),\n",
    "                        Query(embedding=[0.2]),\n",
    "                        Query(embedding=[0.3]),\n",
    "                    ])\n",
    "\n",
    "def passthrough_update(queries):\n",
    "    return queries\n",
    "\n",
    "update_module = UpdateModule(passthrough_update)\n",
    "\n",
    "batch = update_module(batch)"
   ]
  },
  {
   "cell_type": "code",
   "execution_count": null,
   "metadata": {},
   "outputs": [],
   "source": [
    "#| export\n",
    "\n",
    "class ContinuousUpdateModule(UpdateModule):\n",
    "    def __init__(self, function: ContinuousUpdateFunction):\n",
    "        super().__init__(function)\n",
    "        self.output_schema = ContinuousUpdateResponse\n",
    "    \n",
    "    def build_batch(self, results: List[ContinuousUpdateResponse]) -> Batch:\n",
    "        queries = [Query.from_parent(i.embedding, i.parent_query) for i in results]\n",
    "        return Batch(queries=queries)"
   ]
  },
  {
   "cell_type": "code",
   "execution_count": null,
   "metadata": {},
   "outputs": [],
   "source": [
    "batch = Batch(queries=[\n",
    "                        Query(embedding=[0.1]),\n",
    "                        Query(embedding=[0.2]),\n",
    "                        Query(embedding=[0.3]),\n",
    "                    ])\n",
    "\n",
    "[batch.queries[i].add_collection_index(i) for i in range(len(batch))]\n",
    "\n",
    "def continuous_update_test(queries):\n",
    "    results = [ContinuousUpdateResponse(embedding=[j*2 for j in i.embedding], parent_query=i) for i in queries]\n",
    "    return results\n",
    "\n",
    "update_module = ContinuousUpdateModule(continuous_update_test)\n",
    "\n",
    "batch2 = update_module(batch)\n",
    "\n",
    "assert all([batch2[i].data['_internal']['collection_index'] == batch[i].data['_internal']['collection_index']\n",
    " for i in range(len(batch2))])"
   ]
  },
  {
   "cell_type": "code",
   "execution_count": null,
   "metadata": {},
   "outputs": [],
   "source": [
    "#| export\n",
    "\n",
    "class DiscreteUpdateModule(UpdateModule):\n",
    "    def __init__(self, function: DiscreteUpdateFunction):\n",
    "        super().__init__(function)\n",
    "        self.output_schema = Item\n",
    "    \n",
    "    def build_batch(self, results: List[Item]) -> Batch:\n",
    "        queries = [Query.from_item(i) for i in results]\n",
    "        return Batch(queries=queries)"
   ]
  },
  {
   "cell_type": "code",
   "execution_count": null,
   "metadata": {},
   "outputs": [],
   "source": [
    "queries = []\n",
    "for i in range(3):\n",
    "    q = Query(embedding=[i*0.1])\n",
    "    q.add_collection_index(i)\n",
    "    r = Item(embedding=[i*2*0.1])\n",
    "    q.add_query_results([r])\n",
    "    queries.append(q)\n",
    "    \n",
    "batch = Batch(queries=queries)\n",
    "\n",
    "def discrete_update_test(queries):\n",
    "    return [i.query_results[0] for i in queries]\n",
    "\n",
    "update_module = DiscreteUpdateModule(discrete_update_test)\n",
    "\n",
    "batch2 = update_module(batch)\n",
    "\n",
    "for i in range(len(batch2)):\n",
    "    query_id = batch2[i].data['_internal']['id']\n",
    "    parent_id = batch2[i].data['_internal']['parent']\n",
    "    collection_id = batch2[i].data['_internal']['collection_index']\n",
    "    \n",
    "    assert query_id == batch[i][0].data['_internal']['id']\n",
    "    assert parent_id == batch[i].data['_internal']['id']\n",
    "    assert collection_id == batch[i].data['_internal']['collection_index']"
   ]
  },
  {
   "cell_type": "code",
   "execution_count": null,
   "metadata": {},
   "outputs": [],
   "source": []
  },
  {
   "cell_type": "code",
   "execution_count": null,
   "metadata": {},
   "outputs": [],
   "source": []
  },
  {
   "cell_type": "code",
   "execution_count": null,
   "metadata": {},
   "outputs": [],
   "source": []
  },
  {
   "cell_type": "code",
   "execution_count": null,
   "metadata": {},
   "outputs": [],
   "source": []
  },
  {
   "cell_type": "code",
   "execution_count": null,
   "metadata": {},
   "outputs": [],
   "source": []
  }
 ],
 "metadata": {
  "kernelspec": {
   "display_name": "emb_opt",
   "language": "python",
   "name": "emb_opt"
  }
 },
 "nbformat": 4,
 "nbformat_minor": 4
}
