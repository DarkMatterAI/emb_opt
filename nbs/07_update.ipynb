{
 "cells": [
  {
   "cell_type": "markdown",
   "metadata": {},
   "source": [
    "# Update\n",
    "\n",
    "> Update functions and classes"
   ]
  },
  {
   "cell_type": "code",
   "execution_count": null,
   "metadata": {},
   "outputs": [],
   "source": [
    "#| default_exp update"
   ]
  },
  {
   "cell_type": "code",
   "execution_count": null,
   "metadata": {},
   "outputs": [],
   "source": [
    "#| hide\n",
    "from nbdev.showdoc import *\n",
    "%load_ext autoreload\n",
    "%autoreload 2"
   ]
  },
  {
   "cell_type": "code",
   "execution_count": null,
   "metadata": {},
   "outputs": [
    {
     "name": "stderr",
     "output_type": "stream",
     "text": [
      "/home/dmai/miniconda3/envs/emb_opt/lib/python3.9/site-packages/tqdm/auto.py:21: TqdmWarning: IProgress not found. Please update jupyter and ipywidgets. See https://ipywidgets.readthedocs.io/en/stable/user_install.html\n",
      "  from .autonotebook import tqdm as notebook_tqdm\n"
     ]
    }
   ],
   "source": [
    "#| export\n",
    "from emb_opt.imports import *\n",
    "from emb_opt.core import Module\n",
    "from emb_opt.schemas import (\n",
    "                            Item, \n",
    "                            Query, \n",
    "                            Batch, \n",
    "                            UpdateFunction,\n",
    "                            ContinuousUpdateResponse,\n",
    "                            UpdateResponse,\n",
    "                            )"
   ]
  },
  {
   "cell_type": "code",
   "execution_count": null,
   "metadata": {},
   "outputs": [],
   "source": [
    "#| export\n",
    "\n",
    "class UpdateModule(Module):\n",
    "    def __init__(self, function: UpdateFunction):\n",
    "        super().__init__(UpdateResponse, function)\n",
    "        \n",
    "    def validate_schema(self, results: UpdateResponse) -> UpdateResponse:\n",
    "        results = self.output_schema.model_validate(results)\n",
    "        return results\n",
    "        \n",
    "    def build_batch(self, results: UpdateResponse) -> Batch:\n",
    "        results = results.results\n",
    "        if isinstance(results, Batch):\n",
    "            batch = results\n",
    "        elif isinstance(results[0], Item):\n",
    "            batch = Batch(queries=[Query.from_item(i) for i in results])\n",
    "        elif isinstance(results[0], ContinuousUpdateResponse):\n",
    "            batch = Batch(queries=[Query.from_parent(i.embedding, i.parent_query) for i in results])\n",
    "            \n",
    "        return batch\n",
    "        \n",
    "    def __call__(self, batch: Batch) -> Batch:\n",
    "        results = self.function(batch)\n",
    "        results = self.validate_schema(results)\n",
    "        batch = self.build_batch(results)\n",
    "        return batch"
   ]
  },
  {
   "cell_type": "code",
   "execution_count": null,
   "metadata": {},
   "outputs": [],
   "source": []
  },
  {
   "cell_type": "code",
   "execution_count": null,
   "metadata": {},
   "outputs": [],
   "source": [
    "# batch to batch\n",
    "\n",
    "def passthrough_update_test(batch):\n",
    "    return UpdateResponse(results=batch)\n",
    "\n",
    "batch = Batch(queries=[\n",
    "                        Query(embedding=[0.1]),\n",
    "                        Query(embedding=[0.2]),\n",
    "                        Query(embedding=[0.3]),\n",
    "                    ])\n",
    "\n",
    "update_module = UpdateModule(passthrough_update_test)\n",
    "\n",
    "batch = update_module(batch)"
   ]
  },
  {
   "cell_type": "code",
   "execution_count": null,
   "metadata": {},
   "outputs": [],
   "source": [
    "# continuous update\n",
    "\n",
    "batch = Batch(queries=[\n",
    "                        Query(embedding=[0.1]),\n",
    "                        Query(embedding=[0.2]),\n",
    "                        Query(embedding=[0.3]),\n",
    "                    ])\n",
    "\n",
    "[batch.queries[i].add_collection_index(i) for i in range(len(batch))]\n",
    "\n",
    "def continuous_update_test(queries):\n",
    "    results = {'results':[ContinuousUpdateResponse(embedding=[j*2 for j in i.embedding], parent_query=i) \n",
    "                          for i in queries]}\n",
    "    return results\n",
    "\n",
    "update_module = UpdateModule(continuous_update_test)\n",
    "\n",
    "batch2 = update_module(batch)\n",
    "\n",
    "assert all([batch2[i].data['_internal']['collection_index'] == batch[i].data['_internal']['collection_index']\n",
    " for i in range(len(batch2))])"
   ]
  },
  {
   "cell_type": "code",
   "execution_count": null,
   "metadata": {},
   "outputs": [],
   "source": [
    "# discrete update\n",
    "\n",
    "queries = []\n",
    "for i in range(3):\n",
    "    q = Query(embedding=[i*0.1])\n",
    "    q.add_collection_index(i)\n",
    "    r = Item(embedding=[i*2*0.1])\n",
    "    q.add_query_results([r])\n",
    "    queries.append(q)\n",
    "    \n",
    "batch = Batch(queries=queries)\n",
    "\n",
    "def discrete_update_test(queries):\n",
    "    return {'results' : [i.query_results[0] for i in queries]}\n",
    "\n",
    "update_module = UpdateModule(discrete_update_test)\n",
    "\n",
    "batch2 = update_module(batch)\n",
    "\n",
    "for i in range(len(batch2)):\n",
    "    query_id = batch2[i].data['_internal']['id']\n",
    "    parent_id = batch2[i].data['_internal']['parent']\n",
    "    collection_id = batch2[i].data['_internal']['collection_index']\n",
    "    \n",
    "    assert query_id == batch[i][0].data['_internal']['id']\n",
    "    assert parent_id == batch[i].data['_internal']['id']\n",
    "    assert collection_id == batch[i].data['_internal']['collection_index']"
   ]
  },
  {
   "cell_type": "code",
   "execution_count": null,
   "metadata": {},
   "outputs": [],
   "source": []
  },
  {
   "cell_type": "code",
   "execution_count": null,
   "metadata": {},
   "outputs": [],
   "source": []
  },
  {
   "cell_type": "code",
   "execution_count": null,
   "metadata": {},
   "outputs": [],
   "source": []
  },
  {
   "cell_type": "code",
   "execution_count": null,
   "metadata": {},
   "outputs": [],
   "source": []
  },
  {
   "cell_type": "code",
   "execution_count": null,
   "metadata": {},
   "outputs": [],
   "source": []
  },
  {
   "cell_type": "code",
   "execution_count": null,
   "metadata": {},
   "outputs": [],
   "source": []
  }
 ],
 "metadata": {
  "kernelspec": {
   "display_name": "emb_opt",
   "language": "python",
   "name": "emb_opt"
  }
 },
 "nbformat": 4,
 "nbformat_minor": 4
}
