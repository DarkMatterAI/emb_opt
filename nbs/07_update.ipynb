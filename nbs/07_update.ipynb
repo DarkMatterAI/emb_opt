{
 "cells": [
  {
   "cell_type": "markdown",
   "metadata": {},
   "source": [
    "# Update\n",
    "\n",
    "> Update functions and classes"
   ]
  },
  {
   "cell_type": "code",
   "execution_count": null,
   "metadata": {},
   "outputs": [],
   "source": [
    "#| default_exp update"
   ]
  },
  {
   "cell_type": "code",
   "execution_count": null,
   "metadata": {},
   "outputs": [],
   "source": [
    "#| hide\n",
    "from nbdev.showdoc import *\n",
    "%load_ext autoreload\n",
    "%autoreload 2"
   ]
  },
  {
   "cell_type": "code",
   "execution_count": null,
   "metadata": {},
   "outputs": [
    {
     "name": "stderr",
     "output_type": "stream",
     "text": [
      "/home/dmai/miniconda3/envs/emb_opt/lib/python3.9/site-packages/tqdm/auto.py:21: TqdmWarning: IProgress not found. Please update jupyter and ipywidgets. See https://ipywidgets.readthedocs.io/en/stable/user_install.html\n",
      "  from .autonotebook import tqdm as notebook_tqdm\n"
     ]
    }
   ],
   "source": [
    "#| export\n",
    "from emb_opt.imports import *\n",
    "from emb_opt.core import Module\n",
    "from emb_opt.schemas import Item, Query, Batch, UpdateFunction"
   ]
  },
  {
   "cell_type": "code",
   "execution_count": null,
   "metadata": {},
   "outputs": [],
   "source": [
    "class UpdateModule(Module):\n",
    "    def __init__(self,\n",
    "                 function: UpdateFunction,\n",
    "                ):\n",
    "        super().__init__(Query, function)\n",
    "        \n",
    "#     def gather_inputs(self, batch: Batch) -> (List[Tuple], List[Query]):\n",
    "#         idxs, inputs = batch.flatten_queries()\n",
    "#         return (idxs, inputs)\n",
    "    \n",
    "#     def scatter_results(self, batch: Batch, idxs: List[Tuple], results: List[Query]):\n",
    "#         for (q_idx, r_idx), result in zip(idxs, results):\n",
    "#             batch_item = batch.get_item(q_idx, r_idx)\n",
    "#             if result.data:\n",
    "#                 batch_item.data.update(result.data)\n",
    "\n",
    "#             if not result.valid:\n",
    "#                 batch_item.data['_internal']['remove'] = True\n",
    "#                 batch_item.data['_internal']['remove_details'] = 'prune result invalid'\n",
    "                \n",
    "                \n",
    "        \n",
    "#     def __call__(self, batch: Batch) -> Batch:\n",
    "        \n",
    "#         idxs, inputs = self.gather_inputs(batch)\n",
    "#         results = self.function(inputs)\n",
    "#         results = self.validate_schema(results)\n",
    "#         self.scatter_results(batch, idxs, results)\n",
    "#         return batch"
   ]
  },
  {
   "cell_type": "markdown",
   "metadata": {},
   "source": [
    "how to manage collection propagation?\n",
    "    in function puts burden on user\n",
    "    in module requires nested result data structure"
   ]
  },
  {
   "cell_type": "code",
   "execution_count": null,
   "metadata": {},
   "outputs": [],
   "source": []
  },
  {
   "cell_type": "code",
   "execution_count": null,
   "metadata": {},
   "outputs": [],
   "source": []
  }
 ],
 "metadata": {
  "kernelspec": {
   "display_name": "emb_opt",
   "language": "python",
   "name": "emb_opt"
  }
 },
 "nbformat": 4,
 "nbformat_minor": 4
}
