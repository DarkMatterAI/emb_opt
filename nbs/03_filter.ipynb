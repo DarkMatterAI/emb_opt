{
 "cells": [
  {
   "cell_type": "markdown",
   "metadata": {},
   "source": [
    "# Filter\n",
    "\n",
    "> Filter functions and classes"
   ]
  },
  {
   "cell_type": "code",
   "execution_count": null,
   "metadata": {},
   "outputs": [],
   "source": [
    "#| default_exp filter"
   ]
  },
  {
   "cell_type": "code",
   "execution_count": null,
   "metadata": {},
   "outputs": [],
   "source": [
    "#| hide\n",
    "from nbdev.showdoc import *\n",
    "%load_ext autoreload\n",
    "%autoreload 2"
   ]
  },
  {
   "cell_type": "code",
   "execution_count": null,
   "metadata": {},
   "outputs": [],
   "source": [
    "#| export\n",
    "from emb_opt.imports import *\n",
    "from emb_opt.core import Executor, Plugin"
   ]
  },
  {
   "cell_type": "code",
   "execution_count": null,
   "metadata": {},
   "outputs": [],
   "source": [
    "from emb_opt.schemas import Item"
   ]
  },
  {
   "cell_type": "code",
   "execution_count": null,
   "metadata": {},
   "outputs": [],
   "source": [
    "class FilterInput(BaseModel):\n",
    "    item: Optional[str]\n",
    "    embedding: Optional[list[float]]\n",
    "        \n",
    "class FilterOutput(BaseModel):\n",
    "    result: bool\n",
    "    data: Optional[dict]\n",
    "        \n",
    "FilterFunction = Callable[FilterInput, FilterOutput]\n",
    "\n",
    "FilterFunctionBatched = Callable[list[FilterInput], list[FilterOutput]]"
   ]
  },
  {
   "cell_type": "code",
   "execution_count": null,
   "metadata": {},
   "outputs": [],
   "source": []
  },
  {
   "cell_type": "code",
   "execution_count": null,
   "metadata": {},
   "outputs": [],
   "source": [
    "class Filter(Plugin):\n",
    "    def __init__(self,\n",
    "                 function: Union[FilterFunction, FilterFunctionBatched],\n",
    "                 executor: Executor,\n",
    "                 include_item: bool=True,\n",
    "                 include_embedding: bool=False\n",
    "                ):\n",
    "        self.function = function\n",
    "        self.executor = executor\n",
    "        self.include_item = include_item\n",
    "        self.include_embedding = include_embedding\n",
    "        \n",
    "    def gather_inputs(self, inputs: BaseModel) -> BaseModel:\n",
    "        raise NotImplementedError\n",
    "        \n",
    "    def scatter_results(self, inputs: BaseModel, results: BaseModel) -> BaseModel:\n",
    "        raise NotImplementedError"
   ]
  },
  {
   "cell_type": "code",
   "execution_count": null,
   "metadata": {},
   "outputs": [],
   "source": []
  },
  {
   "cell_type": "code",
   "execution_count": null,
   "metadata": {},
   "outputs": [],
   "source": []
  },
  {
   "cell_type": "code",
   "execution_count": null,
   "metadata": {},
   "outputs": [],
   "source": []
  },
  {
   "cell_type": "code",
   "execution_count": null,
   "metadata": {},
   "outputs": [],
   "source": []
  }
 ],
 "metadata": {
  "kernelspec": {
   "display_name": "emb_opt",
   "language": "python",
   "name": "emb_opt"
  },
  "language_info": {
   "codemirror_mode": {
    "name": "ipython",
    "version": 3
   },
   "file_extension": ".py",
   "mimetype": "text/x-python",
   "name": "python",
   "nbconvert_exporter": "python",
   "pygments_lexer": "ipython3",
   "version": "3.9.16"
  }
 },
 "nbformat": 4,
 "nbformat_minor": 4
}
