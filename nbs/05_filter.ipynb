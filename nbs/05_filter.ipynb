{
 "cells": [
  {
   "cell_type": "markdown",
   "metadata": {},
   "source": [
    "# Filter\n",
    "\n",
    "> Filter functions and classes"
   ]
  },
  {
   "cell_type": "code",
   "execution_count": null,
   "metadata": {},
   "outputs": [],
   "source": [
    "#| default_exp filter"
   ]
  },
  {
   "cell_type": "code",
   "execution_count": null,
   "metadata": {},
   "outputs": [],
   "source": [
    "#| hide\n",
    "from nbdev.showdoc import *\n",
    "%load_ext autoreload\n",
    "%autoreload 2"
   ]
  },
  {
   "cell_type": "code",
   "execution_count": null,
   "metadata": {},
   "outputs": [
    {
     "name": "stderr",
     "output_type": "stream",
     "text": [
      "/home/dmai/miniconda3/envs/emb_opt/lib/python3.9/site-packages/tqdm/auto.py:21: TqdmWarning: IProgress not found. Please update jupyter and ipywidgets. See https://ipywidgets.readthedocs.io/en/stable/user_install.html\n",
      "  from .autonotebook import tqdm as notebook_tqdm\n"
     ]
    }
   ],
   "source": [
    "#| export\n",
    "from emb_opt.imports import *\n",
    "from emb_opt.module import Module\n",
    "from emb_opt.schemas import Item, Query, Batch, FilterFunction, FilterResponse"
   ]
  },
  {
   "cell_type": "code",
   "execution_count": null,
   "metadata": {},
   "outputs": [],
   "source": [
    "#| export\n",
    "\n",
    "class FilterModule(Module):\n",
    "    def __init__(self,\n",
    "                 function: FilterFunction\n",
    "                ):\n",
    "        super().__init__(FilterResponse, function)\n",
    "        \n",
    "    def gather_inputs(self, batch: Batch) -> (List[Tuple], List[Item]):\n",
    "        idxs, inputs = batch.flatten_query_results()\n",
    "        return (idxs, inputs)\n",
    "        \n",
    "    def scatter_results(self, batch: Batch, idxs: List[Tuple], results: List[FilterResponse]):\n",
    "        for (q_idx, r_idx), result in zip(idxs, results):\n",
    "            batch_item = batch.get_item(q_idx, r_idx)\n",
    "            if result.data:\n",
    "                batch_item.data.update(result.data)\n",
    "                \n",
    "            if not result.valid:\n",
    "                batch_item.update_internal(removed=True, removal_reason='filter response invalid')\n",
    "                \n",
    "        for query in batch:\n",
    "            query.update_internal()"
   ]
  },
  {
   "cell_type": "code",
   "execution_count": null,
   "metadata": {},
   "outputs": [],
   "source": [
    "def build_batch(cutoff=10.5):\n",
    "    d_emb = 128\n",
    "    n_emb = 100\n",
    "    np.random.seed(42)\n",
    "    \n",
    "    embeddings = np.random.randn(n_emb+1, d_emb)\n",
    "    query = Query(embedding=embeddings[-1])\n",
    "    results = [Item(embedding=embeddings[i], data={'id':i}) for i in range(n_emb)]\n",
    "    query.add_query_results(results)\n",
    "    batch = Batch(queries=[query])\n",
    "    expected_failures = [i.data['id'] for i in results if np.linalg.norm(i.embedding)>=cutoff]\n",
    "    return batch, expected_failures\n",
    "\n",
    "class NormFilter():\n",
    "    def __init__(self, cutoff=10.5):\n",
    "        self.cutoff = cutoff\n",
    "        \n",
    "    def __call__(self, inputs: List[Item]) -> List[FilterResponse]:\n",
    "        \n",
    "        embeddings = np.array([i.embedding for i in inputs])\n",
    "        norms = np.linalg.norm(embeddings, axis=-1)\n",
    "        results = [FilterResponse(valid=i<self.cutoff, data={'norm':i}) for i in norms]\n",
    "        return results\n",
    "    \n",
    "filter_func = NormFilter()\n",
    "filter_module = FilterModule(filter_func)\n",
    "\n",
    "batch, fails = build_batch()\n",
    "batch2 = filter_module(batch)\n",
    "\n",
    "assert len(batch2.flatten_query_results(skip_removed=True)[1]) == len(batch[0])-len(fails)\n",
    "\n",
    "for i in range(len(batch[0])):\n",
    "    result = batch[0][i]\n",
    "    if i in fails:\n",
    "        assert result.internal.removed\n",
    "    else:\n",
    "        assert not result.internal.removed\n",
    "        \n",
    "    assert result.internal.parent_id == batch[0].internal.id\n",
    "    \n",
    "batch, fails = build_batch()\n",
    "filter_func = NormFilter(cutoff=-1)\n",
    "filter_module = FilterModule(filter_func)\n",
    "batch, fails = build_batch(cutoff=-1)\n",
    "batch2 = filter_module(batch)\n",
    "\n",
    "assert batch2[0].internal.removed"
   ]
  },
  {
   "cell_type": "code",
   "execution_count": null,
   "metadata": {},
   "outputs": [],
   "source": [
    "#| export\n",
    "\n",
    "class FilterPlugin():\n",
    "    def __call__(self, inputs: List[Query]) -> List[FilterResponse]:\n",
    "        pass"
   ]
  },
  {
   "cell_type": "code",
   "execution_count": null,
   "metadata": {},
   "outputs": [],
   "source": []
  },
  {
   "cell_type": "code",
   "execution_count": null,
   "metadata": {},
   "outputs": [],
   "source": []
  },
  {
   "cell_type": "code",
   "execution_count": null,
   "metadata": {},
   "outputs": [],
   "source": []
  }
 ],
 "metadata": {
  "kernelspec": {
   "display_name": "emb_opt",
   "language": "python",
   "name": "emb_opt"
  }
 },
 "nbformat": 4,
 "nbformat_minor": 4
}
