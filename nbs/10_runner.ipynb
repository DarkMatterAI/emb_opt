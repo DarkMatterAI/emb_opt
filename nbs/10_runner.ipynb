{
 "cells": [
  {
   "cell_type": "markdown",
   "metadata": {},
   "source": [
    "# Runner\n",
    "\n",
    "> runner functions and classes"
   ]
  },
  {
   "cell_type": "code",
   "execution_count": null,
   "metadata": {},
   "outputs": [
    {
     "name": "stderr",
     "output_type": "stream",
     "text": [
      "[autoreload of emb_opt.log failed: Traceback (most recent call last):\n",
      "  File \"/home/dmai/miniconda3/envs/emb_opt/lib/python3.9/site-packages/IPython/extensions/autoreload.py\", line 261, in check\n",
      "    superreload(m, reload, self.old_objects)\n",
      "  File \"/home/dmai/miniconda3/envs/emb_opt/lib/python3.9/site-packages/IPython/extensions/autoreload.py\", line 459, in superreload\n",
      "    module = reload(module)\n",
      "  File \"/home/dmai/miniconda3/envs/emb_opt/lib/python3.9/importlib/__init__.py\", line 169, in reload\n",
      "    _bootstrap._exec(spec, module)\n",
      "  File \"<frozen importlib._bootstrap>\", line 613, in _exec\n",
      "  File \"<frozen importlib._bootstrap_external>\", line 850, in exec_module\n",
      "  File \"<frozen importlib._bootstrap>\", line 228, in _call_with_frames_removed\n",
      "  File \"/home/dmai/emb_opt/emb_opt/log.py\", line 22, in <module>\n",
      "    from .log import Log\n",
      "ImportError: cannot import name 'Log' from 'emb_opt.log' (/home/dmai/emb_opt/emb_opt/log.py)\n",
      "]\n"
     ]
    }
   ],
   "source": [
    "#| default_exp runner"
   ]
  },
  {
   "cell_type": "code",
   "execution_count": null,
   "metadata": {},
   "outputs": [],
   "source": [
    "#| hide\n",
    "from nbdev.showdoc import *\n",
    "%load_ext autoreload\n",
    "%autoreload 2"
   ]
  },
  {
   "cell_type": "code",
   "execution_count": null,
   "metadata": {},
   "outputs": [],
   "source": [
    "#| export\n",
    "from emb_opt.imports import *\n",
    "from emb_opt.schemas import (\n",
    "                                Query, \n",
    "                                Batch,\n",
    "                                DataSourceFunction,\n",
    "                                FilterFunction,\n",
    "                                ScoreFunction,\n",
    "                                PruneFunction,\n",
    "                                UpdateFunction\n",
    "                            )\n",
    "from emb_opt.data_source import DataSourceModule\n",
    "from emb_opt.filter import FilterModule\n",
    "from emb_opt.score import ScoreModule\n",
    "from emb_opt.prune import PruneModule\n",
    "from emb_opt.update import UpdateModule\n",
    "from emb_opt.log import Log"
   ]
  },
  {
   "cell_type": "code",
   "execution_count": null,
   "metadata": {},
   "outputs": [],
   "source": [
    "#| export\n",
    "\n",
    "class Runner():\n",
    "    def __init__(self,\n",
    "                 data_plugin: DataSourceFunction,\n",
    "                 filter_plugin: Optional[FilterFunction],\n",
    "                 score_plugin: ScoreFunction,\n",
    "                 prune_plugin: Optional[PruneFunction],\n",
    "                 update_plugin: UpdateFunction\n",
    "                ):\n",
    "        self.data_module = DataSourceModule(data_plugin)\n",
    "        self.filter_module = FilterModule(filter_plugin) #if filter_plugin else None\n",
    "        self.score_module = ScoreModule(score_plugin)\n",
    "        self.prune_module = PruneModule(prune_plugin) #if prune_plugin else None\n",
    "        self.update_module = UpdateModule(update_plugin)\n",
    "        \n",
    "    def prepare_batch(self, batch: Batch, iteration: int):\n",
    "        for query in batch.queries:\n",
    "            query.update_internal(iteration=iteration)\n",
    "\n",
    "            \n",
    "    def step(self, batch: Batch, log: Log, iteration: int, verbose: bool=True):\n",
    "        self.prepare_batch(batch, iteration)\n",
    "        \n",
    "        batch = self.data_module(batch)\n",
    "        batch = self.filter_module(batch)\n",
    "        batch = self.score_module(batch)\n",
    "        batch = self.prune_module(batch)\n",
    "        \n",
    "        log.add_batch(batch)\n",
    "        self.report_scores(batch, iteration, verbose)\n",
    "        \n",
    "        if len(list(batch.valid_queries()))>0:\n",
    "            batch = self.update_module(batch)\n",
    "        else:\n",
    "            batch = None\n",
    "        return batch\n",
    "        \n",
    "    def search(self, batch: Batch, iterations: int, log: Optional[Log]=None, verbose: bool=True):\n",
    "        if log is None:\n",
    "            log = Log()\n",
    "            \n",
    "        i_start = len(log.batch_log)\n",
    "            \n",
    "        for i in range(i_start, i_start+iterations):\n",
    "            batch = self.step(batch, log, i, verbose)\n",
    "            if batch is None:\n",
    "                break\n",
    "            \n",
    "        return batch, log\n",
    "            \n",
    "    def report_scores(self, batch, iteration, report):\n",
    "        if report:\n",
    "            mean_scores = [np.array([i.score for i in query.valid_results()]).mean() \n",
    "                      for query in batch.flatten_queries()[1]]\n",
    "            print(iteration, ' '.join([f'{i:.2f}' for i in mean_scores]))"
   ]
  },
  {
   "cell_type": "code",
   "execution_count": null,
   "metadata": {},
   "outputs": [],
   "source": []
  },
  {
   "cell_type": "code",
   "execution_count": null,
   "metadata": {},
   "outputs": [],
   "source": []
  },
  {
   "cell_type": "code",
   "execution_count": null,
   "metadata": {},
   "outputs": [],
   "source": []
  },
  {
   "cell_type": "code",
   "execution_count": null,
   "metadata": {},
   "outputs": [],
   "source": []
  },
  {
   "cell_type": "code",
   "execution_count": null,
   "metadata": {},
   "outputs": [],
   "source": []
  },
  {
   "cell_type": "code",
   "execution_count": null,
   "metadata": {},
   "outputs": [],
   "source": []
  }
 ],
 "metadata": {
  "kernelspec": {
   "display_name": "emb_opt",
   "language": "python",
   "name": "emb_opt"
  }
 },
 "nbformat": 4,
 "nbformat_minor": 4
}
