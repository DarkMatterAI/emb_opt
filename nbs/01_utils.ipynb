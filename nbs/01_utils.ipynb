{
 "cells": [
  {
   "cell_type": "markdown",
   "metadata": {},
   "source": [
    "# utils\n",
    "\n",
    "> util functions"
   ]
  },
  {
   "cell_type": "code",
   "execution_count": null,
   "metadata": {},
   "outputs": [],
   "source": [
    "#| default_exp utils"
   ]
  },
  {
   "cell_type": "code",
   "execution_count": null,
   "metadata": {},
   "outputs": [],
   "source": [
    "#| hide\n",
    "from nbdev.showdoc import *\n",
    "%load_ext autoreload\n",
    "%autoreload 2"
   ]
  },
  {
   "cell_type": "code",
   "execution_count": null,
   "metadata": {},
   "outputs": [
    {
     "name": "stderr",
     "output_type": "stream",
     "text": [
      "/home/dmai/miniconda3/envs/emb_opt/lib/python3.9/site-packages/tqdm/auto.py:21: TqdmWarning: IProgress not found. Please update jupyter and ipywidgets. See https://ipywidgets.readthedocs.io/en/stable/user_install.html\n",
      "  from .autonotebook import tqdm as notebook_tqdm\n"
     ]
    }
   ],
   "source": [
    "#| export\n",
    "from emb_opt.imports import *\n",
    "from emb_opt.schemas import Batch, Query, Item"
   ]
  },
  {
   "cell_type": "code",
   "execution_count": null,
   "metadata": {},
   "outputs": [],
   "source": [
    "#| export\n",
    "\n",
    "def batch_list(inputs: List[Any],   # input list to be batched\n",
    "               batch_size: int      # batch size\n",
    "              ) -> List[List[Any]]: # batched output list\n",
    "    '''\n",
    "    batches the input list into chunks of size `batch_size`, with the last batch ragged\n",
    "    \n",
    "    if `batch_size=0`, returns list of all inputs\n",
    "    '''\n",
    "    if batch_size==0:\n",
    "        output = [inputs]\n",
    "    else:\n",
    "        output = [inputs[i:i+batch_size] for i in range(0, len(inputs), batch_size)]\n",
    "    return output\n",
    "\n",
    "def unbatch_list(inputs: List[List[Any]] # input batched list\n",
    "                ) -> List[Any]:          # flattened output list\n",
    "    'flattens a batched list'\n",
    "    return [item for sublist in inputs for item in sublist]"
   ]
  },
  {
   "cell_type": "code",
   "execution_count": null,
   "metadata": {},
   "outputs": [],
   "source": [
    "inputs = list(range(10))\n",
    "assert unbatch_list(batch_list(inputs, 3)) == inputs"
   ]
  },
  {
   "cell_type": "code",
   "execution_count": null,
   "metadata": {},
   "outputs": [],
   "source": [
    "#| export\n",
    "\n",
    "def whiten(scores: np.ndarray # vector shape (n,) of scores to whiten\n",
    "          ) -> np.ndarray:    # vector shape (n,) whitened scores\n",
    "    'Whitens vector of scores'\n",
    "    mean = scores.mean()\n",
    "    var = scores.var()\n",
    "    \n",
    "    return (scores - mean) / np.sqrt(var + 1e-8)"
   ]
  },
  {
   "cell_type": "code",
   "execution_count": null,
   "metadata": {},
   "outputs": [],
   "source": [
    "#| export\n",
    "\n",
    "def build_batch_from_embeddings(embeddings: List[List[float]] # input embeddings\n",
    "                               ) -> Batch:                    # output batch\n",
    "    '''\n",
    "    creates a `Batch` from a list of `embeddings`. Each embedding \n",
    "    is converted to a `Query` with a unique `collection_id`\n",
    "    '''\n",
    "    queries = []\n",
    "    for i, embedding in enumerate(embeddings):\n",
    "        query = Query.from_minimal(embedding=embedding)\n",
    "        query.update_internal(collection_id=i)\n",
    "        queries.append(query)\n",
    "        \n",
    "    batch = Batch(queries=queries) \n",
    "    return batch"
   ]
  },
  {
   "cell_type": "code",
   "execution_count": null,
   "metadata": {},
   "outputs": [
    {
     "data": {
      "text/plain": [
       "Batch(queries=[Query(item=None, embedding=[0.1], data={}, query_results=[], internal=InteralData(removed=False, removal_reason=None, parent_id=None, collection_id=0, iteration=None), id='query_54271b66-50d1-11ee-b64b-7b1d5a84b1d4'), Query(item=None, embedding=[0.2], data={}, query_results=[], internal=InteralData(removed=False, removal_reason=None, parent_id=None, collection_id=1, iteration=None), id='query_54271b67-50d1-11ee-b64b-7b1d5a84b1d4')])"
      ]
     },
     "execution_count": null,
     "metadata": {},
     "output_type": "execute_result"
    }
   ],
   "source": [
    "build_batch_from_embeddings([[0.1], [0.2]])"
   ]
  },
  {
   "cell_type": "code",
   "execution_count": null,
   "metadata": {},
   "outputs": [],
   "source": [
    "#| export\n",
    "\n",
    "def build_batch_from_items(items: List[Item],      # input items\n",
    "                           remap_collections=False # if collection ID should be remapped\n",
    "                          ) -> Batch:              # output batch\n",
    "    '''\n",
    "    creates a `Batch` from a list of `Item` objects. Each `Item` \n",
    "    is converted to a `Query`. If `remap_collections=True`, each \n",
    "    `Query` is given a unique `collection_id`. Otherwise, each \n",
    "    `Query` retains the `collection_id` of the `Item` used to \n",
    "    create it\n",
    "    '''\n",
    "    queries = []\n",
    "    for i, item in enumerate(items):\n",
    "        query = Query.from_item(item)\n",
    "        if remap_collections:\n",
    "            query.update_internal(collection_id=i)\n",
    "        queries.append(query)\n",
    "    batch = Batch(queries=queries) \n",
    "    return batch"
   ]
  },
  {
   "cell_type": "code",
   "execution_count": null,
   "metadata": {},
   "outputs": [
    {
     "data": {
      "text/plain": [
       "Batch(queries=[Query(item=None, embedding=[0.1], data={'_source_item_id': 'item_95b496da-50d1-11ee-b64b-7b1d5a84b1d4'}, query_results=[], internal=InteralData(removed=False, removal_reason=None, parent_id=None, collection_id=0, iteration=None), id='query_95b496db-50d1-11ee-b64b-7b1d5a84b1d4')])"
      ]
     },
     "execution_count": null,
     "metadata": {},
     "output_type": "execute_result"
    }
   ],
   "source": [
    "build_batch_from_items([Item.from_minimal(embedding=[0.1])], remap_collections=True)"
   ]
  },
  {
   "cell_type": "code",
   "execution_count": null,
   "metadata": {},
   "outputs": [],
   "source": []
  },
  {
   "cell_type": "code",
   "execution_count": null,
   "metadata": {},
   "outputs": [],
   "source": []
  }
 ],
 "metadata": {
  "kernelspec": {
   "display_name": "emb_opt",
   "language": "python",
   "name": "emb_opt"
  }
 },
 "nbformat": 4,
 "nbformat_minor": 4
}
