{
 "cells": [
  {
   "cell_type": "markdown",
   "metadata": {},
   "source": [
    "# Schemas\n",
    "\n",
    "> Data Schemas"
   ]
  },
  {
   "cell_type": "code",
   "execution_count": 1,
   "metadata": {},
   "outputs": [],
   "source": [
    "#| default_exp schemas"
   ]
  },
  {
   "cell_type": "code",
   "execution_count": 2,
   "metadata": {},
   "outputs": [],
   "source": [
    "#| hide\n",
    "from nbdev.showdoc import *\n",
    "%load_ext autoreload\n",
    "%autoreload 2"
   ]
  },
  {
   "cell_type": "code",
   "execution_count": 3,
   "metadata": {},
   "outputs": [
    {
     "name": "stderr",
     "output_type": "stream",
     "text": [
      "/home/dmai/miniconda3/envs/emb_opt/lib/python3.9/site-packages/tqdm/auto.py:21: TqdmWarning: IProgress not found. Please update jupyter and ipywidgets. See https://ipywidgets.readthedocs.io/en/stable/user_install.html\n",
      "  from .autonotebook import tqdm as notebook_tqdm\n"
     ]
    }
   ],
   "source": [
    "#| export\n",
    "from emb_opt.imports import *"
   ]
  },
  {
   "cell_type": "code",
   "execution_count": 4,
   "metadata": {},
   "outputs": [],
   "source": [
    "#| export\n",
    "\n",
    "class Item(BaseModel):\n",
    "    item: Optional[str]\n",
    "    embedding: list[float]\n",
    "    score: Optional[float]\n",
    "    data: Optional[dict]\n",
    "        \n",
    "    @field_validator('data')\n",
    "    def set_data(cls, data):\n",
    "        return data or {}"
   ]
  },
  {
   "cell_type": "code",
   "execution_count": 5,
   "metadata": {},
   "outputs": [],
   "source": [
    "#| export\n",
    "\n",
    "class Query(BaseModel):\n",
    "    item: Optional[str]\n",
    "    embedding: list[float]\n",
    "    query_results: Optional[list[Item]]\n",
    "        \n",
    "    @field_validator('query_results')\n",
    "    def set_query_results(cls, query_results):\n",
    "        return query_results or []"
   ]
  },
  {
   "cell_type": "code",
   "execution_count": 6,
   "metadata": {},
   "outputs": [],
   "source": [
    "class DataSourceInput(BaseModel):\n",
    "    item: Optional[str]\n",
    "    embedding: Optional[list[float]]"
   ]
  },
  {
   "cell_type": "code",
   "execution_count": 7,
   "metadata": {},
   "outputs": [],
   "source": [
    "class QueryIndex(BaseModel):\n",
    "    batch_index: int\n",
    "    query_index: Optional[int]\n",
    "    result_index: Optional[int]"
   ]
  },
  {
   "cell_type": "code",
   "execution_count": 8,
   "metadata": {},
   "outputs": [],
   "source": [
    "class FilterRequestItem(BaseModel):\n",
    "    item: Optional[str]\n",
    "    embedding: Optional[list[float]]"
   ]
  },
  {
   "cell_type": "code",
   "execution_count": 9,
   "metadata": {},
   "outputs": [],
   "source": [
    "class FilterResult(BaseModel):\n",
    "    result: bool\n",
    "    filter_data: Optional[dict]\n",
    "        \n",
    "    @model_validator(mode='before')\n",
    "    @classmethod\n",
    "    def _fill_data(cls, data: Any) -> Any:\n",
    "        if \"filter_data\" not in data:\n",
    "            data[\"filter_data\"] = None\n",
    "        return data"
   ]
  },
  {
   "cell_type": "code",
   "execution_count": 10,
   "metadata": {},
   "outputs": [],
   "source": [
    "class ScoreRequestItem(BaseModel):\n",
    "    item: Optional[str]\n",
    "    embedding: Optional[list[float]]\n",
    "\n",
    "class ScoreResult(BaseModel):\n",
    "    result: float\n",
    "    score_data: Optional[dict]\n",
    "        \n",
    "    @model_validator(mode='before')\n",
    "    @classmethod\n",
    "    def _fill_data(cls, data: Any) -> Any:\n",
    "        if \"score_data\" not in data:\n",
    "            data[\"score_data\"] = None\n",
    "        return data"
   ]
  },
  {
   "cell_type": "code",
   "execution_count": 11,
   "metadata": {},
   "outputs": [],
   "source": [
    "class QueryBatch(RootModel):\n",
    "    root: List[Query]\n",
    "\n",
    "    def __iter__(self):\n",
    "        return iter(self.root)\n",
    "\n",
    "    def __getitem__(self, idx: int):\n",
    "        return self.root[idx]"
   ]
  },
  {
   "cell_type": "code",
   "execution_count": 12,
   "metadata": {},
   "outputs": [],
   "source": [
    "class Batch(RootModel):\n",
    "    root: List[QueryBatch]\n",
    "        \n",
    "    def __iter__(self):\n",
    "        return iter(self.root)\n",
    "\n",
    "    def __getitem__(self, idx: int):\n",
    "        return self.root[idx]\n",
    "    \n",
    "    def index(self, batch_index, query_index=None, result_index=None):\n",
    "        result = self.root[batch_index]\n",
    "        if query_index is not None:\n",
    "            result = result[query_index]\n",
    "            if result_index is not None:\n",
    "                result = result.query_results[result_index]\n",
    "        \n",
    "        return result\n",
    "    \n",
    "    def object_index(self, query_idx: QueryIndex):\n",
    "        return self.index(**query_idx.model_dump())\n",
    "    \n",
    "    def enumerate_batches(self):\n",
    "        for i, batch in enumerate(self.root):\n",
    "            idx = QueryIndex(batch_index=i, query_index=None, result_index=None)\n",
    "            yield (idx, batch)\n",
    "            \n",
    "    def enumerate_queries(self):\n",
    "        for i, batch in enumerate(self.root):\n",
    "            for j, query in enumerate(batch):\n",
    "                idx = QueryIndex(batch_index=i, query_index=j, result_index=None)\n",
    "                yield (idx, query)\n",
    "                \n",
    "    def enumerate_query_results(self):\n",
    "        for i, batch in enumerate(self.root):\n",
    "            for j, query in enumerate(batch):\n",
    "                for k, result in enumerate(query.query_results):\n",
    "                    idx = QueryIndex(batch_index=i, query_index=j, result_index=k)\n",
    "                    yield (idx, result)"
   ]
  },
  {
   "cell_type": "code",
   "execution_count": 47,
   "metadata": {},
   "outputs": [],
   "source": [
    "q1 = Query(item='q1', embedding=[0.1], query_results=[])\n",
    "q2 = Query(item='q2', embedding=[0.2], query_results=[])\n",
    "q3 = Query(item='q3', embedding=[0.3], query_results=[])\n",
    "\n",
    "qb1 = QueryBatch([q1,q2])\n",
    "qb2 = QueryBatch([q3])\n",
    "\n",
    "batch = Batch([qb1, qb2])"
   ]
  },
  {
   "cell_type": "code",
   "execution_count": null,
   "metadata": {},
   "outputs": [],
   "source": []
  },
  {
   "cell_type": "code",
   "execution_count": 14,
   "metadata": {},
   "outputs": [],
   "source": [
    "def gather_data_request(batch, include_item=True, include_embedding=True):\n",
    "    idxs = []\n",
    "    outputs = []\n",
    "    \n",
    "    for idx, query in batch.enumerate_queries():\n",
    "        idxs.append(idx)\n",
    "        item = query.item if include_item else None\n",
    "        embedding = query.embedding if include_embedding else None\n",
    "        outputs.append(DataSourceInput(item=item, embedding=embedding))\n",
    "        \n",
    "    return idxs, outputs"
   ]
  },
  {
   "cell_type": "code",
   "execution_count": 48,
   "metadata": {},
   "outputs": [],
   "source": [
    "data_idxs, data_inputs = gather_data_request(batch)"
   ]
  },
  {
   "cell_type": "code",
   "execution_count": 49,
   "metadata": {},
   "outputs": [],
   "source": [
    "r1 = Item(item='1', embedding=[0.11], score=None, data=None)\n",
    "r2 = Item(item='2', embedding=[0.22], score=None, data=None)\n",
    "r3 = Item(item='3', embedding=[0.33], score=None, data=None)\n",
    "r4 = Item(item='4', embedding=[0.44], score=None, data=None)\n",
    "r5 = Item(item='5', embedding=[0.55], score=None, data=None)\n",
    "\n",
    "data_results = [[r1, r2], [r3,], [r4, r5]]"
   ]
  },
  {
   "cell_type": "code",
   "execution_count": 17,
   "metadata": {},
   "outputs": [],
   "source": [
    "def scatter_data_response(batch, idxs, data_results):\n",
    "    for (query_idx, item_list) in zip(idxs, data_results):\n",
    "        batch.object_index(query_idx).query_results = item_list"
   ]
  },
  {
   "cell_type": "code",
   "execution_count": 50,
   "metadata": {},
   "outputs": [],
   "source": [
    "scatter_data_response(batch, data_idxs, data_results)"
   ]
  },
  {
   "cell_type": "code",
   "execution_count": 19,
   "metadata": {},
   "outputs": [],
   "source": [
    "def gather_filter_request(batch, include_item=True, include_embedding=True):\n",
    "    idxs = []\n",
    "    outputs = []\n",
    "    \n",
    "    for idx, query_result in batch.enumerate_query_results():\n",
    "        idxs.append(idx)\n",
    "        \n",
    "        item = query_result.item if include_item else None\n",
    "        embedding = query_result.embedding if include_embedding else None\n",
    "        outputs.append(FilterRequestItem(item=item, embedding=embedding))\n",
    "        \n",
    "    return idxs, outputs"
   ]
  },
  {
   "cell_type": "code",
   "execution_count": 51,
   "metadata": {},
   "outputs": [],
   "source": [
    "filter_idxs, filter_inputs = gather_filter_request(batch)"
   ]
  },
  {
   "cell_type": "code",
   "execution_count": 52,
   "metadata": {},
   "outputs": [],
   "source": [
    "filter_results = [{'result':True}, \n",
    "                  {'result':False}, \n",
    "                  {'result':True, 'filter_data':{'blah':5}},\n",
    "                  {'result':True},\n",
    "                  {'result':False}\n",
    "                 ]\n",
    "filter_results = [FilterResult(**i) for i in filter_results]"
   ]
  },
  {
   "cell_type": "code",
   "execution_count": 53,
   "metadata": {},
   "outputs": [
    {
     "data": {
      "text/plain": [
       "[Item(item='1', embedding=[0.11], score=None, data={}),\n",
       " Item(item='2', embedding=[0.22], score=None, data={}),\n",
       " Item(item='3', embedding=[0.33], score=None, data={}),\n",
       " Item(item='4', embedding=[0.44], score=None, data={}),\n",
       " Item(item='5', embedding=[0.55], score=None, data={})]"
      ]
     },
     "execution_count": 53,
     "metadata": {},
     "output_type": "execute_result"
    }
   ],
   "source": [
    "[i[1] for i in batch.enumerate_query_results()]"
   ]
  },
  {
   "cell_type": "code",
   "execution_count": 23,
   "metadata": {},
   "outputs": [],
   "source": [
    "def scatter_filter_response(batch, idxs, filter_results):\n",
    "    for (result_idx, filter_result) in zip(idxs, filter_results):\n",
    "        query = batch.index(result_idx.batch_index, result_idx.query_index)\n",
    "        result = filter_result.result\n",
    "        data = filter_result.filter_data\n",
    "        \n",
    "        if result==False:\n",
    "            query.query_results[result_idx.result_index] = None\n",
    "        else:\n",
    "            if data:\n",
    "                query.query_results[result_idx.result_index].data['filter_data'] = data\n",
    "        \n",
    "    for _, query in batch.enumerate_queries():\n",
    "        query.query_results = [i for i in query.query_results if i]"
   ]
  },
  {
   "cell_type": "code",
   "execution_count": 54,
   "metadata": {},
   "outputs": [],
   "source": [
    "scatter_filter_response(batch, filter_idxs, filter_results)"
   ]
  },
  {
   "cell_type": "code",
   "execution_count": 55,
   "metadata": {},
   "outputs": [
    {
     "data": {
      "text/plain": [
       "[Item(item='1', embedding=[0.11], score=None, data={}),\n",
       " Item(item='3', embedding=[0.33], score=None, data={'filter_data': {'blah': 5}}),\n",
       " Item(item='4', embedding=[0.44], score=None, data={})]"
      ]
     },
     "execution_count": 55,
     "metadata": {},
     "output_type": "execute_result"
    }
   ],
   "source": [
    "[i[1] for i in batch.enumerate_query_results()]"
   ]
  },
  {
   "cell_type": "code",
   "execution_count": 26,
   "metadata": {},
   "outputs": [],
   "source": [
    "def gather_score_request(batch, include_item=True, include_embedding=True):\n",
    "    idxs = []\n",
    "    outputs = []\n",
    "    \n",
    "    for idx, query_result in batch.enumerate_query_results():\n",
    "        idxs.append(idx)\n",
    "        \n",
    "        item = query_result.item if include_item else None\n",
    "        embedding = query_result.embedding if include_embedding else None\n",
    "        outputs.append(ScoreRequestItem(item=item, embedding=embedding))\n",
    "        \n",
    "    return idxs, outputs"
   ]
  },
  {
   "cell_type": "code",
   "execution_count": 56,
   "metadata": {},
   "outputs": [],
   "source": [
    "score_idxs, score_inputs = gather_score_request(batch)"
   ]
  },
  {
   "cell_type": "code",
   "execution_count": 57,
   "metadata": {},
   "outputs": [],
   "source": [
    "score_results = [{'result':1.}, \n",
    "                  {'result':2., 'score_data':{'check':'suspect'}}, \n",
    "                  {'result':3.},\n",
    "                 ]\n",
    "score_results = [ScoreResult(**i) for i in score_results]"
   ]
  },
  {
   "cell_type": "code",
   "execution_count": 29,
   "metadata": {},
   "outputs": [],
   "source": [
    "def scatter_score_response(batch, idxs, score_results):\n",
    "    for (result_idx, score_result) in zip(idxs, score_results):\n",
    "        query_result = batch.object_index(result_idx)\n",
    "        query_result.score = score_result.result\n",
    "        \n",
    "        if score_result.score_data:\n",
    "            query_result.data['score_data'] = score_result.score_data"
   ]
  },
  {
   "cell_type": "code",
   "execution_count": 58,
   "metadata": {},
   "outputs": [],
   "source": [
    "scatter_score_response(batch, score_idxs, score_results)"
   ]
  },
  {
   "cell_type": "code",
   "execution_count": 59,
   "metadata": {},
   "outputs": [],
   "source": [
    "prune_inputs = [[i for i in j] for j in batch.root]"
   ]
  },
  {
   "cell_type": "code",
   "execution_count": 45,
   "metadata": {},
   "outputs": [],
   "source": [
    "class PruneResultItem(BaseModel):\n",
    "    result: bool\n",
    "        \n",
    "class PruneResult(RootModel):\n",
    "    root: List[List[PruneResultItem]]\n",
    "        \n",
    "    def __iter__(self):\n",
    "        return iter(self.root)"
   ]
  },
  {
   "cell_type": "code",
   "execution_count": 60,
   "metadata": {},
   "outputs": [],
   "source": [
    "prune_results = [\n",
    "    [\n",
    "        {'result' : False},\n",
    "        {'result' : True}\n",
    "    ],\n",
    "    [\n",
    "        {'result' : False}\n",
    "    ]\n",
    "]\n",
    "\n",
    "prune_results = PruneResult(prune_results)"
   ]
  },
  {
   "cell_type": "code",
   "execution_count": 34,
   "metadata": {},
   "outputs": [],
   "source": [
    "def scatter_prune_response(batch, prune_results):\n",
    "    for batch_idx, i in enumerate(prune_results):\n",
    "        for query_idx, prune_result in enumerate(i):\n",
    "            if prune_result.result==False:\n",
    "                batch.root[batch_idx].root[query_idx] = None\n",
    "                \n",
    "    for _, query_batch in batch.enumerate_batches():\n",
    "        query_batch.root = [i for i in query_batch.root if i]\n",
    "        \n",
    "    batch.root = [i for i in batch.root if i.root]"
   ]
  },
  {
   "cell_type": "code",
   "execution_count": 61,
   "metadata": {},
   "outputs": [],
   "source": [
    "scatter_prune_response(batch, prune_results)"
   ]
  },
  {
   "cell_type": "code",
   "execution_count": null,
   "metadata": {},
   "outputs": [],
   "source": []
  },
  {
   "cell_type": "code",
   "execution_count": null,
   "metadata": {},
   "outputs": [],
   "source": []
  },
  {
   "cell_type": "code",
   "execution_count": null,
   "metadata": {},
   "outputs": [],
   "source": []
  },
  {
   "cell_type": "code",
   "execution_count": null,
   "metadata": {},
   "outputs": [],
   "source": []
  },
  {
   "cell_type": "code",
   "execution_count": null,
   "metadata": {},
   "outputs": [],
   "source": []
  },
  {
   "cell_type": "code",
   "execution_count": null,
   "metadata": {},
   "outputs": [],
   "source": []
  }
 ],
 "metadata": {
  "kernelspec": {
   "display_name": "emb_opt",
   "language": "python",
   "name": "emb_opt"
  },
  "language_info": {
   "codemirror_mode": {
    "name": "ipython",
    "version": 3
   },
   "file_extension": ".py",
   "mimetype": "text/x-python",
   "name": "python",
   "nbconvert_exporter": "python",
   "pygments_lexer": "ipython3",
   "version": "3.9.16"
  }
 },
 "nbformat": 4,
 "nbformat_minor": 4
}
