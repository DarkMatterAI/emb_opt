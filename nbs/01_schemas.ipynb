{
 "cells": [
  {
   "cell_type": "markdown",
   "metadata": {},
   "source": [
    "# Schemas\n",
    "\n",
    "> Data Schemas"
   ]
  },
  {
   "cell_type": "code",
   "execution_count": null,
   "metadata": {},
   "outputs": [],
   "source": [
    "#| default_exp schemas"
   ]
  },
  {
   "cell_type": "code",
   "execution_count": null,
   "metadata": {},
   "outputs": [],
   "source": [
    "#| hide\n",
    "from nbdev.showdoc import *\n",
    "%load_ext autoreload\n",
    "%autoreload 2"
   ]
  },
  {
   "cell_type": "code",
   "execution_count": null,
   "metadata": {},
   "outputs": [
    {
     "name": "stderr",
     "output_type": "stream",
     "text": [
      "/home/dmai/miniconda3/envs/emb_opt/lib/python3.9/site-packages/tqdm/auto.py:21: TqdmWarning: IProgress not found. Please update jupyter and ipywidgets. See https://ipywidgets.readthedocs.io/en/stable/user_install.html\n",
      "  from .autonotebook import tqdm as notebook_tqdm\n"
     ]
    }
   ],
   "source": [
    "#| export\n",
    "from emb_opt.imports import *"
   ]
  },
  {
   "cell_type": "markdown",
   "metadata": {},
   "source": [
    "### Data Objects"
   ]
  },
  {
   "cell_type": "code",
   "execution_count": null,
   "metadata": {},
   "outputs": [],
   "source": [
    "#| export\n",
    "\n",
    "Embedding = List[float]"
   ]
  },
  {
   "cell_type": "code",
   "execution_count": null,
   "metadata": {},
   "outputs": [],
   "source": [
    "#| export\n",
    "\n",
    "class Item(BaseModel):\n",
    "    item: Optional[str]\n",
    "    embedding: Embedding\n",
    "    score: Optional[float]\n",
    "    data: Optional[dict]\n",
    "        \n",
    "    @model_validator(mode='before')\n",
    "    @classmethod\n",
    "    def _fill_data(cls, inputs: Any) -> Any:\n",
    "        if type(inputs)==dict:\n",
    "            if inputs.get('data', None) is None:\n",
    "                inputs['data'] = {}\n",
    "                \n",
    "            if '_internal' not in inputs['data']:\n",
    "                inputs['data']['_internal'] = {'id' : str(uuid.uuid1())}\n",
    "\n",
    "            if inputs.get('score', None) is None:\n",
    "                inputs['score'] = None\n",
    "\n",
    "            if inputs.get('item', None) is None:\n",
    "                inputs['item'] = None\n",
    "\n",
    "        return inputs"
   ]
  },
  {
   "cell_type": "code",
   "execution_count": null,
   "metadata": {},
   "outputs": [],
   "source": [
    "#| export\n",
    "\n",
    "class Query(BaseModel):\n",
    "    item: Optional[str]\n",
    "    embedding: Optional[Embedding]\n",
    "    data: Optional[dict]\n",
    "    query_results: Optional[list[Item]]\n",
    "        \n",
    "    @model_validator(mode='before')\n",
    "    @classmethod\n",
    "    def _fill_data(cls, inputs: Any) -> Any:\n",
    "        if inputs.get('data', None) is None:\n",
    "            inputs['data'] = {}\n",
    "            \n",
    "        if '_internal' not in inputs['data']:\n",
    "            inputs['data']['_internal'] = {'id' : str(uuid.uuid1())}\n",
    "        \n",
    "        if inputs.get('query_results', None) is None:\n",
    "            inputs['query_results'] = []\n",
    "            \n",
    "        if inputs.get('item', None) is None:\n",
    "            inputs['item'] = None\n",
    "\n",
    "        return inputs\n",
    "    \n",
    "    def __iter__(self):\n",
    "        return iter(self.query_results)\n",
    "\n",
    "    def __getitem__(self, idx: int):\n",
    "        return self.query_results[idx]\n",
    "    \n",
    "    def __len__(self):\n",
    "        return len(self.query_results)\n",
    "    \n",
    "    def add_query_results(self, query_results: List[Item]):\n",
    "        query_id = self.data['_internal']['id']\n",
    "        collection_idx = self.data['_internal'].get('collection_index', None)\n",
    "        for result in query_results:\n",
    "            result.data['_internal']['parent'] = query_id\n",
    "            result.data['_internal']['collection_index'] = collection_idx\n",
    "            self.query_results.append(result)"
   ]
  },
  {
   "cell_type": "code",
   "execution_count": null,
   "metadata": {},
   "outputs": [],
   "source": [
    "#| export\n",
    "\n",
    "class Batch(BaseModel):\n",
    "    queries: List[Query]\n",
    "        \n",
    "    def __iter__(self):\n",
    "        return iter(self.queries)\n",
    "\n",
    "    def __getitem__(self, idx: int):\n",
    "        return self.queries[idx]\n",
    "    \n",
    "    def __len__(self):\n",
    "        return len(self.queries)\n",
    "    \n",
    "    def get_item(self, query_index, result_index=None):\n",
    "        if result_index is not None:\n",
    "            return self.queries[query_index][result_index]\n",
    "        else:\n",
    "            return self.queries[query_index]\n",
    "    \n",
    "    def enumerate_queries(self):\n",
    "        for i, query in enumerate(self.queries):\n",
    "            yield ((i,None), query)\n",
    "            \n",
    "    def enumerate_query_results(self):\n",
    "        for i, query in enumerate(self.queries):\n",
    "            for j, result in enumerate(query):\n",
    "                yield ((i,j), result)\n",
    "                \n",
    "    def flatten_queries(self):\n",
    "        idxs = []\n",
    "        outputs = []\n",
    "        for i, q in self.enumerate_queries():\n",
    "            idxs.append(i)\n",
    "            outputs.append(q)\n",
    "        return idxs, outputs\n",
    "                \n",
    "    def flatten_query_results(self):\n",
    "        idxs = []\n",
    "        outputs = []\n",
    "        for i, r in self.enumerate_query_results():\n",
    "            idxs.append(i)\n",
    "            outputs.append(r)\n",
    "        return idxs, outputs\n",
    "    \n",
    "    def clean_queries(self):\n",
    "        keep = []\n",
    "        remove = []\n",
    "        for query in self.queries:\n",
    "            if query.data['_internal'].get('remove', False):\n",
    "                remove.append(query)\n",
    "            else:\n",
    "                keep.append(query)\n",
    "        self.queries = keep\n",
    "        return remove\n",
    "    \n",
    "    def clean_results(self):\n",
    "        remove = []\n",
    "        for query in self.queries:\n",
    "            keep = []\n",
    "            for result in query:\n",
    "                if result.data['_internal'].get('remove', False):\n",
    "                    remove.append(result)\n",
    "                else:\n",
    "                    keep.append(result)\n",
    "                    \n",
    "            query.query_results = keep\n",
    "            \n",
    "        return remove"
   ]
  },
  {
   "cell_type": "markdown",
   "metadata": {},
   "source": [
    "### Data Source"
   ]
  },
  {
   "cell_type": "code",
   "execution_count": null,
   "metadata": {},
   "outputs": [],
   "source": [
    "#| export\n",
    "\n",
    "class DataSourceResponse(BaseModel):\n",
    "    valid: bool\n",
    "    data: Optional[Dict]\n",
    "    query_results: List[Item]"
   ]
  },
  {
   "cell_type": "code",
   "execution_count": null,
   "metadata": {},
   "outputs": [],
   "source": [
    "#| export\n",
    "\n",
    "DataSourceFunction = Callable[List[Query], List[DataSourceResponse]]"
   ]
  },
  {
   "cell_type": "code",
   "execution_count": null,
   "metadata": {},
   "outputs": [],
   "source": []
  },
  {
   "cell_type": "code",
   "execution_count": null,
   "metadata": {},
   "outputs": [],
   "source": []
  },
  {
   "cell_type": "code",
   "execution_count": null,
   "metadata": {},
   "outputs": [],
   "source": []
  },
  {
   "cell_type": "code",
   "execution_count": null,
   "metadata": {},
   "outputs": [],
   "source": []
  },
  {
   "cell_type": "code",
   "execution_count": null,
   "metadata": {},
   "outputs": [],
   "source": []
  },
  {
   "cell_type": "code",
   "execution_count": null,
   "metadata": {},
   "outputs": [],
   "source": [
    "q1 = Query(item='q1', embedding=[0.1])\n",
    "q2 = Query(item='q2', embedding=[0.2])\n",
    "q3 = Query(item='q3', embedding=[0.3])\n",
    "q4 = Query(item='q4', embedding=[0.4])"
   ]
  },
  {
   "cell_type": "code",
   "execution_count": null,
   "metadata": {},
   "outputs": [],
   "source": [
    "# this should be done by init or update step\n",
    "q1.data['_internal']['collection_index'] = 0\n",
    "q2.data['_internal']['collection_index'] = 0\n",
    "q3.data['_internal']['collection_index'] = 1\n",
    "q4.data['_internal']['collection_index'] = 1"
   ]
  },
  {
   "cell_type": "code",
   "execution_count": null,
   "metadata": {},
   "outputs": [],
   "source": [
    "batch = Batch(queries=[q1, q2, q3, q4])"
   ]
  },
  {
   "cell_type": "markdown",
   "metadata": {},
   "source": [
    "## Data Source"
   ]
  },
  {
   "cell_type": "code",
   "execution_count": null,
   "metadata": {},
   "outputs": [],
   "source": [
    "class DataSourceResponse(BaseModel):\n",
    "    valid: bool\n",
    "    data: Optional[Dict]\n",
    "    query_results: List[Item]"
   ]
  },
  {
   "cell_type": "code",
   "execution_count": null,
   "metadata": {},
   "outputs": [],
   "source": [
    "DataSourceFunction = Callable[Query, DataSourceResponse]\n",
    "DataSourceFunctionBatched = Callable[List[Query], List[DataSourceResponse]]"
   ]
  },
  {
   "cell_type": "code",
   "execution_count": null,
   "metadata": {},
   "outputs": [],
   "source": [
    "data_idxs, data_inputs = batch.flatten_queries()"
   ]
  },
  {
   "cell_type": "code",
   "execution_count": null,
   "metadata": {},
   "outputs": [],
   "source": []
  },
  {
   "cell_type": "code",
   "execution_count": null,
   "metadata": {},
   "outputs": [],
   "source": [
    "r1 = Item(item='1', embedding=[0.11])\n",
    "r2 = Item(item='2', embedding=[0.22])\n",
    "r3 = Item(item='3', embedding=[0.33])\n",
    "r4 = Item(item='4', embedding=[0.44])\n",
    "r5 = Item(item='5', embedding=[0.55])\n",
    "\n",
    "data_results = [[r1, r2], [r3,], [r4, r5], []]\n",
    "data_valid = [True, False, True, True]\n",
    "\n",
    "data_results = [DataSourceResponse(valid=data_valid[i], data={'data_test':True}, \n",
    "                                   query_results=data_results[i]) for i in range(len(data_results))]"
   ]
  },
  {
   "cell_type": "code",
   "execution_count": null,
   "metadata": {},
   "outputs": [],
   "source": [
    "def scatter_data_response(batch, idxs, results):\n",
    "    for (q_idx, r_idx), result in zip(idxs, results):\n",
    "        batch_item = batch.get_item(q_idx, r_idx)\n",
    "        if result.data:\n",
    "            batch_item.data.update(result.data)\n",
    "        \n",
    "        if result.valid:\n",
    "            if result.query_results:\n",
    "                batch_item.add_query_results(result.query_results)\n",
    "                \n",
    "            else:\n",
    "                batch_item.data['_internal']['remove'] = True\n",
    "                batch_item.data['_internal']['remove_details'] = 'query returned no results'\n",
    "        \n",
    "        else:\n",
    "            batch_item.data['_internal']['remove'] = True\n",
    "            batch_item.data['_internal']['remove_details'] = 'query response invalid'"
   ]
  },
  {
   "cell_type": "code",
   "execution_count": null,
   "metadata": {},
   "outputs": [],
   "source": [
    "scatter_data_response(batch, data_idxs, data_results)"
   ]
  },
  {
   "cell_type": "code",
   "execution_count": null,
   "metadata": {},
   "outputs": [],
   "source": [
    "removed_queries = batch.clean_queries()"
   ]
  },
  {
   "cell_type": "code",
   "execution_count": null,
   "metadata": {},
   "outputs": [
    {
     "data": {
      "text/plain": [
       "[Query(item='q2', embedding=[0.2], data={'_internal': {'id': '069ef497-4c20-11ee-b64b-7b1d5a84b1d4', 'collection_index': 0, 'remove': True, 'remove_details': 'query response invalid'}, 'data_test': True}, query_results=[]),\n",
       " Query(item='q4', embedding=[0.4], data={'_internal': {'id': '069ef499-4c20-11ee-b64b-7b1d5a84b1d4', 'collection_index': 1, 'remove': True, 'remove_details': 'query returned no results'}, 'data_test': True}, query_results=[])]"
      ]
     },
     "execution_count": null,
     "metadata": {},
     "output_type": "execute_result"
    }
   ],
   "source": [
    "removed_queries"
   ]
  },
  {
   "cell_type": "code",
   "execution_count": null,
   "metadata": {},
   "outputs": [
    {
     "data": {
      "text/plain": [
       "['q1', 'q3']"
      ]
     },
     "execution_count": null,
     "metadata": {},
     "output_type": "execute_result"
    }
   ],
   "source": [
    "[i.item for i in batch]"
   ]
  },
  {
   "cell_type": "code",
   "execution_count": null,
   "metadata": {},
   "outputs": [],
   "source": []
  },
  {
   "cell_type": "markdown",
   "metadata": {},
   "source": [
    "## Filter"
   ]
  },
  {
   "cell_type": "code",
   "execution_count": null,
   "metadata": {},
   "outputs": [],
   "source": [
    "class FilterResponse(BaseModel):\n",
    "    valid: bool\n",
    "    data: Optional[dict]\n",
    "        \n",
    "    @model_validator(mode='before')\n",
    "    @classmethod\n",
    "    def _fill_data(cls, data: Any) -> Any:\n",
    "        if \"data\" not in data:\n",
    "            data[\"data\"] = None\n",
    "        return data"
   ]
  },
  {
   "cell_type": "code",
   "execution_count": null,
   "metadata": {},
   "outputs": [],
   "source": [
    "FilterFunction = Callable[Item, FilterResponse]\n",
    "FilterFunctionBatched = Callable[List[Item], List[FilterResponse]]"
   ]
  },
  {
   "cell_type": "code",
   "execution_count": null,
   "metadata": {},
   "outputs": [],
   "source": [
    "filter_idxs, filter_inputs = batch.flatten_query_results()"
   ]
  },
  {
   "cell_type": "code",
   "execution_count": null,
   "metadata": {},
   "outputs": [],
   "source": [
    "filter_results = [{'valid':True}, \n",
    "                  {'valid':False}, \n",
    "                  {'valid':True, 'data':{'blah':5}},\n",
    "                  {'valid':True},\n",
    "                 ]\n",
    "filter_results = [FilterResponse(**i) for i in filter_results]"
   ]
  },
  {
   "cell_type": "code",
   "execution_count": null,
   "metadata": {},
   "outputs": [],
   "source": [
    "def scatter_filter_response(batch, idxs, results):\n",
    "    for (q_idx, r_idx), result in zip(idxs, results):\n",
    "        batch_item = batch.get_item(q_idx, r_idx)\n",
    "        if result.data:\n",
    "            batch_item.data.update(result.data)\n",
    "            \n",
    "        if not result.valid:\n",
    "            batch_item.data['_internal']['remove'] = True\n",
    "            batch_item.data['_internal']['remove_details'] = 'filter response invalid'"
   ]
  },
  {
   "cell_type": "code",
   "execution_count": null,
   "metadata": {},
   "outputs": [],
   "source": [
    "scatter_filter_response(batch, filter_idxs, filter_results)"
   ]
  },
  {
   "cell_type": "code",
   "execution_count": null,
   "metadata": {},
   "outputs": [],
   "source": [
    "removed_results = batch.clean_results()"
   ]
  },
  {
   "cell_type": "code",
   "execution_count": null,
   "metadata": {},
   "outputs": [
    {
     "data": {
      "text/plain": [
       "[Item(item='2', embedding=[0.22], score=None, data={'_internal': {'id': '092a869f-4c20-11ee-b64b-7b1d5a84b1d4', 'parent': '069ef496-4c20-11ee-b64b-7b1d5a84b1d4', 'collection_index': 0, 'remove': True, 'remove_details': 'filter response invalid'}})]"
      ]
     },
     "execution_count": null,
     "metadata": {},
     "output_type": "execute_result"
    }
   ],
   "source": [
    "removed_results"
   ]
  },
  {
   "cell_type": "markdown",
   "metadata": {},
   "source": [
    "## Score"
   ]
  },
  {
   "cell_type": "code",
   "execution_count": null,
   "metadata": {},
   "outputs": [],
   "source": [
    "class ScoreResponse(BaseModel):\n",
    "    valid: bool\n",
    "    score: float\n",
    "    data: Optional[dict]\n",
    "        \n",
    "    @model_validator(mode='before')\n",
    "    @classmethod\n",
    "    def _fill_data(cls, data: Any) -> Any:\n",
    "        if \"data\" not in data:\n",
    "            data[\"data\"] = None\n",
    "        return data"
   ]
  },
  {
   "cell_type": "code",
   "execution_count": null,
   "metadata": {},
   "outputs": [],
   "source": [
    "ScoreFunction = Callable[Item, ScoreResponse]\n",
    "ScoreFunctionBatched = Callable[List[Item], List[ScoreResponse]]"
   ]
  },
  {
   "cell_type": "code",
   "execution_count": null,
   "metadata": {},
   "outputs": [],
   "source": [
    "score_idxs, score_inputs = batch.flatten_query_results()"
   ]
  },
  {
   "cell_type": "code",
   "execution_count": null,
   "metadata": {},
   "outputs": [],
   "source": [
    "score_results = [{'score':1., 'valid':True}, \n",
    "                  {'score':2., 'valid':True, 'data':{'check':'suspect'}}, \n",
    "                  {'score':3., 'valid':True},\n",
    "                 ]\n",
    "score_results = [ScoreResponse(**i) for i in score_results]"
   ]
  },
  {
   "cell_type": "code",
   "execution_count": null,
   "metadata": {},
   "outputs": [],
   "source": [
    "def scatter_score_response(batch, idxs, results):\n",
    "    for (q_idx, r_idx), result in zip(idxs, results):\n",
    "        batch_item = batch.get_item(q_idx, r_idx)\n",
    "        \n",
    "        batch_item.score = result.score\n",
    "        \n",
    "        if result.data:\n",
    "            batch_item.data.update(result.data)\n",
    "            \n",
    "        if not result.valid:\n",
    "            batch_item.data['_internal']['remove'] = True\n",
    "            batch_item.data['_internal']['remove_details'] = 'score response invalid'"
   ]
  },
  {
   "cell_type": "code",
   "execution_count": null,
   "metadata": {},
   "outputs": [],
   "source": [
    "scatter_score_response(batch, score_idxs, score_results)"
   ]
  },
  {
   "cell_type": "markdown",
   "metadata": {},
   "source": [
    "## Prune"
   ]
  },
  {
   "cell_type": "code",
   "execution_count": null,
   "metadata": {},
   "outputs": [],
   "source": [
    "class PruneResponse(BaseModel):\n",
    "    valid: bool\n",
    "    data: Optional[dict]\n",
    "        \n",
    "    @model_validator(mode='before')\n",
    "    @classmethod\n",
    "    def _fill_data(cls, data: Any) -> Any:\n",
    "        if \"data\" not in data:\n",
    "            data[\"data\"] = None\n",
    "        return data"
   ]
  },
  {
   "cell_type": "code",
   "execution_count": null,
   "metadata": {},
   "outputs": [],
   "source": [
    "PruneFunction = Callable[Item, PruneResponse]\n",
    "PruneFunctionBatched = Callable[List[Item], List[PruneResponse]]"
   ]
  },
  {
   "cell_type": "code",
   "execution_count": null,
   "metadata": {},
   "outputs": [],
   "source": [
    "prune_results = [{'valid':True}, {'valid':False}, {'valid':True}]\n",
    "prune_results = [PruneResponse(**i) for i in prune_results]"
   ]
  },
  {
   "cell_type": "code",
   "execution_count": null,
   "metadata": {},
   "outputs": [],
   "source": [
    "prune_idxs, prune_inputs = batch.flatten_queries()"
   ]
  },
  {
   "cell_type": "code",
   "execution_count": null,
   "metadata": {},
   "outputs": [],
   "source": [
    "def scatter_prune_response(batch, idxs, results):\n",
    "    for (q_idx, r_idx), result in zip(idxs, results):\n",
    "        batch_item = batch.get_item(q_idx, r_idx)\n",
    "        if result.data:\n",
    "            batch_item.data.update(result.data)\n",
    "            \n",
    "        if not result.valid:\n",
    "            batch_item.data['_internal']['remove'] = True\n",
    "            batch_item.data['_internal']['remove_details'] = 'pruned'"
   ]
  },
  {
   "cell_type": "code",
   "execution_count": null,
   "metadata": {},
   "outputs": [],
   "source": [
    "scatter_prune_response(batch, prune_idxs, prune_results)"
   ]
  },
  {
   "cell_type": "code",
   "execution_count": null,
   "metadata": {},
   "outputs": [],
   "source": [
    "removed_queries = batch.clean_queries()"
   ]
  },
  {
   "cell_type": "code",
   "execution_count": null,
   "metadata": {},
   "outputs": [
    {
     "data": {
      "text/plain": [
       "{'_internal': {'id': '069ef498-4c20-11ee-b64b-7b1d5a84b1d4',\n",
       "  'collection_index': 1,\n",
       "  'remove': True,\n",
       "  'remove_details': 'pruned'},\n",
       " 'data_test': True}"
      ]
     },
     "execution_count": null,
     "metadata": {},
     "output_type": "execute_result"
    }
   ],
   "source": [
    "removed_queries[0].data"
   ]
  },
  {
   "cell_type": "code",
   "execution_count": null,
   "metadata": {},
   "outputs": [],
   "source": []
  },
  {
   "cell_type": "code",
   "execution_count": null,
   "metadata": {},
   "outputs": [],
   "source": []
  },
  {
   "cell_type": "code",
   "execution_count": null,
   "metadata": {},
   "outputs": [],
   "source": []
  },
  {
   "cell_type": "code",
   "execution_count": null,
   "metadata": {},
   "outputs": [],
   "source": []
  },
  {
   "cell_type": "code",
   "execution_count": null,
   "metadata": {},
   "outputs": [],
   "source": []
  },
  {
   "cell_type": "code",
   "execution_count": null,
   "metadata": {},
   "outputs": [],
   "source": []
  },
  {
   "cell_type": "code",
   "execution_count": null,
   "metadata": {},
   "outputs": [],
   "source": []
  },
  {
   "cell_type": "code",
   "execution_count": null,
   "metadata": {},
   "outputs": [],
   "source": []
  }
 ],
 "metadata": {
  "kernelspec": {
   "display_name": "emb_opt",
   "language": "python",
   "name": "emb_opt"
  }
 },
 "nbformat": 4,
 "nbformat_minor": 4
}
