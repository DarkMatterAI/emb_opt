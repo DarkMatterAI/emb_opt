{
 "cells": [
  {
   "cell_type": "markdown",
   "metadata": {},
   "source": [
    "# Schemas\n",
    "\n",
    "> Data Schemas"
   ]
  },
  {
   "cell_type": "code",
   "execution_count": 1,
   "metadata": {},
   "outputs": [],
   "source": [
    "#| default_exp schemas"
   ]
  },
  {
   "cell_type": "code",
   "execution_count": 2,
   "metadata": {},
   "outputs": [],
   "source": [
    "#| hide\n",
    "from nbdev.showdoc import *\n",
    "%load_ext autoreload\n",
    "%autoreload 2"
   ]
  },
  {
   "cell_type": "code",
   "execution_count": 3,
   "metadata": {},
   "outputs": [
    {
     "name": "stderr",
     "output_type": "stream",
     "text": [
      "/home/dmai/miniconda3/envs/emb_opt/lib/python3.9/site-packages/tqdm/auto.py:21: TqdmWarning: IProgress not found. Please update jupyter and ipywidgets. See https://ipywidgets.readthedocs.io/en/stable/user_install.html\n",
      "  from .autonotebook import tqdm as notebook_tqdm\n"
     ]
    }
   ],
   "source": [
    "#| export\n",
    "from emb_opt.imports import *"
   ]
  },
  {
   "cell_type": "code",
   "execution_count": null,
   "metadata": {},
   "outputs": [],
   "source": []
  },
  {
   "cell_type": "code",
   "execution_count": 4,
   "metadata": {},
   "outputs": [],
   "source": [
    "class Item(BaseModel):\n",
    "    item: Optional[str]\n",
    "    embedding: list[float]\n",
    "    score: Optional[float]\n",
    "    data: Optional[dict]\n",
    "        \n",
    "    @model_validator(mode='before')\n",
    "    @classmethod\n",
    "    def _fill_data(cls, inputs: Any) -> Any:\n",
    "        if type(inputs)==dict:\n",
    "            if inputs.get('data', None) is None:\n",
    "                inputs['data'] = {}\n",
    "\n",
    "            if inputs.get('score', None) is None:\n",
    "                inputs['score'] = None\n",
    "\n",
    "            if inputs.get('item', None) is None:\n",
    "                inputs['item'] = None\n",
    "\n",
    "        return inputs"
   ]
  },
  {
   "cell_type": "code",
   "execution_count": 5,
   "metadata": {},
   "outputs": [],
   "source": [
    "class Query(BaseModel):\n",
    "    collection_index: Optional[int]\n",
    "    item: Optional[str]\n",
    "    embedding: Optional[list[float]]\n",
    "    data: Optional[dict]\n",
    "    query_results: Optional[list[Item]]\n",
    "        \n",
    "    @model_validator(mode='before')\n",
    "    @classmethod\n",
    "    def _fill_data(cls, inputs: Any) -> Any:\n",
    "        if inputs.get('data', None) is None:\n",
    "            inputs['data'] = {}\n",
    "        \n",
    "        if inputs.get('query_results', None) is None:\n",
    "            inputs['query_results'] = []\n",
    "            \n",
    "        if inputs.get('item', None) is None:\n",
    "            inputs['item'] = None\n",
    "\n",
    "        return inputs\n",
    "    \n",
    "    def __iter__(self):\n",
    "        return iter(self.query_results)\n",
    "\n",
    "    def __getitem__(self, idx: int):\n",
    "        return self.query_results[idx]\n",
    "    \n",
    "    def __setitem__(self, idx: int, value):\n",
    "        self.query_results[idx] = value"
   ]
  },
  {
   "cell_type": "code",
   "execution_count": 6,
   "metadata": {},
   "outputs": [],
   "source": [
    "class Batch(BaseModel):\n",
    "    queries: List[Query]\n",
    "        \n",
    "    def __iter__(self):\n",
    "        return iter(self.queries)\n",
    "\n",
    "    def __getitem__(self, idx: int):\n",
    "        return self.queries[idx]\n",
    "    \n",
    "    def __setitem__(self, idx: int, value):\n",
    "        self.queries[idx] = value\n",
    "    \n",
    "    def get_result(self, query_index, result_index):\n",
    "        return self.queries[query_index][result_index]\n",
    "    \n",
    "    def enumerate_queries(self):\n",
    "        for i, query in enumerate(self.queries):\n",
    "            yield (i, query)\n",
    "            \n",
    "    def enumerate_query_results(self):\n",
    "        for i, query in enumerate(self.queries):\n",
    "            for j, result in enumerate(query):\n",
    "                yield ((i,j), result)\n",
    "                \n",
    "    def flatten_query_results(self):\n",
    "        idxs = []\n",
    "        outputs = []\n",
    "        for i, r in self.enumerate_query_results():\n",
    "            idxs.append(i)\n",
    "            outputs.append(r)\n",
    "        return idxs, outputs\n",
    "                \n",
    "    def cleanup(self):\n",
    "        self.queries = [i for i in self.queries if (i is not None)]\n",
    "        for query in self.queries:\n",
    "            query.query_results = [i for i in query.query_results if (i is not None)]"
   ]
  },
  {
   "cell_type": "code",
   "execution_count": 7,
   "metadata": {},
   "outputs": [],
   "source": [
    "q1 = Query(collection_index=0, item='q1', embedding=[0.1])\n",
    "q2 = Query(collection_index=0, item='q2', embedding=[0.2])\n",
    "q3 = Query(collection_index=1, item='q3', embedding=[0.3])\n",
    "q4 = Query(collection_index=1, item='q4', embedding=[0.4])\n",
    "\n",
    "batch = Batch(queries=[q1, q2, q3, q4])"
   ]
  },
  {
   "cell_type": "markdown",
   "metadata": {},
   "source": [
    "## Data Source"
   ]
  },
  {
   "cell_type": "code",
   "execution_count": 8,
   "metadata": {},
   "outputs": [],
   "source": [
    "# class DataSourceRequest(BaseModel):\n",
    "#     item: Optional[str]\n",
    "#     embedding: Optional[list[float]]\n",
    "#     data: Optional[dict]\n",
    "        \n",
    "class DataSourceResponse(BaseModel):\n",
    "    valid: bool\n",
    "    data: Optional[dict]\n",
    "    query_results: list[Item]"
   ]
  },
  {
   "cell_type": "code",
   "execution_count": 9,
   "metadata": {},
   "outputs": [],
   "source": [
    "data_inputs = [i[1] for i in batch.enumerate_queries()]"
   ]
  },
  {
   "cell_type": "code",
   "execution_count": 10,
   "metadata": {},
   "outputs": [],
   "source": [
    "r1 = Item(item='1', embedding=[0.11], score=None, data=None)\n",
    "r2 = Item(item='2', embedding=[0.22], score=None, data=None)\n",
    "r3 = Item(item='3', embedding=[0.33], score=None, data=None)\n",
    "r4 = Item(item='4', embedding=[0.44], score=None, data=None)\n",
    "r5 = Item(item='5', embedding=[0.55], score=None, data=None)\n",
    "\n",
    "data_results = [[r1, r2], [r3,], [r4, r5], []]\n",
    "data_valid = [True, False, True, True]\n",
    "\n",
    "data_results = [DataSourceResponse(valid=data_valid[i], data={'data_test':True}, \n",
    "                                   query_results=data_results[i]) for i in range(len(data_results))]"
   ]
  },
  {
   "cell_type": "code",
   "execution_count": 11,
   "metadata": {},
   "outputs": [],
   "source": [
    "def scatter_data_response(batch, data_results):\n",
    "    \n",
    "    for i, data_response in enumerate(data_results):\n",
    "        if data_response.valid and data_response.query_results:\n",
    "            batch[i].query_results += data_response.query_results\n",
    "            if data_response.data:\n",
    "                batch[i].data.update(data_response.data)\n",
    "        else:\n",
    "            batch[i] = None\n",
    "            \n",
    "    batch.cleanup()"
   ]
  },
  {
   "cell_type": "code",
   "execution_count": 12,
   "metadata": {},
   "outputs": [],
   "source": [
    "scatter_data_response(batch, data_results)"
   ]
  },
  {
   "cell_type": "markdown",
   "metadata": {},
   "source": [
    "## Filter "
   ]
  },
  {
   "cell_type": "code",
   "execution_count": 13,
   "metadata": {},
   "outputs": [],
   "source": [
    "filter_idxs, filter_inputs = batch.flatten_query_results()"
   ]
  },
  {
   "cell_type": "code",
   "execution_count": 14,
   "metadata": {},
   "outputs": [],
   "source": [
    "class FilterResponse(BaseModel):\n",
    "    valid: bool\n",
    "    data: Optional[dict]\n",
    "        \n",
    "    @model_validator(mode='before')\n",
    "    @classmethod\n",
    "    def _fill_data(cls, data: Any) -> Any:\n",
    "        if \"data\" not in data:\n",
    "            data[\"data\"] = None\n",
    "        return data"
   ]
  },
  {
   "cell_type": "code",
   "execution_count": 15,
   "metadata": {},
   "outputs": [],
   "source": [
    "filter_results = [{'valid':True}, \n",
    "                  {'valid':False}, \n",
    "                  {'valid':True, 'data':{'blah':5}},\n",
    "                  {'valid':True},\n",
    "                 ]\n",
    "filter_results = [FilterResponse(**i) for i in filter_results]"
   ]
  },
  {
   "cell_type": "code",
   "execution_count": 16,
   "metadata": {},
   "outputs": [
    {
     "data": {
      "text/plain": [
       "[Item(item='1', embedding=[0.11], score=None, data={}),\n",
       " Item(item='2', embedding=[0.22], score=None, data={}),\n",
       " Item(item='4', embedding=[0.44], score=None, data={}),\n",
       " Item(item='5', embedding=[0.55], score=None, data={})]"
      ]
     },
     "execution_count": 16,
     "metadata": {},
     "output_type": "execute_result"
    }
   ],
   "source": [
    "[i[1] for i in batch.enumerate_query_results()]"
   ]
  },
  {
   "cell_type": "code",
   "execution_count": 17,
   "metadata": {},
   "outputs": [],
   "source": [
    "def scatter_filter_response(batch, idxs, filter_results):\n",
    "    \n",
    "    for (result_idx, filter_result) in zip(idxs, filter_results):\n",
    "        q_idx, r_idx = result_idx\n",
    "        if filter_result.valid:\n",
    "            if filter_result.data:\n",
    "                batch[q_idx][r_idx].data.update(filter_result.data)\n",
    "        else:\n",
    "            batch[q_idx][r_idx] = None\n",
    "            \n",
    "    batch.cleanup()"
   ]
  },
  {
   "cell_type": "code",
   "execution_count": 18,
   "metadata": {},
   "outputs": [],
   "source": [
    "scatter_filter_response(batch, filter_idxs, filter_results)"
   ]
  },
  {
   "cell_type": "code",
   "execution_count": 19,
   "metadata": {},
   "outputs": [
    {
     "data": {
      "text/plain": [
       "[Item(item='1', embedding=[0.11], score=None, data={}),\n",
       " Item(item='4', embedding=[0.44], score=None, data={'blah': 5}),\n",
       " Item(item='5', embedding=[0.55], score=None, data={})]"
      ]
     },
     "execution_count": 19,
     "metadata": {},
     "output_type": "execute_result"
    }
   ],
   "source": [
    "[i[1] for i in batch.enumerate_query_results()]"
   ]
  },
  {
   "cell_type": "markdown",
   "metadata": {},
   "source": [
    "## Score"
   ]
  },
  {
   "cell_type": "code",
   "execution_count": 20,
   "metadata": {},
   "outputs": [],
   "source": [
    "score_idxs, score_inputs = batch.flatten_query_results()"
   ]
  },
  {
   "cell_type": "code",
   "execution_count": 21,
   "metadata": {},
   "outputs": [],
   "source": [
    "class ScoreResponse(BaseModel):\n",
    "    valid: bool\n",
    "    score: float\n",
    "    data: Optional[dict]\n",
    "        \n",
    "    @model_validator(mode='before')\n",
    "    @classmethod\n",
    "    def _fill_data(cls, data: Any) -> Any:\n",
    "        if \"data\" not in data:\n",
    "            data[\"data\"] = None\n",
    "        return data"
   ]
  },
  {
   "cell_type": "code",
   "execution_count": 22,
   "metadata": {},
   "outputs": [],
   "source": [
    "score_results = [{'score':1., 'valid':True}, \n",
    "                  {'score':2., 'valid':True, 'data':{'check':'suspect'}}, \n",
    "                  {'score':3., 'valid':True},\n",
    "                 ]\n",
    "score_results = [ScoreResponse(**i) for i in score_results]"
   ]
  },
  {
   "cell_type": "code",
   "execution_count": 23,
   "metadata": {},
   "outputs": [],
   "source": [
    "def scatter_score_response(batch, idxs, score_results):\n",
    "    \n",
    "    for (result_idx, score_result) in zip(idxs, score_results):\n",
    "        q_idx, r_idx = result_idx\n",
    "        if score_result.valid:\n",
    "            batch[q_idx][r_idx].score = score_result.score\n",
    "            if score_result.data:\n",
    "                batch[q_idx][r_idx].data.update(score_result.data)\n",
    "        else:\n",
    "            batch[q_idx][r_idx] = None\n",
    "            \n",
    "    batch.cleanup()"
   ]
  },
  {
   "cell_type": "code",
   "execution_count": 24,
   "metadata": {},
   "outputs": [],
   "source": [
    "scatter_score_response(batch, score_idxs, score_results)"
   ]
  },
  {
   "cell_type": "code",
   "execution_count": 25,
   "metadata": {},
   "outputs": [
    {
     "data": {
      "text/plain": [
       "[Item(item='1', embedding=[0.11], score=1.0, data={}),\n",
       " Item(item='4', embedding=[0.44], score=2.0, data={'blah': 5, 'check': 'suspect'}),\n",
       " Item(item='5', embedding=[0.55], score=3.0, data={})]"
      ]
     },
     "execution_count": 25,
     "metadata": {},
     "output_type": "execute_result"
    }
   ],
   "source": [
    "[i[1] for i in batch.enumerate_query_results()]"
   ]
  },
  {
   "cell_type": "code",
   "execution_count": null,
   "metadata": {},
   "outputs": [],
   "source": []
  },
  {
   "cell_type": "code",
   "execution_count": null,
   "metadata": {},
   "outputs": [],
   "source": [
    "# prune response = FilterResponse"
   ]
  },
  {
   "cell_type": "code",
   "execution_count": null,
   "metadata": {},
   "outputs": [],
   "source": []
  },
  {
   "cell_type": "code",
   "execution_count": null,
   "metadata": {},
   "outputs": [],
   "source": []
  },
  {
   "cell_type": "code",
   "execution_count": null,
   "metadata": {},
   "outputs": [],
   "source": []
  },
  {
   "cell_type": "code",
   "execution_count": null,
   "metadata": {},
   "outputs": [],
   "source": [
    "class PruneResult(BaseModel):\n",
    "    result: bool\n",
    "    prune_data: Optional[dict]\n",
    "        \n",
    "    @model_validator(mode='before')\n",
    "    @classmethod\n",
    "    def _fill_data(cls, data: Any) -> Any:\n",
    "        if \"prune_data\" not in data:\n",
    "            data[\"prune_data\"] = None\n",
    "        return data"
   ]
  },
  {
   "cell_type": "code",
   "execution_count": null,
   "metadata": {},
   "outputs": [],
   "source": [
    "prune_results = [{'result':True}, {'result':False}, {'result':True}]\n",
    "prune_results = [PruneResult(**i) for i in prune_results]"
   ]
  },
  {
   "cell_type": "code",
   "execution_count": null,
   "metadata": {},
   "outputs": [],
   "source": [
    "def scatter_prune_response(batch, prune_results):\n",
    "    \n",
    "    for i, prune_result in enumerate(prune_results):\n",
    "        if prune_result.result:\n",
    "            if prune_result.prune_data:\n",
    "                batch[i].data['filter_data'] = prune_result.prune_data\n",
    "        else:\n",
    "            batch[i] = None\n",
    "            \n",
    "    batch.cleanup()"
   ]
  },
  {
   "cell_type": "code",
   "execution_count": null,
   "metadata": {},
   "outputs": [],
   "source": [
    "scatter_prune_response(batch, prune_results)"
   ]
  },
  {
   "cell_type": "code",
   "execution_count": null,
   "metadata": {},
   "outputs": [],
   "source": []
  },
  {
   "cell_type": "code",
   "execution_count": null,
   "metadata": {},
   "outputs": [],
   "source": []
  },
  {
   "cell_type": "code",
   "execution_count": null,
   "metadata": {},
   "outputs": [],
   "source": []
  },
  {
   "cell_type": "code",
   "execution_count": null,
   "metadata": {},
   "outputs": [],
   "source": []
  },
  {
   "cell_type": "code",
   "execution_count": null,
   "metadata": {},
   "outputs": [],
   "source": []
  }
 ],
 "metadata": {
  "kernelspec": {
   "display_name": "emb_opt",
   "language": "python",
   "name": "emb_opt"
  },
  "language_info": {
   "codemirror_mode": {
    "name": "ipython",
    "version": 3
   },
   "file_extension": ".py",
   "mimetype": "text/x-python",
   "name": "python",
   "nbconvert_exporter": "python",
   "pygments_lexer": "ipython3",
   "version": "3.9.16"
  }
 },
 "nbformat": 4,
 "nbformat_minor": 4
}
