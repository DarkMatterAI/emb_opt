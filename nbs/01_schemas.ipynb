{
 "cells": [
  {
   "cell_type": "markdown",
   "metadata": {},
   "source": [
    "# Schemas\n",
    "\n",
    "> Data Schemas"
   ]
  },
  {
   "cell_type": "code",
   "execution_count": null,
   "metadata": {},
   "outputs": [],
   "source": [
    "#| default_exp schemas"
   ]
  },
  {
   "cell_type": "code",
   "execution_count": null,
   "metadata": {},
   "outputs": [],
   "source": [
    "#| hide\n",
    "from nbdev.showdoc import *\n",
    "%load_ext autoreload\n",
    "%autoreload 2"
   ]
  },
  {
   "cell_type": "code",
   "execution_count": null,
   "metadata": {},
   "outputs": [
    {
     "name": "stderr",
     "output_type": "stream",
     "text": [
      "/home/dmai/miniconda3/envs/emb_opt/lib/python3.9/site-packages/tqdm/auto.py:21: TqdmWarning: IProgress not found. Please update jupyter and ipywidgets. See https://ipywidgets.readthedocs.io/en/stable/user_install.html\n",
      "  from .autonotebook import tqdm as notebook_tqdm\n"
     ]
    }
   ],
   "source": [
    "#| export\n",
    "from emb_opt.imports import *"
   ]
  },
  {
   "cell_type": "markdown",
   "metadata": {},
   "source": [
    "### Data Objects"
   ]
  },
  {
   "cell_type": "code",
   "execution_count": null,
   "metadata": {},
   "outputs": [],
   "source": [
    "#| export\n",
    "\n",
    "Embedding = List[float]"
   ]
  },
  {
   "cell_type": "code",
   "execution_count": null,
   "metadata": {},
   "outputs": [],
   "source": [
    "#| export\n",
    "\n",
    "class Item(BaseModel):\n",
    "    item: Optional[str]\n",
    "    embedding: Embedding\n",
    "    score: Optional[float]\n",
    "    data: Optional[dict]\n",
    "        \n",
    "    @model_validator(mode='before')\n",
    "    @classmethod\n",
    "    def _fill_data(cls, inputs: Any) -> Any:\n",
    "        if type(inputs)==dict:\n",
    "            if inputs.get('data', None) is None:\n",
    "                inputs['data'] = {}\n",
    "                \n",
    "            if '_internal' not in inputs['data']:\n",
    "                inputs['data']['_internal'] = {'id' : str(uuid.uuid1())}\n",
    "\n",
    "            if inputs.get('score', None) is None:\n",
    "                inputs['score'] = None\n",
    "\n",
    "            if inputs.get('item', None) is None:\n",
    "                inputs['item'] = None\n",
    "\n",
    "        return inputs"
   ]
  },
  {
   "cell_type": "code",
   "execution_count": null,
   "metadata": {},
   "outputs": [],
   "source": [
    "#| export\n",
    "\n",
    "class Query(BaseModel):\n",
    "    item: Optional[str]\n",
    "    embedding: Optional[Embedding]\n",
    "    data: Optional[dict]\n",
    "    query_results: Optional[list[Item]]\n",
    "        \n",
    "    @model_validator(mode='before')\n",
    "    @classmethod\n",
    "    def _fill_data(cls, inputs: Any) -> Any:\n",
    "        if inputs.get('data', None) is None:\n",
    "            inputs['data'] = {}\n",
    "            \n",
    "        if '_internal' not in inputs['data']:\n",
    "            inputs['data']['_internal'] = {'id' : str(uuid.uuid1())}\n",
    "        \n",
    "        if inputs.get('query_results', None) is None:\n",
    "            inputs['query_results'] = []\n",
    "            \n",
    "        if inputs.get('item', None) is None:\n",
    "            inputs['item'] = None\n",
    "\n",
    "        return inputs\n",
    "    \n",
    "    def __iter__(self):\n",
    "        return iter(self.query_results)\n",
    "\n",
    "    def __getitem__(self, idx: int):\n",
    "        return self.query_results[idx]\n",
    "    \n",
    "    def __len__(self):\n",
    "        return len(self.query_results)\n",
    "    \n",
    "    def add_query_results(self, query_results: List[Item]):\n",
    "        query_id = self.data['_internal']['id']\n",
    "        collection_idx = self.data['_internal'].get('collection_index', None)\n",
    "        for result in query_results:\n",
    "            result.data['_internal']['parent'] = query_id\n",
    "            result.data['_internal']['collection_index'] = collection_idx\n",
    "            self.query_results.append(result)"
   ]
  },
  {
   "cell_type": "code",
   "execution_count": null,
   "metadata": {},
   "outputs": [],
   "source": [
    "#| export\n",
    "\n",
    "class Batch(BaseModel):\n",
    "    queries: List[Query]\n",
    "        \n",
    "    def __iter__(self):\n",
    "        return iter(self.queries)\n",
    "\n",
    "    def __getitem__(self, idx: int):\n",
    "        return self.queries[idx]\n",
    "    \n",
    "    def __len__(self):\n",
    "        return len(self.queries)\n",
    "    \n",
    "    def get_item(self, query_index, result_index=None):\n",
    "        if result_index is not None:\n",
    "            return self.queries[query_index][result_index]\n",
    "        else:\n",
    "            return self.queries[query_index]\n",
    "    \n",
    "    def enumerate_queries(self):\n",
    "        for i, query in enumerate(self.queries):\n",
    "            yield ((i,None), query)\n",
    "            \n",
    "    def enumerate_query_results(self):\n",
    "        for i, query in enumerate(self.queries):\n",
    "            for j, result in enumerate(query):\n",
    "                yield ((i,j), result)\n",
    "                \n",
    "    def flatten_queries(self):\n",
    "        idxs = []\n",
    "        outputs = []\n",
    "        for i, q in self.enumerate_queries():\n",
    "            idxs.append(i)\n",
    "            outputs.append(q)\n",
    "        return idxs, outputs\n",
    "                \n",
    "    def flatten_query_results(self):\n",
    "        idxs = []\n",
    "        outputs = []\n",
    "        for i, r in self.enumerate_query_results():\n",
    "            idxs.append(i)\n",
    "            outputs.append(r)\n",
    "        return idxs, outputs\n",
    "    \n",
    "    def clean_queries(self, remove_empty=False):\n",
    "        keep = []\n",
    "        remove = []\n",
    "        for query in self.queries:\n",
    "            if query.data['_internal'].get('remove', False) or (remove_empty and len(query)==0):\n",
    "                remove.append(query)\n",
    "            else:\n",
    "                keep.append(query)\n",
    "        self.queries = keep\n",
    "        return remove\n",
    "    \n",
    "    def clean_results(self):\n",
    "        remove = []\n",
    "        for query in self.queries:\n",
    "            keep = []\n",
    "            for result in query:\n",
    "                if result.data['_internal'].get('remove', False):\n",
    "                    remove.append(result)\n",
    "                else:\n",
    "                    keep.append(result)\n",
    "                    \n",
    "            query.query_results = keep\n",
    "            \n",
    "        return remove"
   ]
  },
  {
   "cell_type": "markdown",
   "metadata": {},
   "source": [
    "### Data Source"
   ]
  },
  {
   "cell_type": "code",
   "execution_count": null,
   "metadata": {},
   "outputs": [],
   "source": [
    "#| export\n",
    "\n",
    "class DataSourceResponse(BaseModel):\n",
    "    valid: bool\n",
    "    data: Optional[Dict]\n",
    "    query_results: List[Item]"
   ]
  },
  {
   "cell_type": "code",
   "execution_count": null,
   "metadata": {},
   "outputs": [],
   "source": [
    "#| export\n",
    "\n",
    "DataSourceFunction = Callable[List[Query], List[DataSourceResponse]]"
   ]
  },
  {
   "cell_type": "markdown",
   "metadata": {},
   "source": [
    "### Filter"
   ]
  },
  {
   "cell_type": "code",
   "execution_count": null,
   "metadata": {},
   "outputs": [],
   "source": [
    "#| export\n",
    "\n",
    "class FilterResponse(BaseModel):\n",
    "    valid: bool\n",
    "    data: Optional[dict]\n",
    "        \n",
    "    @model_validator(mode='before')\n",
    "    @classmethod\n",
    "    def _fill_data(cls, data: Any) -> Any:\n",
    "        if \"data\" not in data:\n",
    "            data[\"data\"] = None\n",
    "        return data"
   ]
  },
  {
   "cell_type": "code",
   "execution_count": null,
   "metadata": {},
   "outputs": [],
   "source": [
    "#| export\n",
    "\n",
    "FilterFunction = Callable[List[Item], List[FilterResponse]]"
   ]
  },
  {
   "cell_type": "markdown",
   "metadata": {},
   "source": [
    "### Score"
   ]
  },
  {
   "cell_type": "code",
   "execution_count": null,
   "metadata": {},
   "outputs": [],
   "source": [
    "#| export\n",
    "\n",
    "class ScoreResponse(BaseModel):\n",
    "    valid: bool\n",
    "    score: float\n",
    "    data: Optional[dict]\n",
    "        \n",
    "    @model_validator(mode='before')\n",
    "    @classmethod\n",
    "    def _fill_data(cls, data: Any) -> Any:\n",
    "        if \"data\" not in data:\n",
    "            data[\"data\"] = None\n",
    "        return data"
   ]
  },
  {
   "cell_type": "code",
   "execution_count": null,
   "metadata": {},
   "outputs": [],
   "source": [
    "#| export\n",
    "\n",
    "ScoreFunction = Callable[List[Item], List[ScoreResponse]]"
   ]
  },
  {
   "cell_type": "markdown",
   "metadata": {},
   "source": [
    "### Prune"
   ]
  },
  {
   "cell_type": "code",
   "execution_count": null,
   "metadata": {},
   "outputs": [],
   "source": [
    "#| export\n",
    "\n",
    "class PruneResponse(BaseModel):\n",
    "    valid: bool\n",
    "    data: Optional[dict]\n",
    "        \n",
    "    @model_validator(mode='before')\n",
    "    @classmethod\n",
    "    def _fill_data(cls, data: Any) -> Any:\n",
    "        if \"data\" not in data:\n",
    "            data[\"data\"] = None\n",
    "        return data"
   ]
  },
  {
   "cell_type": "code",
   "execution_count": null,
   "metadata": {},
   "outputs": [],
   "source": [
    "#| export\n",
    "\n",
    "PruneFunction = Callable[List[Query], List[PruneResponse]]"
   ]
  },
  {
   "cell_type": "markdown",
   "metadata": {},
   "source": [
    "### Update"
   ]
  },
  {
   "cell_type": "code",
   "execution_count": null,
   "metadata": {},
   "outputs": [],
   "source": [
    "#| export\n",
    "\n",
    "UpdateFunction = Callable[List[Query], List[Query]]"
   ]
  },
  {
   "cell_type": "code",
   "execution_count": null,
   "metadata": {},
   "outputs": [],
   "source": []
  },
  {
   "cell_type": "code",
   "execution_count": null,
   "metadata": {},
   "outputs": [],
   "source": []
  },
  {
   "cell_type": "code",
   "execution_count": null,
   "metadata": {},
   "outputs": [],
   "source": []
  },
  {
   "cell_type": "code",
   "execution_count": null,
   "metadata": {},
   "outputs": [],
   "source": []
  },
  {
   "cell_type": "code",
   "execution_count": null,
   "metadata": {},
   "outputs": [],
   "source": []
  },
  {
   "cell_type": "code",
   "execution_count": null,
   "metadata": {},
   "outputs": [],
   "source": []
  },
  {
   "cell_type": "code",
   "execution_count": null,
   "metadata": {},
   "outputs": [],
   "source": []
  },
  {
   "cell_type": "code",
   "execution_count": null,
   "metadata": {},
   "outputs": [],
   "source": []
  }
 ],
 "metadata": {
  "kernelspec": {
   "display_name": "emb_opt",
   "language": "python",
   "name": "emb_opt"
  }
 },
 "nbformat": 4,
 "nbformat_minor": 4
}
