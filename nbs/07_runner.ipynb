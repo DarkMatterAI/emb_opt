{
 "cells": [
  {
   "cell_type": "markdown",
   "metadata": {},
   "source": [
    "# runner\n",
    "\n",
    "> runner functions"
   ]
  },
  {
   "cell_type": "code",
   "execution_count": null,
   "metadata": {},
   "outputs": [],
   "source": [
    "#| default_exp runner"
   ]
  },
  {
   "cell_type": "code",
   "execution_count": null,
   "metadata": {},
   "outputs": [],
   "source": [
    "#| hide\n",
    "from nbdev.showdoc import *\n",
    "%load_ext autoreload\n",
    "%autoreload 2"
   ]
  },
  {
   "cell_type": "code",
   "execution_count": null,
   "metadata": {},
   "outputs": [
    {
     "name": "stderr",
     "output_type": "stream",
     "text": [
      "/home/dmai/miniconda3/envs/emb_opt/lib/python3.9/site-packages/tqdm/auto.py:21: TqdmWarning: IProgress not found. Please update jupyter and ipywidgets. See https://ipywidgets.readthedocs.io/en/stable/user_install.html\n",
      "  from .autonotebook import tqdm as notebook_tqdm\n"
     ]
    }
   ],
   "source": [
    "#| export\n",
    "from emb_opt.imports import *\n",
    "from emb_opt.utils import pack_dataframe\n",
    "from emb_opt.core import VectorDatabase, Score, Filter, PassThroughFilter\n",
    "from emb_opt.query_update import QueryUpdate\n",
    "\n",
    "from emb_opt.backends.hf import HFDatabase\n",
    "from emb_opt.query_update import RLUpdate"
   ]
  },
  {
   "cell_type": "code",
   "execution_count": null,
   "metadata": {},
   "outputs": [],
   "source": [
    "#| export\n",
    "\n",
    "class SearchLog():\n",
    "    'Logs results from `Runner`'\n",
    "    def __init__(self):\n",
    "        self.batch_log = {}\n",
    "        \n",
    "    def add_entry(self, \n",
    "                  iteration: int, \n",
    "                  query_vectors: np.ndarray, \n",
    "                  query_results: Dataset\n",
    "                 ):\n",
    "        self.batch_log[iteration] = {'queries' : query_vectors, 'results' : query_results.to_pandas()}\n",
    "        \n",
    "    def compile_results(self) -> Dataset:\n",
    "        results = []\n",
    "        seen_keys = set()\n",
    "\n",
    "        for k,v in self.batch_log.items():\n",
    "            query_results = v['results']\n",
    "\n",
    "            for idx, row in query_results.iterrows():\n",
    "                row = dict(row)\n",
    "                if not (row['db_idx'] in seen_keys):\n",
    "                    row.pop('query_idx')\n",
    "                    row.pop('distance')\n",
    "                    results.append(row)\n",
    "                    seen_keys.update({row['db_idx']})\n",
    "                    \n",
    "        output = pd.DataFrame(results)\n",
    "        output = output.sort_values('score', ascending=False)\n",
    "        return output\n",
    "\n",
    "#         output = Dataset.from_list(results)\n",
    "#         output = output.sort('score', reverse=True)\n",
    "#         return output\n",
    "    \n",
    "    def compile_trajectories(self) -> dict:\n",
    "        \n",
    "        n_queries = self.batch_log[0]['queries'].shape[0]\n",
    "        n_iters = len(self.batch_log.keys())\n",
    "        trajectories = {i:{'query_vectors':[], 'scores':[]} for i in range(n_queries)}\n",
    "        \n",
    "        for iteration in range(n_iters):\n",
    "            queries = self.batch_log[iteration]['queries']\n",
    "            score_dict = pack_dataframe(self.batch_log[iteration]['results'], 'query_idx', ['score'])\n",
    "            \n",
    "            for query_idx in range(n_queries):\n",
    "                trajectories[query_idx]['query_vectors'].append(queries[query_idx])\n",
    "                trajectories[query_idx]['scores'].append(score_dict[query_idx]['score'])\n",
    "\n",
    "        for query_idx in range(n_queries):\n",
    "            trajectories[query_idx]['query_vectors'] = np.stack(trajectories[query_idx]['query_vectors'])\n",
    "            \n",
    "        return trajectories"
   ]
  },
  {
   "cell_type": "markdown",
   "metadata": {},
   "source": [
    "## Runner\n",
    "\n",
    "The `Runner` class combines a `VectorDatabase`, a `Score`, a `QueryUpdate` and a `Filter` to search a vector database for high scoring items. The search loop:\n",
    "\n",
    "* 1. Start with `query_vectors`\n",
    "* 2. Query `VectorDatabase` with `query_vectors` to get `query_results`\n",
    "* 3. Filter `query_results` with `Filter`\n",
    "* 4. Score `query_results` with `Score`\n",
    "* 5. Use `QueryUpdate` to generate a new set of `query_vectors`"
   ]
  },
  {
   "cell_type": "code",
   "execution_count": null,
   "metadata": {},
   "outputs": [],
   "source": [
    "#| export\n",
    "\n",
    "class Runner():\n",
    "    'Runs embedding optimization search'\n",
    "    def __init__(self, \n",
    "                 vector_db: VectorDatabase, # vector database backend\n",
    "                 score: Score, # score function\n",
    "                 query_update: QueryUpdate, # query update\n",
    "                 filter: Optional[Filter]=None # optional filter\n",
    "                ):\n",
    "        \n",
    "        self.vector_db = vector_db\n",
    "        self.score = score\n",
    "        self.query_update = query_update\n",
    "        self.filter = filter if filter else PassThroughFilter()\n",
    "        \n",
    "    def step(self, iteration, query_vectors, log=None):\n",
    "        query_results = self.vector_db.query(query_vectors)\n",
    "        query_results = self.filter(query_results)\n",
    "        query_results = self.score(query_results)\n",
    "\n",
    "        if log:\n",
    "            log.add_entry(iteration, query_vectors, query_results)\n",
    "\n",
    "        query_vectors = self.query_update(query_vectors, query_results)\n",
    "        return query_vectors\n",
    "        \n",
    "    def search(self, \n",
    "               query_vectors: np.ndarray, \n",
    "               iterations: int\n",
    "              ) -> SearchLog:\n",
    "        log = SearchLog()\n",
    "        \n",
    "        for i in range(iterations):\n",
    "            query_vectors = self.step(i, query_vectors, log)\n",
    "            \n",
    "        return log"
   ]
  },
  {
   "cell_type": "code",
   "execution_count": null,
   "metadata": {},
   "outputs": [],
   "source": []
  },
  {
   "cell_type": "code",
   "execution_count": null,
   "metadata": {},
   "outputs": [
    {
     "name": "stderr",
     "output_type": "stream",
     "text": [
      "100%|████████████████████████████████████████████████████████| 1/1 [00:00<00:00, 2007.80it/s]\n",
      "                                                                                             \r"
     ]
    }
   ],
   "source": [
    "def dummy_score(row):\n",
    "    return np.linalg.norm(row['embedding'])\n",
    "\n",
    "vectors = np.random.randn(128, 256)\n",
    "vector_dataset = Dataset.from_list([{'embedding' : i} for i in vectors])\n",
    "vector_dataset.add_faiss_index('embedding')\n",
    "\n",
    "db = HFDatabase(vector_dataset, 'embedding', 10)\n",
    "score = Score(dummy_score)\n",
    "update_strategy = RLUpdate(0.5)\n",
    "\n",
    "runner = Runner(db, score, update_strategy)\n",
    "\n",
    "query_vectors = np.random.randn(4, 256)/10\n",
    "log = runner.search(query_vectors, 5)\n",
    "\n",
    "res = log.compile_results()\n",
    "traj = log.compile_trajectories()\n",
    "\n",
    "log = SearchLog()\n",
    "_ = runner.step(0, query_vectors)\n",
    "_ = runner.step(0, query_vectors, log)"
   ]
  },
  {
   "cell_type": "code",
   "execution_count": null,
   "metadata": {},
   "outputs": [],
   "source": []
  },
  {
   "cell_type": "code",
   "execution_count": null,
   "metadata": {},
   "outputs": [],
   "source": [
    "#| hide\n",
    "import nbdev; nbdev.nbdev_export()"
   ]
  },
  {
   "cell_type": "code",
   "execution_count": null,
   "metadata": {},
   "outputs": [],
   "source": []
  },
  {
   "cell_type": "code",
   "execution_count": null,
   "metadata": {},
   "outputs": [],
   "source": []
  }
 ],
 "metadata": {
  "kernelspec": {
   "display_name": "emb_opt",
   "language": "python",
   "name": "emb_opt"
  }
 },
 "nbformat": 4,
 "nbformat_minor": 4
}
