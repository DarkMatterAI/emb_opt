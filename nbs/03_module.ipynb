{
 "cells": [
  {
   "cell_type": "markdown",
   "metadata": {},
   "source": [
    "# Module\n",
    "\n",
    "> module functions and classes"
   ]
  },
  {
   "cell_type": "code",
   "execution_count": null,
   "metadata": {},
   "outputs": [],
   "source": [
    "#| default_exp module"
   ]
  },
  {
   "cell_type": "code",
   "execution_count": null,
   "metadata": {},
   "outputs": [],
   "source": [
    "#| hide\n",
    "from nbdev.showdoc import *\n",
    "%load_ext autoreload\n",
    "%autoreload 2"
   ]
  },
  {
   "cell_type": "code",
   "execution_count": null,
   "metadata": {},
   "outputs": [],
   "source": [
    "#| export\n",
    "from emb_opt.imports import *\n",
    "from emb_opt.schemas import Batch"
   ]
  },
  {
   "cell_type": "code",
   "execution_count": null,
   "metadata": {},
   "outputs": [],
   "source": [
    "#| export\n",
    "\n",
    "class Module():\n",
    "    '''\n",
    "    Module - module base class\n",
    "    \n",
    "    Given an input `Batch`, the `Module`:\n",
    "    1. gathers inputs to the `function`\n",
    "    2. executes the `function`\n",
    "    3. validates the results of the `function` with `output_schema`\n",
    "    4. scatters results back into the `Batch`\n",
    "    \n",
    "    '''\n",
    "    def __init__(self, \n",
    "                 output_schema: BaseModel,                              # expected output schema\n",
    "                 function: Callable[List[BaseModel], List[BaseModel]],  # function to be called\n",
    "                ):\n",
    "        self.output_schema = output_schema\n",
    "        self.function = function\n",
    "        \n",
    "    def gather_inputs(self, batch: Batch) -> (List[Tuple], List[BaseModel]):\n",
    "        raise NotImplementedError\n",
    "        \n",
    "    def validate_schema(self, results: List[BaseModel]) -> List[BaseModel]:\n",
    "        results = [self.output_schema.model_validate(i) for i in results]\n",
    "        return results\n",
    "        \n",
    "    def scatter_results(self, batch: Batch, idxs: List[Tuple], results: List[BaseModel]) -> None:\n",
    "        raise NotImplementedError\n",
    "        \n",
    "    def __call__(self, batch: Batch) -> Batch:\n",
    "        \n",
    "        if self.function is not None:\n",
    "            idxs, inputs = self.gather_inputs(batch)\n",
    "            results = self.function(inputs)\n",
    "            results = self.validate_schema(results)\n",
    "            self.scatter_results(batch, idxs, results)\n",
    "        return batch"
   ]
  },
  {
   "cell_type": "code",
   "execution_count": null,
   "metadata": {},
   "outputs": [],
   "source": []
  },
  {
   "cell_type": "code",
   "execution_count": null,
   "metadata": {},
   "outputs": [],
   "source": []
  }
 ],
 "metadata": {
  "kernelspec": {
   "display_name": "emb_opt",
   "language": "python",
   "name": "emb_opt"
  }
 },
 "nbformat": 4,
 "nbformat_minor": 4
}
