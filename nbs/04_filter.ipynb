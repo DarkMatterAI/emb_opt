{
 "cells": [
  {
   "cell_type": "markdown",
   "metadata": {},
   "source": [
    "# Filter\n",
    "\n",
    "> Filter functions and classes"
   ]
  },
  {
   "cell_type": "code",
   "execution_count": null,
   "metadata": {},
   "outputs": [],
   "source": [
    "#| default_exp filter"
   ]
  },
  {
   "cell_type": "code",
   "execution_count": null,
   "metadata": {},
   "outputs": [],
   "source": [
    "#| hide\n",
    "from nbdev.showdoc import *\n",
    "%load_ext autoreload\n",
    "%autoreload 2"
   ]
  },
  {
   "cell_type": "code",
   "execution_count": null,
   "metadata": {},
   "outputs": [
    {
     "name": "stderr",
     "output_type": "stream",
     "text": [
      "/home/dmai/miniconda3/envs/emb_opt/lib/python3.9/site-packages/tqdm/auto.py:21: TqdmWarning: IProgress not found. Please update jupyter and ipywidgets. See https://ipywidgets.readthedocs.io/en/stable/user_install.html\n",
      "  from .autonotebook import tqdm as notebook_tqdm\n"
     ]
    }
   ],
   "source": [
    "#| export\n",
    "from emb_opt.imports import *\n",
    "from emb_opt.core import Module, Executor\n",
    "from emb_opt.schemas import Item, Query, Batch, FilterFunction, FilterResponse"
   ]
  },
  {
   "cell_type": "code",
   "execution_count": null,
   "metadata": {},
   "outputs": [],
   "source": [
    "#| export\n",
    "\n",
    "class FilterModule(Module):\n",
    "    def __init__(self,\n",
    "                 function: FilterFunction\n",
    "                ):\n",
    "        super().__init__(FilterResponse, function)\n",
    "        \n",
    "    def gather_inputs(self, batch: Batch) -> (List[Tuple], List[Item]):\n",
    "        idxs, inputs = batch.flatten_query_results()\n",
    "        return (idxs, inputs)\n",
    "        \n",
    "    def scatter_results(self, batch: Batch, idxs: List[Tuple], results: List[FilterResponse]):\n",
    "        for (q_idx, r_idx), result in zip(idxs, results):\n",
    "            batch_item = batch.get_item(q_idx, r_idx)\n",
    "            if result.data:\n",
    "                batch_item.data.update(result.data)\n",
    "                \n",
    "            if not result.valid:\n",
    "                batch_item.data['_internal']['remove'] = True\n",
    "                batch_item.data['_internal']['remove_details'] = 'filter response invalid'"
   ]
  },
  {
   "cell_type": "code",
   "execution_count": null,
   "metadata": {},
   "outputs": [],
   "source": []
  },
  {
   "cell_type": "code",
   "execution_count": null,
   "metadata": {},
   "outputs": [],
   "source": [
    "def build_batch():\n",
    "    np.random.seed(42)\n",
    "    d_emb = 128\n",
    "    query = Query(embedding=np.random.randn(d_emb))\n",
    "    query_results = [Item(embedding=np.random.randn(d_emb), data={'id':i}) for i in range(100)]\n",
    "    failed_ids = [i.data['id'] for i in query_results if np.linalg.norm(i.embedding)>=10.5]\n",
    "    query.add_query_results(query_results)\n",
    "    batch = Batch(queries=[query])\n",
    "    return batch, failed_ids\n",
    "\n",
    "def test_filter(filter_module):\n",
    "    batch, failed_ids = build_batch()\n",
    "    batch = filter_module(batch)\n",
    "    removed = batch.clean_results()\n",
    "    removed_ids = [i.data['id'] for i in removed]\n",
    "    assert removed_ids == failed_ids\n",
    "    \n",
    "def norm_filter(input: Item):\n",
    "    embedding = np.array(input.embedding)\n",
    "    norm = np.linalg.norm(embedding)\n",
    "    return FilterResponse(valid=norm<10.5, data={'norm':norm})\n",
    "\n",
    "def norm_filter_batched(inputs: List[Item]):\n",
    "    embeddings = np.array([i.embedding for i in inputs])\n",
    "    norms = np.linalg.norm(embeddings, axis=-1)\n",
    "    results = [FilterResponse(valid=i<10.5, data={'norm':i}) for i in norms]\n",
    "    return results\n",
    "\n",
    "func = Executor(norm_filter, batched=False)\n",
    "filter_module = FilterModule(func)\n",
    "test_filter(filter_module)\n",
    "\n",
    "filter_module = FilterModule(norm_filter_batched)\n",
    "test_filter(filter_module)\n",
    "\n",
    "func = Executor(norm_filter_batched, batched=True, batch_size=5)\n",
    "filter_module = FilterModule(func)\n",
    "test_filter(filter_module)"
   ]
  },
  {
   "cell_type": "code",
   "execution_count": null,
   "metadata": {},
   "outputs": [],
   "source": []
  },
  {
   "cell_type": "code",
   "execution_count": null,
   "metadata": {},
   "outputs": [],
   "source": []
  },
  {
   "cell_type": "code",
   "execution_count": null,
   "metadata": {},
   "outputs": [],
   "source": []
  },
  {
   "cell_type": "code",
   "execution_count": null,
   "metadata": {},
   "outputs": [],
   "source": []
  },
  {
   "cell_type": "code",
   "execution_count": null,
   "metadata": {},
   "outputs": [],
   "source": []
  }
 ],
 "metadata": {
  "kernelspec": {
   "display_name": "emb_opt",
   "language": "python",
   "name": "emb_opt"
  }
 },
 "nbformat": 4,
 "nbformat_minor": 4
}
