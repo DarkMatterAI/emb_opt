{
 "cells": [
  {
   "cell_type": "code",
   "execution_count": null,
   "metadata": {},
   "outputs": [],
   "source": [
    "#| hide\n",
    "from emb_opt.utils import *"
   ]
  },
  {
   "cell_type": "markdown",
   "metadata": {},
   "source": [
    "# emb_opt\n",
    "\n",
    "> A lightweight framework to efficiently screen vector databases"
   ]
  },
  {
   "cell_type": "markdown",
   "metadata": {},
   "source": [
    "`emb_opt` uses reinforcement learning to efficiently find items in a vector database that maximize some `score_function`\n",
    "\n",
    "See the [documentation](https://darkmatterai.github.io/emb_opt/) site for documentation and tutorials"
   ]
  },
  {
   "cell_type": "markdown",
   "metadata": {},
   "source": [
    "## Install"
   ]
  },
  {
   "cell_type": "markdown",
   "metadata": {},
   "source": [
    "```sh\n",
    "pip install emb_opt\n",
    "```"
   ]
  },
  {
   "cell_type": "markdown",
   "metadata": {},
   "source": [
    "## Supported Backends\n",
    "\n",
    "The following vector databases are supported\n",
    "\n",
    "### FAISS\n",
    "\n",
    "```python\n",
    "from emb_opt.backends.faiss import FaissDatabase\n",
    "vector_database = FaissDatabase(my_faiss_index, k, faiss_search_params)\n",
    "```\n",
    "\n",
    "### Huggingface Datasets\n",
    "\n",
    "```python\n",
    "from emb_opt.backends.hf import HFDatabase\n",
    "my_dataset.add_faiss_index(embedding_column_name)\n",
    "vector_database = HFDatabase(my_dataset, embedding_column_name, k)\n",
    "```\n",
    "\n",
    "### Qdrant\n",
    "\n",
    "```python\n",
    "from emb_opt.backends.qdrant import QdrantDatabase\n",
    "vector_database = FaissDatabase(my_qdrant_client, collection_name, k, qdrant_search_params)\n",
    "```\n",
    "\n",
    "### Chroma\n",
    "\n",
    "```python\n",
    "from emb_opt.backends.chroma import ChromaDatabase\n",
    "vector_database = FaissDatabase(my_chroma_collection, k, chroma_query_kwargs)\n",
    "```"
   ]
  },
  {
   "cell_type": "markdown",
   "metadata": {},
   "source": [
    "## Basic Usage\n",
    "\n",
    "For more detail on the API, see the [basic tutorial](https://darkmatterai.github.io/emb_opt/tutorials/basic_example.html)\n",
    "\n",
    "```python\n",
    "from emb_opt.core import Score\n",
    "from emb_opt.runner import Runner\n",
    "from emb_opt.query_update import RLUpdate\n",
    "\n",
    "score = Score(my_score_function)\n",
    "query_update = RLUpdate(lr=0.5)\n",
    "runner = Runner(vector_database, score, query_update)\n",
    "\n",
    "init_query_vectors = ... # any function to initalize query vectors\n",
    "iterations = 15\n",
    "\n",
    "results_log = runner.search(init_query_vectors, iterations)\n",
    "```"
   ]
  },
  {
   "cell_type": "code",
   "execution_count": null,
   "metadata": {},
   "outputs": [],
   "source": []
  },
  {
   "cell_type": "code",
   "execution_count": null,
   "metadata": {},
   "outputs": [],
   "source": []
  },
  {
   "cell_type": "code",
   "execution_count": null,
   "metadata": {},
   "outputs": [],
   "source": []
  }
 ],
 "metadata": {
  "kernelspec": {
   "display_name": "python3",
   "language": "python",
   "name": "python3"
  }
 },
 "nbformat": 4,
 "nbformat_minor": 4
}
