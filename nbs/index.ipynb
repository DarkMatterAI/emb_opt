{
 "cells": [
  {
   "cell_type": "code",
   "execution_count": null,
   "metadata": {},
   "outputs": [],
   "source": [
    "#| hide\n",
    "from emb_opt.utils import *"
   ]
  },
  {
   "cell_type": "markdown",
   "metadata": {},
   "source": [
    "# emb_opt\n",
    "\n",
    "> A lightweight framework to efficiently screen vector databases"
   ]
  },
  {
   "cell_type": "markdown",
   "metadata": {},
   "source": [
    "`emb_opt` uses reinforcement learning and hill climbing algorithms to efficiently find high scoring items in embedding spaces, such as vector databases or generative model latent spaces.\n",
    "\n",
    "See the [documentation](https://darkmatterai.github.io/emb_opt/) site for documentation and tutorials"
   ]
  },
  {
   "cell_type": "markdown",
   "metadata": {},
   "source": [
    "## Install\n",
    "\n",
    "``` sh\n",
    "pip install emb_opt\n",
    "```"
   ]
  },
  {
   "cell_type": "markdown",
   "metadata": {},
   "source": [
    "## Supported Backends\n",
    "\n",
    "`emb_opt` currently supports [Faiss](https://github.com/facebookresearch/faiss), [HuggingFace](https://huggingface.co/docs/datasets/faiss_es) and [Qdrant](https://qdrant.tech/) backends"
   ]
  },
  {
   "cell_type": "code",
   "execution_count": null,
   "metadata": {},
   "outputs": [],
   "source": []
  }
 ],
 "metadata": {
  "kernelspec": {
   "display_name": "emb_opt",
   "language": "python",
   "name": "emb_opt"
  }
 },
 "nbformat": 4,
 "nbformat_minor": 4
}
