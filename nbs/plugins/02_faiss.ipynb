{
 "cells": [
  {
   "cell_type": "markdown",
   "metadata": {},
   "source": [
    "# Fauss Plugins\n",
    "\n",
    "> Faiss functions and classes"
   ]
  },
  {
   "cell_type": "code",
   "execution_count": null,
   "metadata": {},
   "outputs": [],
   "source": [
    "#| default_exp plugins.faiss"
   ]
  },
  {
   "cell_type": "code",
   "execution_count": null,
   "metadata": {},
   "outputs": [],
   "source": [
    "#| hide\n",
    "from nbdev.showdoc import *\n",
    "%load_ext autoreload\n",
    "%autoreload 2"
   ]
  },
  {
   "cell_type": "code",
   "execution_count": null,
   "metadata": {},
   "outputs": [],
   "source": [
    "#| export\n",
    "from emb_opt.imports import *\n",
    "from emb_opt.schemas import Query, Item, DataSourceResponse\n",
    "from emb_opt.data_source import DataSourcePlugin, DataSourceModule\n",
    "from emb_opt.utils import build_batch_from_embeddings\n",
    "\n",
    "try:\n",
    "    import faiss\n",
    "except:\n",
    "    warnings.warn('Failed to import faiss library - check package install')"
   ]
  },
  {
   "cell_type": "markdown",
   "metadata": {},
   "source": [
    "### Faiss Data Plugin\n",
    "\n",
    "The `FaissDataPlugin` integrates with a [faiss](https://github.com/facebookresearch/faiss) index.\n",
    "\n",
    "`search_params` can be any params object compatible with faiss `search`"
   ]
  },
  {
   "cell_type": "code",
   "execution_count": null,
   "metadata": {},
   "outputs": [],
   "source": [
    "#| export\n",
    "\n",
    "class FaissDataPlugin(DataSourcePlugin):\n",
    "    '''\n",
    "    FaissDataPlugin - data plugin for working with \n",
    "    a faiss vector index\n",
    "    \n",
    "    The data query will run `k` nearest neighbors against \n",
    "    `faiss_index`\n",
    "    \n",
    "    Optionally, `item_data` can be provided as a list of dicts, where \n",
    "    `item_data[i]` corresponds to the data for embedding `i` in the \n",
    "    faiss index\n",
    "    \n",
    "    If `item_data` is provided `item_data[i]['item_key']` defines the \n",
    "    specific value for item `i`\n",
    "    \n",
    "    `search_params` are optional kwargs sent to \n",
    "    `faiss.SearchParameters`\n",
    "    '''\n",
    "    def __init__(self, \n",
    "                 k: int,                                               # k nearest neighbors to return\n",
    "                 faiss_index: faiss.Index,                             # faiss index\n",
    "                 item_data: Optional[List[Dict]]=None,                 # Optional dict of item data\n",
    "                 item_key: Optional[str]=None,                         # Optional key for item value (should be in `item_data` dict)\n",
    "                 search_params: Optional[faiss.SearchParameters]=None  # faiss search params\n",
    "                ):\n",
    "        \n",
    "        self.k = k\n",
    "        self.faiss_index = faiss_index\n",
    "        self.item_data = item_data\n",
    "        self.item_key = item_key\n",
    "        self.search_params = search_params\n",
    "        \n",
    "    def __call__(self, inputs: List[Query]) -> List[DataSourceResponse]:\n",
    "        query_vectors = np.array([i.embedding for i in inputs])\n",
    "        \n",
    "        distances, indices = self.faiss_index.search(query_vectors, self.k, params=self.search_params)\n",
    "        \n",
    "        outputs = []\n",
    "        for query_idx in range(indices.shape[0]):\n",
    "            result_embeddings = self.faiss_index.reconstruct_batch(indices[query_idx])\n",
    "            items = []\n",
    "            query_data = {'query_distance' : []}\n",
    "            \n",
    "            for result_idx in range(indices.shape[1]):\n",
    "                item_id = indices[query_idx, result_idx]\n",
    "                item_embedding = result_embeddings[result_idx]\n",
    "                query_distance = distances[query_idx, result_idx]\n",
    "                \n",
    "                if item_id != -1:\n",
    "                    item_data = None\n",
    "                    item_value = None\n",
    "                    \n",
    "                    if self.item_data:\n",
    "                        item_data = dict(self.item_data[item_id])\n",
    "                        if self.item_key:\n",
    "                            item_value = item_data.pop(self.item_key)\n",
    "                            \n",
    "                    item = Item(id=item_id,\n",
    "                                item=item_value,\n",
    "                                embedding=item_embedding,\n",
    "                                data=item_data,\n",
    "                                score=None\n",
    "                               )\n",
    "                    items.append(item)\n",
    "                    query_data['query_distance'].append(query_distance)\n",
    "                    \n",
    "            result = DataSourceResponse(valid=bool(items), data=query_data, query_results=items)\n",
    "            outputs.append(result)\n",
    "        return outputs"
   ]
  },
  {
   "cell_type": "code",
   "execution_count": null,
   "metadata": {},
   "outputs": [],
   "source": [
    "n_vectors = 256\n",
    "d_vectors = 64\n",
    "k = 10\n",
    "n_queries = 5\n",
    "\n",
    "vectors = np.random.randn(n_vectors, d_vectors)\n",
    "\n",
    "vector_data = [{'other':np.random.randint(0,1e3), \n",
    "                'item':str(np.random.randint(0,1e4))} \n",
    "               for i in range(vectors.shape[0])]\n",
    "\n",
    "index = faiss.IndexFlatL2(d_vectors)\n",
    "index.add(vectors)\n",
    "\n",
    "data_function = FaissDataPlugin(5, index, vector_data, 'item')\n",
    "data_module = DataSourceModule(data_function)\n",
    "\n",
    "batch = build_batch_from_embeddings(np.random.randn(n_queries, d_vectors))\n",
    "batch2 = data_module(batch)"
   ]
  },
  {
   "cell_type": "code",
   "execution_count": null,
   "metadata": {},
   "outputs": [],
   "source": []
  },
  {
   "cell_type": "code",
   "execution_count": null,
   "metadata": {},
   "outputs": [],
   "source": []
  },
  {
   "cell_type": "code",
   "execution_count": null,
   "metadata": {},
   "outputs": [],
   "source": []
  },
  {
   "cell_type": "code",
   "execution_count": null,
   "metadata": {},
   "outputs": [],
   "source": []
  },
  {
   "cell_type": "code",
   "execution_count": null,
   "metadata": {},
   "outputs": [],
   "source": []
  }
 ],
 "metadata": {
  "kernelspec": {
   "display_name": "emb_opt",
   "language": "python",
   "name": "emb_opt"
  }
 },
 "nbformat": 4,
 "nbformat_minor": 4
}
