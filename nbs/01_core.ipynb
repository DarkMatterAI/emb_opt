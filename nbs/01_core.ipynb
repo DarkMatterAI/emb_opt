{
 "cells": [
  {
   "cell_type": "markdown",
   "metadata": {},
   "source": [
    "# core\n",
    "\n",
    "> core functions"
   ]
  },
  {
   "cell_type": "code",
   "execution_count": null,
   "metadata": {},
   "outputs": [],
   "source": [
    "#| default_exp core"
   ]
  },
  {
   "cell_type": "code",
   "execution_count": null,
   "metadata": {},
   "outputs": [],
   "source": [
    "#| hide\n",
    "from nbdev.showdoc import *\n",
    "%load_ext autoreload\n",
    "%autoreload 2"
   ]
  },
  {
   "cell_type": "code",
   "execution_count": null,
   "metadata": {},
   "outputs": [
    {
     "name": "stderr",
     "output_type": "stream",
     "text": [
      "/home/dmai/miniconda3/envs/emb_opt/lib/python3.9/site-packages/tqdm/auto.py:21: TqdmWarning: IProgress not found. Please update jupyter and ipywidgets. See https://ipywidgets.readthedocs.io/en/stable/user_install.html\n",
      "  from .autonotebook import tqdm as notebook_tqdm\n"
     ]
    }
   ],
   "source": [
    "#| export\n",
    "from emb_opt.imports import *"
   ]
  },
  {
   "cell_type": "code",
   "execution_count": null,
   "metadata": {},
   "outputs": [],
   "source": [
    "#| export\n",
    "class QueryResult():\n",
    "    def __init__(self, \n",
    "                 query_idx: int, \n",
    "                 db_idx: int, \n",
    "                 embedding: np.ndarray, \n",
    "                 distance: float, \n",
    "                 data: dict\n",
    "                ):\n",
    "        self.query_idx = query_idx\n",
    "        self.db_idx = db_idx\n",
    "        self.embedding = embedding\n",
    "        self.distance = distance\n",
    "        self.data = data\n",
    "        \n",
    "    def to_dict(self) -> dict:\n",
    "        return {\n",
    "            'query_idx' : self.query_idx,\n",
    "            'db_idx' : self.db_idx,\n",
    "            'embedding' : self.embedding,\n",
    "            'distance' : self.distance,\n",
    "            'data' : self.data\n",
    "        }"
   ]
  },
  {
   "cell_type": "code",
   "execution_count": null,
   "metadata": {},
   "outputs": [],
   "source": [
    "#| export\n",
    "class QueryDataset(Dataset):\n",
    "    def index_with_query_idx(self, idx: int) -> Dataset:\n",
    "        return self.filter(lambda row: row['query_idx']==idx)\n",
    "    \n",
    "    def pack_with_query_idx(self, idx: int, pack_cols: list[str]) -> dict[str, np.ndarray]:\n",
    "        subset = self.index_with_query_idx(idx)\n",
    "        outputs = {}\n",
    "        for col_name in pack_cols:\n",
    "            outputs[col_name] = np.array(subset[col_name])\n",
    "            \n",
    "        return outputs\n",
    "    \n",
    "    @classmethod\n",
    "    def from_query_results(cls, query_results: list[QueryResult]):\n",
    "        data_dicts = [i.to_dict() for i in query_results]\n",
    "        return cls.from_list(data_dicts)"
   ]
  },
  {
   "cell_type": "code",
   "execution_count": null,
   "metadata": {},
   "outputs": [
    {
     "name": "stderr",
     "output_type": "stream",
     "text": [
      "                                                                                \r"
     ]
    }
   ],
   "source": [
    "query_vecs = np.random.randn(2, 256)\n",
    "\n",
    "vector_database = np.random.randn(32, 256)\n",
    "\n",
    "dists = ((query_vecs[:,None] - vector_database[None])**2).sum(-1)**0.5\n",
    "nearest = dists.argsort(-1)[:, -5:]\n",
    "\n",
    "query_results = []\n",
    "\n",
    "for query_idx in range(query_vecs.shape[0]):\n",
    "    for db_idx in nearest[query_idx]:\n",
    "        result = QueryResult(query_idx, db_idx, vector_database[db_idx], dists[query_idx, db_idx], {})\n",
    "        query_results.append(result)\n",
    "        \n",
    "query_dataset = QueryDataset.from_query_results(query_results)\n",
    "\n",
    "assert query_dataset.pack_with_query_idx(0, ['embedding', 'distance'])['embedding'].shape == (5,256)"
   ]
  },
  {
   "cell_type": "code",
   "execution_count": null,
   "metadata": {},
   "outputs": [],
   "source": [
    "#| export\n",
    "class Filter():\n",
    "    def __init__(self, \n",
    "                 filter_func: Callable,\n",
    "                 filter_kwargs_dict: Optional[dict]=None\n",
    "                ):\n",
    "        self.filter_func = filter_func\n",
    "        self.filter_kwargs_dict = filter_kwargs_dict if filter_kwargs_dict else {}\n",
    "        \n",
    "    def __call__(self, query_dataset:QueryDataset) -> QueryDataset:\n",
    "        return query_dataset.filter(lambda item: self.filter_func(item), **self.filter_kwargs_dict)"
   ]
  },
  {
   "cell_type": "code",
   "execution_count": null,
   "metadata": {},
   "outputs": [
    {
     "name": "stderr",
     "output_type": "stream",
     "text": [
      "                                                                                \r"
     ]
    }
   ],
   "source": [
    "query_vecs = np.random.randn(2, 256)\n",
    "\n",
    "vector_database = np.random.randn(64, 256)\n",
    "\n",
    "dists = ((query_vecs[:,None] - vector_database[None])**2).sum(-1)**0.5\n",
    "nearest = dists.argsort(-1)[:, -24:]\n",
    "\n",
    "query_results = []\n",
    "\n",
    "for query_idx in range(query_vecs.shape[0]):\n",
    "    for db_idx in nearest[query_idx]:\n",
    "        result = {\n",
    "            'query_idx' : query_idx,\n",
    "            'db_idx' : db_idx,\n",
    "            'embedding' : vector_database[db_idx],\n",
    "            'distance' : dists[query_idx, db_idx],\n",
    "            'data' : {'randint': np.random.randint(0,100)}\n",
    "        }\n",
    "\n",
    "        query_results.append(result)\n",
    "        \n",
    "query_dataset = QueryDataset.from_list(query_results)\n",
    "\n",
    "def simple_filter(row):\n",
    "    return row['data']['randint'] < 20\n",
    "\n",
    "f = Filter(simple_filter)\n",
    "filtered_dataset = f(query_dataset)\n",
    "assert len(filtered_dataset) < len(query_dataset)\n",
    "\n",
    "f = Filter(simple_filter, {'num_proc':2})\n",
    "filtered_dataset = f(query_dataset)\n",
    "assert len(filtered_dataset) < len(query_dataset)\n",
    "\n",
    "def batched_filter(batch):\n",
    "    randints = np.array([i['randint'] for i in batch['data']])\n",
    "    return randints < 20\n",
    "\n",
    "f = Filter(batched_filter, {'batched':True})\n",
    "filtered_dataset = f(query_dataset)\n",
    "assert len(filtered_dataset) < len(query_dataset)"
   ]
  },
  {
   "cell_type": "code",
   "execution_count": null,
   "metadata": {},
   "outputs": [],
   "source": []
  },
  {
   "cell_type": "code",
   "execution_count": null,
   "metadata": {},
   "outputs": [],
   "source": [
    "#| hide\n",
    "import nbdev; nbdev.nbdev_export()"
   ]
  },
  {
   "cell_type": "code",
   "execution_count": null,
   "metadata": {},
   "outputs": [],
   "source": []
  },
  {
   "cell_type": "code",
   "execution_count": null,
   "metadata": {},
   "outputs": [],
   "source": []
  }
 ],
 "metadata": {
  "kernelspec": {
   "display_name": "emb_opt",
   "language": "python",
   "name": "emb_opt"
  }
 },
 "nbformat": 4,
 "nbformat_minor": 4
}
