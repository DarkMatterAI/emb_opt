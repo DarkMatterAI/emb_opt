{
 "cells": [
  {
   "cell_type": "markdown",
   "metadata": {},
   "source": [
    "# filters\n",
    "\n",
    "> filter functions"
   ]
  },
  {
   "cell_type": "code",
   "execution_count": null,
   "metadata": {},
   "outputs": [],
   "source": [
    "#| default_exp filter"
   ]
  },
  {
   "cell_type": "code",
   "execution_count": null,
   "metadata": {},
   "outputs": [],
   "source": [
    "#| hide\n",
    "from nbdev.showdoc import *\n",
    "%load_ext autoreload\n",
    "%autoreload 2"
   ]
  },
  {
   "cell_type": "code",
   "execution_count": null,
   "metadata": {},
   "outputs": [
    {
     "name": "stderr",
     "output_type": "stream",
     "text": [
      "/home/dmai/miniconda3/envs/emb_opt/lib/python3.9/site-packages/tqdm/auto.py:21: TqdmWarning: IProgress not found. Please update jupyter and ipywidgets. See https://ipywidgets.readthedocs.io/en/stable/user_install.html\n",
      "  from .autonotebook import tqdm as notebook_tqdm\n"
     ]
    }
   ],
   "source": [
    "#| export\n",
    "from emb_opt.imports import *\n",
    "from emb_opt.utils import QueryDataset"
   ]
  },
  {
   "cell_type": "code",
   "execution_count": null,
   "metadata": {},
   "outputs": [],
   "source": [
    "#| export\n",
    "class Filter():\n",
    "    def __init__(self, \n",
    "                 filter_func: Callable,\n",
    "                 filter_kwargs_dict: Optional[dict]=None\n",
    "                ):\n",
    "        self.filter_func = filter_func\n",
    "        self.filter_kwargs_dict = filter_kwargs_dict if filter_kwargs_dict else {}\n",
    "        \n",
    "    def __call__(self, query_dataset:QueryDataset) -> QueryDataset:\n",
    "        return query_dataset.filter(lambda item: self.filter_func(item), **self.filter_kwargs_dict)"
   ]
  },
  {
   "cell_type": "code",
   "execution_count": null,
   "metadata": {},
   "outputs": [
    {
     "name": "stderr",
     "output_type": "stream",
     "text": [
      "                                                                                \r"
     ]
    }
   ],
   "source": [
    "query_vecs = np.random.randn(2, 256)\n",
    "\n",
    "vector_database = np.random.randn(64, 256)\n",
    "\n",
    "dists = ((query_vecs[:,None] - vector_database[None])**2).sum(-1)**0.5\n",
    "nearest = dists.argsort(-1)[:, -24:]\n",
    "\n",
    "query_results = []\n",
    "\n",
    "for query_idx in range(query_vecs.shape[0]):\n",
    "    for db_idx in nearest[query_idx]:\n",
    "        result = {\n",
    "            'query_idx' : query_idx,\n",
    "            'db_idx' : db_idx,\n",
    "            'embedding' : vector_database[db_idx],\n",
    "            'distance' : dists[query_idx, db_idx],\n",
    "            'data' : {'randint': np.random.randint(0,100)}\n",
    "        }\n",
    "\n",
    "        query_results.append(result)\n",
    "        \n",
    "query_dataset = QueryDataset.from_list(query_results)\n",
    "\n",
    "def simple_filter(row):\n",
    "    return row['data']['randint'] < 20\n",
    "\n",
    "f = Filter(simple_filter)\n",
    "filtered_dataset = f(query_dataset)\n",
    "assert len(filtered_dataset) < len(query_dataset)\n",
    "\n",
    "f = Filter(simple_filter, {'num_proc':2})\n",
    "filtered_dataset = f(query_dataset)\n",
    "assert len(filtered_dataset) < len(query_dataset)\n",
    "\n",
    "def batched_filter(batch):\n",
    "    randints = np.array([i['randint'] for i in batch['data']])\n",
    "    return randints < 20\n",
    "\n",
    "f = Filter(batched_filter, {'batched':True})\n",
    "filtered_dataset = f(query_dataset)\n",
    "assert len(filtered_dataset) < len(query_dataset)"
   ]
  },
  {
   "cell_type": "code",
   "execution_count": null,
   "metadata": {},
   "outputs": [],
   "source": []
  },
  {
   "cell_type": "code",
   "execution_count": null,
   "metadata": {},
   "outputs": [],
   "source": [
    "#| hide\n",
    "import nbdev; nbdev.nbdev_export()"
   ]
  },
  {
   "cell_type": "code",
   "execution_count": null,
   "metadata": {},
   "outputs": [],
   "source": []
  },
  {
   "cell_type": "code",
   "execution_count": null,
   "metadata": {},
   "outputs": [],
   "source": []
  }
 ],
 "metadata": {
  "kernelspec": {
   "display_name": "emb_opt",
   "language": "python",
   "name": "emb_opt"
  }
 },
 "nbformat": 4,
 "nbformat_minor": 4
}
