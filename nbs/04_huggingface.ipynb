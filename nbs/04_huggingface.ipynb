{
 "cells": [
  {
   "cell_type": "markdown",
   "metadata": {},
   "source": [
    "# huggingface\n",
    "\n",
    "> huggingface backend API"
   ]
  },
  {
   "cell_type": "code",
   "execution_count": null,
   "metadata": {},
   "outputs": [],
   "source": [
    "#| default_exp backends.hf"
   ]
  },
  {
   "cell_type": "code",
   "execution_count": null,
   "metadata": {},
   "outputs": [],
   "source": [
    "#| hide\n",
    "from nbdev.showdoc import *\n",
    "%load_ext autoreload\n",
    "%autoreload 2"
   ]
  },
  {
   "cell_type": "code",
   "execution_count": null,
   "metadata": {},
   "outputs": [
    {
     "name": "stderr",
     "output_type": "stream",
     "text": [
      "/home/dmai/miniconda3/envs/emb_opt/lib/python3.9/site-packages/tqdm/auto.py:21: TqdmWarning: IProgress not found. Please update jupyter and ipywidgets. See https://ipywidgets.readthedocs.io/en/stable/user_install.html\n",
      "  from .autonotebook import tqdm as notebook_tqdm\n"
     ]
    }
   ],
   "source": [
    "#| export\n",
    "from emb_opt.imports import *\n",
    "from emb_opt.core import QueryResult, VectorDatabase, dataset_from_query_results"
   ]
  },
  {
   "cell_type": "code",
   "execution_count": null,
   "metadata": {},
   "outputs": [],
   "source": [
    "#| export\n",
    "\n",
    "class HFDatabase(VectorDatabase):\n",
    "    def __init__(self, \n",
    "                 dataset: Dataset,\n",
    "                 index_name: str,\n",
    "                 k: int, \n",
    "                ):\n",
    "        \n",
    "        self.dataset = dataset\n",
    "        self.index_name = index_name\n",
    "        self.k = k\n",
    "        \n",
    "    def query(self, query_vectors: np.ndarray) -> Dataset:\n",
    "        \n",
    "        index = self.dataset.get_index(self.index_name)\n",
    "        \n",
    "        res = index.search_batch(query_vectors, k=self.k)\n",
    "        distances = res.total_scores\n",
    "        indices = res.total_indices\n",
    "        \n",
    "        n_queries, n_results = indices.shape\n",
    "        \n",
    "        results = []\n",
    "        for query_idx in range(n_queries):\n",
    "            for result_idx in range(n_results):\n",
    "                db_idx = indices[query_idx, result_idx]\n",
    "                \n",
    "                data_dict = self.dataset[int(db_idx)]\n",
    "                embedding = data_dict.pop(self.index_name)\n",
    "                \n",
    "                distance = distances[query_idx, result_idx]\n",
    "                \n",
    "                result = QueryResult(query_idx, db_idx, embedding, distance, data_dict)\n",
    "                results.append(result)\n",
    "                \n",
    "        return dataset_from_query_results(results)"
   ]
  },
  {
   "cell_type": "code",
   "execution_count": null,
   "metadata": {},
   "outputs": [],
   "source": []
  },
  {
   "cell_type": "code",
   "execution_count": null,
   "metadata": {},
   "outputs": [
    {
     "name": "stderr",
     "output_type": "stream",
     "text": [
      "100%|███████████████████████████████████████████| 1/1 [00:00<00:00, 2542.00it/s]\n"
     ]
    }
   ],
   "source": [
    "vectors = np.random.randn(64, 256)\n",
    "dataset = Dataset.from_list([{'embedding':i} for i in vectors])\n",
    "dataset.add_faiss_index('embedding')\n",
    "\n",
    "hf_db = HFDatabase(dataset, 'embedding', 5)\n",
    "\n",
    "query_vecs = np.random.randn(2, 256)\n",
    "query_dataset = hf_db.query(query_vecs)"
   ]
  },
  {
   "cell_type": "code",
   "execution_count": null,
   "metadata": {},
   "outputs": [],
   "source": []
  },
  {
   "cell_type": "code",
   "execution_count": null,
   "metadata": {},
   "outputs": [],
   "source": [
    "#| hide\n",
    "import nbdev; nbdev.nbdev_export()"
   ]
  },
  {
   "cell_type": "code",
   "execution_count": null,
   "metadata": {},
   "outputs": [],
   "source": []
  }
 ],
 "metadata": {
  "kernelspec": {
   "display_name": "emb_opt",
   "language": "python",
   "name": "emb_opt"
  }
 },
 "nbformat": 4,
 "nbformat_minor": 4
}
